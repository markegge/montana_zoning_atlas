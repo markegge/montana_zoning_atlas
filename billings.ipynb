{
 "cells": [
  {
   "cell_type": "markdown",
   "metadata": {},
   "source": [
    "# Billings\n",
    "\n",
    "Zoning Data Layer: https://billingsgis.com/arcgis_public/rest/services/ArcOnline_Public/COB_Zoning/MapServer/4\n",
    "\n",
    "Note: a bit of manual clean up is required to remove the parcels near Laurel"
   ]
  },
  {
   "cell_type": "markdown",
   "metadata": {},
   "source": [
    "This is intended to be run in the middle of data_prep.ipynb. If running standalone, run the first two cells of `data_prep.ipynb` first."
   ]
  },
  {
   "cell_type": "code",
   "execution_count": 37,
   "metadata": {},
   "outputs": [],
   "source": [
    "city = cities[index_of('Billings')]\n"
   ]
  },
  {
   "cell_type": "code",
   "execution_count": 38,
   "metadata": {},
   "outputs": [
    {
     "data": {
      "text/plain": [
       "{'name': 'Billings', 'zoning_field': 'ZONE_CODE', 'county': 'Yellowstone', 'residential_zones': ['N1', 'N2', 'N3', 'NX1', 'NX2', 'NX3', 'RMH'], 'gdb': 'cities\\\\Billings.gdb', 'layer': 'cities\\\\Billings.gdb\\\\Parcels_Billings'}"
      ]
     },
     "execution_count": 38,
     "metadata": {},
     "output_type": "execute_result"
    }
   ],
   "source": [
    "city"
   ]
  },
  {
   "cell_type": "code",
   "execution_count": 31,
   "metadata": {},
   "outputs": [
    {
     "data": {
      "text/html": [
       "<h2>Output</h2>cities\\Billings.gdb\\Parcels_Billings<h2>Messages</h2>Start Time: Saturday, February 12, 2022 5:09:38 PM<br/>Adding zoning_allows to Parcels_Billings...<br/>Succeeded at Saturday, February 12, 2022 5:10:11 PM (Elapsed Time: 33.21 seconds)<br/><style>.rendered_html td, .rendered_html th {text-align: left;}.rendered_html tbody {border: 1px solid black;}</style>"
      ],
      "text/plain": [
       "<Result 'cities\\\\Billings.gdb\\\\Parcels_Billings'>"
      ]
     },
     "execution_count": 31,
     "metadata": {},
     "output_type": "execute_result"
    }
   ],
   "source": [
    "# units allowed by underlying zoning\n",
    "codeblock = \"\"\"\n",
    "def eval_zoning(zone):\n",
    "    if zone in ['N3', 'RMH']:\n",
    "        return 1\n",
    "    elif zone in ['N1', 'N2']:\n",
    "        return 2\n",
    "    elif zone in ['NX1']:\n",
    "        return 4\n",
    "    elif zone in ['NX2', 'NX3']:\n",
    "        return 5\n",
    "    else:\n",
    "        return 0\n",
    "\"\"\"\n",
    "\n",
    "arcpy.management.CalculateField(\n",
    "    city['layer'], \n",
    "    \"zoning_allows\", \n",
    "    \"eval_zoning(!zoning!)\", \n",
    "    \"PYTHON3\", \n",
    "    codeblock, \n",
    "    \"SHORT\"\n",
    ")"
   ]
  },
  {
   "cell_type": "code",
   "execution_count": 32,
   "metadata": {},
   "outputs": [
    {
     "data": {
      "text/html": [
       "<h2>Output</h2>cities\\Billings.gdb\\Parcels_Billings<h2>Messages</h2>Start Time: Saturday, February 12, 2022 5:10:14 PM<br/>Adding lot_size_allows to Parcels_Billings...<br/>Succeeded at Saturday, February 12, 2022 5:10:19 PM (Elapsed Time: 5.75 seconds)<br/><style>.rendered_html td, .rendered_html th {text-align: left;}.rendered_html tbody {border: 1px solid black;}</style>"
      ],
      "text/plain": [
       "<Result 'cities\\\\Billings.gdb\\\\Parcels_Billings'>"
      ]
     },
     "execution_count": 32,
     "metadata": {},
     "output_type": "execute_result"
    }
   ],
   "source": [
    "codeblock = \"\"\"\n",
    "def eval_zoning(zone, lot_size):\n",
    "    return 5\n",
    "\"\"\"\n",
    "\n",
    "arcpy.management.CalculateField(\n",
    "    city['layer'], \n",
    "    \"lot_size_allows\", \n",
    "    \"eval_zoning(!zoning!, !lot_size!)\", \n",
    "    \"PYTHON3\", \n",
    "    codeblock, \n",
    "    \"SHORT\"\n",
    ")"
   ]
  },
  {
   "cell_type": "code",
   "execution_count": 39,
   "metadata": {},
   "outputs": [
    {
     "data": {
      "text/html": [
       "<h2>Output</h2>cities\\Billings.gdb\\Parcels_Billings<h2>Messages</h2>Start Time: Saturday, February 12, 2022 5:16:38 PM<br/>Succeeded at Saturday, February 12, 2022 5:16:41 PM (Elapsed Time: 3.05 seconds)<br/><style>.rendered_html td, .rendered_html th {text-align: left;}.rendered_html tbody {border: 1px solid black;}</style>"
      ],
      "text/plain": [
       "<Result 'cities\\\\Billings.gdb\\\\Parcels_Billings'>"
      ]
     },
     "execution_count": 39,
     "metadata": {},
     "output_type": "execute_result"
    }
   ],
   "source": [
    "codeblock = \"\"\"\n",
    "def eval_zoning(zone, lot_width):\n",
    "    if zone == 'N1' and lot_width >= 20:\n",
    "        return 2\n",
    "    elif zone == 'N2':\n",
    "        if lot_width >= 50:\n",
    "            return 2\n",
    "        else:\n",
    "            return 0\n",
    "    elif zone == 'N3':\n",
    "        if lot_width >= 65:\n",
    "            return 1\n",
    "        else:\n",
    "            return 0\n",
    "    elif zone == 'NX1':\n",
    "        if lot_width >= 50:\n",
    "            return 4\n",
    "        elif lot_width >= 20:\n",
    "            return 2\n",
    "        else:\n",
    "            return 0\n",
    "    elif zone == 'NX2':\n",
    "        if lot_width >= 50:\n",
    "            return 5\n",
    "        elif lot_width >= 20:\n",
    "            return 2\n",
    "        else:\n",
    "            return 0\n",
    "    elif zone == 'NX3':\n",
    "        if lot_width >= 50:\n",
    "            return 5\n",
    "        else:\n",
    "            return 0\n",
    "    else:\n",
    "        return 0\n",
    "\"\"\"\n",
    "\n",
    "arcpy.management.CalculateField(\n",
    "    city['layer'], \n",
    "    \"lot_width_allows\", \n",
    "    \"eval_zoning(!zoning!, !lot_width!)\", \n",
    "    \"PYTHON3\", \n",
    "    codeblock, \n",
    "    \"SHORT\"\n",
    ")"
   ]
  },
  {
   "cell_type": "code",
   "execution_count": 40,
   "metadata": {},
   "outputs": [
    {
     "data": {
      "text/html": [
       "<h2>Output</h2>cities\\Billings.gdb\\Parcels_Billings<h2>Messages</h2>Start Time: Saturday, February 12, 2022 5:16:47 PM<br/>Adding category to Parcels_Billings...<br/>Succeeded at Saturday, February 12, 2022 5:16:57 PM (Elapsed Time: 9.76 seconds)<br/><style>.rendered_html td, .rendered_html th {text-align: left;}.rendered_html tbody {border: 1px solid black;}</style>"
      ],
      "text/plain": [
       "<Result 'cities\\\\Billings.gdb\\\\Parcels_Billings'>"
      ]
     },
     "execution_count": 40,
     "metadata": {},
     "output_type": "execute_result"
    }
   ],
   "source": [
    "codeblock = \"\"\"\n",
    "def categorize(zone):\n",
    "    if zone in ['N1', 'N2', 'NX1', 'NX2', 'NX3']:\n",
    "        return \"Multifamily\"\n",
    "    elif zone in ['N3', 'RMH']:\n",
    "        return \"Single-Family\"\n",
    "    else:\n",
    "        return \"Unknown\"\n",
    "\"\"\"\n",
    "arcpy.management.CalculateField(\n",
    "    city['layer'], \n",
    "    \"category\", \n",
    "    \"categorize(!zoning!)\",\n",
    "    \"PYTHON3\",\n",
    "    codeblock,\n",
    "    \"TEXT\"\n",
    ")"
   ]
  },
  {
   "cell_type": "code",
   "execution_count": null,
   "metadata": {},
   "outputs": [],
   "source": []
  }
 ],
 "metadata": {
  "kernelspec": {
   "display_name": "ArcGISPro",
   "language": "Python",
   "name": "python3"
  },
  "language_info": {
   "file_extension": ".py",
   "name": "python",
   "version": "3"
  }
 },
 "nbformat": 4,
 "nbformat_minor": 2
}
