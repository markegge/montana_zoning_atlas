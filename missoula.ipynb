{
 "cells": [
  {
   "cell_type": "markdown",
   "metadata": {},
   "source": [
    "1. Add the \"OwnerParcel\" layer from the parcels GDB for the city\n",
    "2. Add the zoning layer"
   ]
  },
  {
   "cell_type": "code",
   "execution_count": 83,
   "metadata": {},
   "outputs": [
    {
     "data": {
      "text/plain": [
       "{'name': 'Missoula', 'zoning_field': 'Zoning', 'county': 'Missoula', 'residential_zones': ['R215', 'R80', 'R40', 'R20', 'RT10', 'R8', 'R5.4', 'RT5.4', 'R3', 'RT2.7', 'RM2.7', 'RM2', 'RM1.5', 'RM1', 'RM0.5', 'RMH'], 'gdb': 'cities\\\\Missoula.gdb', 'layer': 'cities\\\\Missoula.gdb\\\\Parcels_Missoula'}"
      ]
     },
     "execution_count": 83,
     "metadata": {},
     "output_type": "execute_result"
    }
   ],
   "source": [
    "city = cities[index_of('Missoula')]\n",
    "city"
   ]
  },
  {
   "cell_type": "code",
   "execution_count": 84,
   "metadata": {},
   "outputs": [
    {
     "data": {
      "text/html": [
       "<h2>Output</h2>cities\\Missoula.gdb\\Parcels_Missoula<h2>Messages</h2>Start Time: Saturday, February 12, 2022 5:27:49 PM<br/>Succeeded at Saturday, February 12, 2022 5:27:51 PM (Elapsed Time: 1.42 seconds)<br/><style>.rendered_html td, .rendered_html th {text-align: left;}.rendered_html tbody {border: 1px solid black;}</style>"
      ],
      "text/plain": [
       "<Result 'cities\\\\Missoula.gdb\\\\Parcels_Missoula'>"
      ]
     },
     "execution_count": 84,
     "metadata": {},
     "output_type": "execute_result"
    }
   ],
   "source": [
    "codeblock = \"\"\"\n",
    "def eval_zoning(zone):\n",
    "    if zone in ['R215', 'R80', 'R40', 'R20', 'R8', 'R5.4']:\n",
    "        return 1\n",
    "    elif zone in ['RT10', 'RT5.4', 'RT2.7']:\n",
    "        return 2\n",
    "    elif zone in ['RM2.7', 'RM2', 'RM1.5', 'RM1', 'RM0.5', 'RMH']:\n",
    "        return 5\n",
    "    else:\n",
    "        return 0\n",
    "\"\"\"\n",
    "\n",
    "arcpy.management.CalculateField(\n",
    "    city['layer'], \n",
    "    \"zoning_allows\", \n",
    "    \"eval_zoning(!zoning!)\", \n",
    "    \"PYTHON3\", \n",
    "    codeblock, \n",
    "    \"SHORT\"\n",
    ")"
   ]
  },
  {
   "cell_type": "code",
   "execution_count": 85,
   "metadata": {},
   "outputs": [
    {
     "data": {
      "text/html": [
       "<h2>Output</h2>cities\\Missoula.gdb\\Parcels_Missoula<h2>Messages</h2>Start Time: Saturday, February 12, 2022 5:27:52 PM<br/>Succeeded at Saturday, February 12, 2022 5:27:53 PM (Elapsed Time: 1.49 seconds)<br/><style>.rendered_html td, .rendered_html th {text-align: left;}.rendered_html tbody {border: 1px solid black;}</style>"
      ],
      "text/plain": [
       "<Result 'cities\\\\Missoula.gdb\\\\Parcels_Missoula'>"
      ]
     },
     "execution_count": 85,
     "metadata": {},
     "output_type": "execute_result"
    }
   ],
   "source": [
    "codeblock = \"\"\"\n",
    "def eval_zoning(zone, lot_size):\n",
    "    if zone == 'RT-10' and lot_size >= 20000:\n",
    "        return 2\n",
    "    elif zone == 'RT5.4' and lot_size >= 10800:\n",
    "        return 2\n",
    "    elif zone == 'RT2.7' and lot_size >= 5400:\n",
    "        return 2\n",
    "    elif zone == 'RM2.7':\n",
    "        return min(max(1, math.floor(lot_size / 2700)), 5)\n",
    "    elif zone == 'RM2':\n",
    "        return min(max(1, math.floor(lot_size / 2000)), 5)\n",
    "    elif zone == 'RM1.5':\n",
    "        return min(max(1, math.floor(lot_size / 1500)), 5)\n",
    "    elif zone in ['RM1', 'RHM']:\n",
    "        return min(max(1, math.floor(lot_size / 1000)), 5)\n",
    "    elif zone == 'RM0.5':\n",
    "        return min(max(1, math.floor(lot_size / 500)), 5)\n",
    "    else:\n",
    "        return 1\n",
    "\"\"\"\n",
    "\n",
    "arcpy.management.CalculateField(\n",
    "    city['layer'], \n",
    "    \"lot_size_allows\", \n",
    "    \"eval_zoning(!zoning!, !lot_size!)\", \n",
    "    \"PYTHON3\", \n",
    "    codeblock, \n",
    "    \"SHORT\"\n",
    ")"
   ]
  },
  {
   "cell_type": "code",
   "execution_count": 86,
   "metadata": {},
   "outputs": [
    {
     "data": {
      "text/html": [
       "<h2>Output</h2>cities\\Missoula.gdb\\Parcels_Missoula<h2>Messages</h2>Start Time: Saturday, February 12, 2022 5:27:54 PM<br/>Succeeded at Saturday, February 12, 2022 5:27:56 PM (Elapsed Time: 1.54 seconds)<br/><style>.rendered_html td, .rendered_html th {text-align: left;}.rendered_html tbody {border: 1px solid black;}</style>"
      ],
      "text/plain": [
       "<Result 'cities\\\\Missoula.gdb\\\\Parcels_Missoula'>"
      ]
     },
     "execution_count": 86,
     "metadata": {},
     "output_type": "execute_result"
    }
   ],
   "source": [
    "codeblock = \"\"\"\n",
    "def eval_zoning(zone, lot_width):\n",
    "    return 5\n",
    "\"\"\"\n",
    "\n",
    "arcpy.management.CalculateField(\n",
    "    city['layer'], \n",
    "    \"lot_width_allows\", \n",
    "    \"eval_zoning(!zoning!, !lot_width!)\", \n",
    "    \"PYTHON3\", \n",
    "    codeblock, \n",
    "    \"SHORT\"\n",
    ")"
   ]
  },
  {
   "cell_type": "code",
   "execution_count": 87,
   "metadata": {},
   "outputs": [
    {
     "data": {
      "text/html": [
       "<h2>Output</h2>cities\\Missoula.gdb\\Parcels_Missoula<h2>Messages</h2>Start Time: Saturday, February 12, 2022 5:28:00 PM<br/>Succeeded at Saturday, February 12, 2022 5:28:01 PM (Elapsed Time: 1.30 seconds)<br/><style>.rendered_html td, .rendered_html th {text-align: left;}.rendered_html tbody {border: 1px solid black;}</style>"
      ],
      "text/plain": [
       "<Result 'cities\\\\Missoula.gdb\\\\Parcels_Missoula'>"
      ]
     },
     "execution_count": 87,
     "metadata": {},
     "output_type": "execute_result"
    }
   ],
   "source": [
    "codeblock = \"\"\"\n",
    "def categorize(zone):\n",
    "    if zone in ['RT10', 'RT5.4', 'RT2.7', 'RM2.7',\n",
    "    'RM2', 'RM1.5', 'RM1', 'RM0.5', 'RMH']:\n",
    "        return \"Penalized Multifamily\"\n",
    "    elif zone in []:\n",
    "        return \"Multifamily\"\n",
    "    else:\n",
    "        return \"Single-Family\"\n",
    "\"\"\"\n",
    "arcpy.management.CalculateField(\n",
    "    city['layer'], \n",
    "    \"category\", \n",
    "    \"categorize(!zoning!)\",\n",
    "    \"PYTHON3\",\n",
    "    codeblock,\n",
    "    \"TEXT\"\n",
    ")"
   ]
  },
  {
   "cell_type": "code",
   "execution_count": null,
   "metadata": {},
   "outputs": [],
   "source": []
  }
 ],
 "metadata": {
  "kernelspec": {
   "display_name": "ArcGISPro",
   "language": "Python",
   "name": "python3"
  },
  "language_info": {
   "file_extension": ".py",
   "name": "python",
   "version": "3"
  }
 },
 "nbformat": 4,
 "nbformat_minor": 2
}
