{
 "cells": [
  {
   "cell_type": "markdown",
   "metadata": {},
   "source": [
    "# Missoula\n",
    "\n",
    "Zoning Source: https://services.arcgis.com/HfwHS0BxZBQ1E5DY/arcgis/rest/services/Zoning_and_Land_Use_mso/FeatureServer/0/\n",
    "\n",
    "Note, There are two versions of the RM1 district: RM1-35 and RM1-45. Whenever this ordinance refers to the 'RM1' district, the reference is referring to both the RM1-35 and RM1-45 districts."
   ]
  },
  {
   "cell_type": "markdown",
   "metadata": {},
   "source": [
    "1. Add the \"OwnerParcel\" layer from the parcels GDB for the city\n",
    "2. Add the zoning layer"
   ]
  },
  {
   "cell_type": "code",
   "execution_count": 13,
   "metadata": {},
   "outputs": [
    {
     "data": {
      "text/plain": [
       "{'name': 'Missoula', 'zoning_field': 'Zoning', 'county': 'Missoula', 'residential_zones': ['R215', 'R80', 'R40', 'R20', 'RT10', 'R8', 'R5.4', 'RT5.4', 'R3', 'RT2.7', 'RM2.7', 'RM2', 'RM1.5', 'RM1', 'RM1-35', 'RM1-45', 'RM0.5', 'RMH'], 'gdb': 'cities\\\\Missoula.gdb', 'layer': 'cities\\\\Missoula.gdb\\\\Parcels_Missoula'}"
      ]
     },
     "execution_count": 13,
     "metadata": {},
     "output_type": "execute_result"
    }
   ],
   "source": [
    "city = cities[index_of('Missoula')]\n",
    "city"
   ]
  },
  {
   "cell_type": "code",
   "execution_count": 14,
   "metadata": {},
   "outputs": [
    {
     "data": {
      "text/html": [
       "<h2>Output</h2>Y:\\projects\\zoning_atlas\\cities\\Missoula.gdb\\Parcels_Missoula<h2>Messages</h2>Start Time: Monday, February 28, 2022 6:43:53 PM<br/>Adding zoning_allows to Parcels_Missoula...<br/>Succeeded at Monday, February 28, 2022 6:43:56 PM (Elapsed Time: 2.85 seconds)<br/><style>.rendered_html td, .rendered_html th {text-align: left;}.rendered_html tbody {border: 1px solid black;}</style>"
      ],
      "text/plain": [
       "<Result 'Y:\\\\projects\\\\zoning_atlas\\\\cities\\\\Missoula.gdb\\\\Parcels_Missoula'>"
      ]
     },
     "execution_count": 14,
     "metadata": {},
     "output_type": "execute_result"
    }
   ],
   "source": [
    "codeblock = \"\"\"\n",
    "def eval_zoning(zone):\n",
    "    if zone in ['R215', 'R80', 'R40', 'R20', 'R8', 'R5.4']:\n",
    "        return 1\n",
    "    elif zone in ['RT10', 'RT5.4', 'RT2.7']:\n",
    "        return 2\n",
    "    elif zone in ['RM2.7', 'RM2', 'RM1.5', 'RM1', 'RM1-35', \n",
    "                  'RM1-45','RM0.5', 'RMH']:\n",
    "        return 5\n",
    "    else:\n",
    "        return 0\n",
    "\"\"\"\n",
    "\n",
    "arcpy.management.CalculateField(\n",
    "    city['layer'], \n",
    "    \"zoning_allows\", \n",
    "    \"eval_zoning(!zoning!)\", \n",
    "    \"PYTHON3\", \n",
    "    codeblock, \n",
    "    \"SHORT\"\n",
    ")"
   ]
  },
  {
   "cell_type": "code",
   "execution_count": 15,
   "metadata": {},
   "outputs": [
    {
     "data": {
      "text/html": [
       "<h2>Output</h2>Y:\\projects\\zoning_atlas\\cities\\Missoula.gdb\\Parcels_Missoula<h2>Messages</h2>Start Time: Monday, February 28, 2022 6:44:12 PM<br/>Adding lot_size_allows to Parcels_Missoula...<br/>Succeeded at Monday, February 28, 2022 6:44:16 PM (Elapsed Time: 3.27 seconds)<br/><style>.rendered_html td, .rendered_html th {text-align: left;}.rendered_html tbody {border: 1px solid black;}</style>"
      ],
      "text/plain": [
       "<Result 'Y:\\\\projects\\\\zoning_atlas\\\\cities\\\\Missoula.gdb\\\\Parcels_Missoula'>"
      ]
     },
     "execution_count": 15,
     "metadata": {},
     "output_type": "execute_result"
    }
   ],
   "source": [
    "codeblock = \"\"\"\n",
    "def eval_zoning(zone, lot_size):\n",
    "    if zone == 'RT-10' and lot_size >= 20000:\n",
    "        return 2\n",
    "    elif zone == 'RT5.4' and lot_size >= 10800:\n",
    "        return 2\n",
    "    elif zone == 'RT2.7' and lot_size >= 5400:\n",
    "        return 2\n",
    "    elif zone == 'RM2.7':\n",
    "        return min(max(1, math.floor(lot_size / 2700)), 5)\n",
    "    elif zone == 'RM2':\n",
    "        return min(max(1, math.floor(lot_size / 2000)), 5)\n",
    "    elif zone == 'RM1.5':\n",
    "        return min(max(1, math.floor(lot_size / 1500)), 5)\n",
    "    elif zone in ['RM1', 'RM1-35', 'RM1-45', 'RHM']:\n",
    "        return min(max(1, math.floor(lot_size / 1000)), 5)\n",
    "    elif zone == 'RM0.5':\n",
    "        return min(max(1, math.floor(lot_size / 500)), 5)\n",
    "    else:\n",
    "        return 1\n",
    "\"\"\"\n",
    "\n",
    "arcpy.management.CalculateField(\n",
    "    city['layer'], \n",
    "    \"lot_size_allows\", \n",
    "    \"eval_zoning(!zoning!, !lot_size!)\", \n",
    "    \"PYTHON3\", \n",
    "    codeblock, \n",
    "    \"SHORT\"\n",
    ")"
   ]
  },
  {
   "cell_type": "code",
   "execution_count": 16,
   "metadata": {},
   "outputs": [
    {
     "data": {
      "text/html": [
       "<h2>Output</h2>Y:\\projects\\zoning_atlas\\cities\\Missoula.gdb\\Parcels_Missoula<h2>Messages</h2>Start Time: Monday, February 28, 2022 6:44:19 PM<br/>Adding lot_width_allows to Parcels_Missoula...<br/>Succeeded at Monday, February 28, 2022 6:44:22 PM (Elapsed Time: 3.00 seconds)<br/><style>.rendered_html td, .rendered_html th {text-align: left;}.rendered_html tbody {border: 1px solid black;}</style>"
      ],
      "text/plain": [
       "<Result 'Y:\\\\projects\\\\zoning_atlas\\\\cities\\\\Missoula.gdb\\\\Parcels_Missoula'>"
      ]
     },
     "execution_count": 16,
     "metadata": {},
     "output_type": "execute_result"
    }
   ],
   "source": [
    "codeblock = \"\"\"\n",
    "def eval_zoning(zone, lot_width):\n",
    "    return 5\n",
    "\"\"\"\n",
    "\n",
    "arcpy.management.CalculateField(\n",
    "    city['layer'], \n",
    "    \"lot_width_allows\", \n",
    "    \"eval_zoning(!zoning!, !lot_width!)\", \n",
    "    \"PYTHON3\", \n",
    "    codeblock, \n",
    "    \"SHORT\"\n",
    ")"
   ]
  },
  {
   "cell_type": "code",
   "execution_count": 17,
   "metadata": {},
   "outputs": [
    {
     "data": {
      "text/html": [
       "<h2>Output</h2>Y:\\projects\\zoning_atlas\\cities\\Missoula.gdb\\Parcels_Missoula<h2>Messages</h2>Start Time: Monday, February 28, 2022 6:45:09 PM<br/>Adding category to Parcels_Missoula...<br/>Succeeded at Monday, February 28, 2022 6:45:15 PM (Elapsed Time: 6.27 seconds)<br/><style>.rendered_html td, .rendered_html th {text-align: left;}.rendered_html tbody {border: 1px solid black;}</style>"
      ],
      "text/plain": [
       "<Result 'Y:\\\\projects\\\\zoning_atlas\\\\cities\\\\Missoula.gdb\\\\Parcels_Missoula'>"
      ]
     },
     "execution_count": 17,
     "metadata": {},
     "output_type": "execute_result"
    }
   ],
   "source": [
    "codeblock = \"\"\"\n",
    "def categorize(zone):\n",
    "    if zone in ['RT10', 'RT5.4', 'RT2.7', 'RM2.7',\n",
    "    'RM2', 'RM1.5', 'RM1', 'RM1-35', 'RM1-45', 'RM0.5', 'RMH']:\n",
    "        return \"Penalized Multifamily\"\n",
    "    elif zone in []:\n",
    "        return \"Multifamily\"\n",
    "    else:\n",
    "        return \"Single-Family\"\n",
    "\"\"\"\n",
    "arcpy.management.CalculateField(\n",
    "    city['layer'], \n",
    "    \"category\", \n",
    "    \"categorize(!zoning!)\",\n",
    "    \"PYTHON3\",\n",
    "    codeblock,\n",
    "    \"TEXT\"\n",
    ")"
   ]
  },
  {
   "cell_type": "code",
   "execution_count": null,
   "metadata": {},
   "outputs": [],
   "source": []
  }
 ],
 "metadata": {
  "kernelspec": {
   "display_name": "ArcGISPro",
   "language": "Python",
   "name": "python3"
  },
  "language_info": {
   "file_extension": ".py",
   "name": "python",
   "version": "3"
  }
 },
 "nbformat": 4,
 "nbformat_minor": 2
}
