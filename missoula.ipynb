{
 "cells": [
  {
   "cell_type": "markdown",
   "metadata": {},
   "source": [
    "1. Add the \"OwnerParcel\" layer from the parcels GDB for the city\n",
    "2. Add the zoning layer"
   ]
  },
  {
   "cell_type": "code",
   "execution_count": 50,
   "metadata": {},
   "outputs": [],
   "source": [
    "city = 'Missoula'\n",
    "zone_field = 'Zoning'\n",
    "source_parcels = r'shp\\Missoula_GDB\\Missoula_Parcels.gdb\\OwnerParcel'\n",
    "source_zoning = r'shp\\zoning.gdb\\missoula'\n",
    "\n",
    "import os\n",
    "import shutil\n",
    "gdb = os.path.join('shp', city + '.gdb')\n",
    "spatial_join_layer = \"OwnerParcel_SpatialJoin_\" + city"
   ]
  },
  {
   "cell_type": "code",
   "execution_count": 2,
   "metadata": {},
   "outputs": [
    {
     "data": {
      "text/html": [
       "<h2>Output</h2>shp\\Missoula.gdb<h2>Messages</h2>Start Time: Tuesday, February 8, 2022 9:10:52 PM<br/>Succeeded at Tuesday, February 8, 2022 9:10:53 PM (Elapsed Time: 0.33 seconds)<br/><style>.rendered_html td, .rendered_html th {text-align: left;}.rendered_html tbody {border: 1px solid black;}</style>"
      ],
      "text/plain": [
       "<Result 'shp\\\\Missoula.gdb'>"
      ]
     },
     "execution_count": 2,
     "metadata": {},
     "output_type": "execute_result"
    }
   ],
   "source": [
    "# if baseline GDB exists, delete it\n",
    "if os.path.isdir(gdb):\n",
    "    shutil.rmtree(gdb)\n",
    "\n",
    "arcpy.management.CreateFileGDB('shp', city)"
   ]
  },
  {
   "cell_type": "code",
   "execution_count": 3,
   "metadata": {},
   "outputs": [
    {
     "data": {
      "text/html": [
       "<h2>Output</h2>shp\\Missoula.gdb\\OwnerParcel<h2>Messages</h2>Start Time: Tuesday, February 8, 2022 9:10:58 PM<br/>Succeeded at Tuesday, February 8, 2022 9:11:28 PM (Elapsed Time: 30.03 seconds)<br/><style>.rendered_html td, .rendered_html th {text-align: left;}.rendered_html tbody {border: 1px solid black;}</style>"
      ],
      "text/plain": [
       "<Result 'shp\\\\Missoula.gdb\\\\OwnerParcel'>"
      ]
     },
     "execution_count": 3,
     "metadata": {},
     "output_type": "execute_result"
    }
   ],
   "source": [
    "arcpy.conversion.FeatureClassToFeatureClass(\n",
    "    source_parcels,\n",
    "    gdb,\n",
    "    \"OwnerParcel\"\n",
    ")"
   ]
  },
  {
   "cell_type": "code",
   "execution_count": 4,
   "metadata": {},
   "outputs": [
    {
     "data": {
      "text/html": [
       "<h2>Output</h2>shp\\Missoula.gdb\\Zoning<h2>Messages</h2>Start Time: Tuesday, February 8, 2022 9:11:35 PM<br/>Succeeded at Tuesday, February 8, 2022 9:11:39 PM (Elapsed Time: 4.22 seconds)<br/><style>.rendered_html td, .rendered_html th {text-align: left;}.rendered_html tbody {border: 1px solid black;}</style>"
      ],
      "text/plain": [
       "<Result 'shp\\\\Missoula.gdb\\\\Zoning'>"
      ]
     },
     "execution_count": 4,
     "metadata": {},
     "output_type": "execute_result"
    }
   ],
   "source": [
    "arcpy.conversion.FeatureClassToFeatureClass(\n",
    "    source_zoning,\n",
    "    gdb,\n",
    "    \"Zoning\"\n",
    ")"
   ]
  },
  {
   "cell_type": "code",
   "execution_count": 2,
   "metadata": {},
   "outputs": [
    {
     "data": {
      "text/html": [
       "<h2>Output</h2>Z:\\projects\\zoning_atlas\\shp\\Missoula.gdb\\OwnerParcel_SpatialJoin_Missoula<h2>Messages</h2>Start Time: Wednesday, February 9, 2022 8:24:43 PM<br/>Succeeded at Wednesday, February 9, 2022 8:25:09 PM (Elapsed Time: 26.04 seconds)<br/><style>.rendered_html td, .rendered_html th {text-align: left;}.rendered_html tbody {border: 1px solid black;}</style>"
      ],
      "text/plain": [
       "<Result 'Z:\\\\projects\\\\zoning_atlas\\\\shp\\\\Missoula.gdb\\\\OwnerParcel_SpatialJoin_Missoula'>"
      ]
     },
     "execution_count": 2,
     "metadata": {},
     "output_type": "execute_result"
    }
   ],
   "source": [
    "arcpy.analysis.SpatialJoin(\n",
    "    \"OwnerParcel\", \n",
    "    \"Zoning\", \n",
    "    os.path.join(gdb, spatial_join_layer), \n",
    "    \"JOIN_ONE_TO_ONE\", \n",
    "    \"KEEP_COMMON\", \n",
    "    None, \n",
    "    \"HAVE_THEIR_CENTER_IN\")"
   ]
  },
  {
   "cell_type": "code",
   "execution_count": 6,
   "metadata": {},
   "outputs": [
    {
     "data": {
      "text/html": [
       "<h2>Output</h2><table><tr><th>id</th><th>value</th></tr><tr><td>0</td><td>a Layer object</td></tr><tr><td>1</td><td>12935</td></tr></table><h2>Messages</h2>Start Time: Wednesday, February 9, 2022 8:33:07 PM<br/>Succeeded at Wednesday, February 9, 2022 8:33:07 PM (Elapsed Time: 0.26 seconds)<br/><style>.rendered_html td, .rendered_html th {text-align: left;}.rendered_html tbody {border: 1px solid black;}</style>"
      ],
      "text/plain": [
       "<Result 'OwnerParcel_SpatialJoin_Missoula'>"
      ]
     },
     "execution_count": 6,
     "metadata": {},
     "output_type": "execute_result"
    }
   ],
   "source": [
    "arcpy.management.SelectLayerByAttribute(\n",
    "    spatial_join_layer, \n",
    "    \"NEW_SELECTION\", \n",
    "    \"\"\"\n",
    "    Zoning IN ('R215', 'R80', 'R40', 'R20', 'RT10', 'R8', \n",
    "    'R5.4', 'RT5.4', 'R3', 'RT2.7', 'RM2.7', 'RM2', 'RM1.5', \n",
    "    'RM1', 'RM0.5', 'RMH') \n",
    "    AND PARCELID IS NOT NULL \n",
    "    AND PropType NOT IN (\n",
    "        '',\n",
    "        'VR - Vacant Land Rural', \n",
    "        'CA - Centrally Assessed', \n",
    "        'VU - Vacant Land Urban',\n",
    "        'FARM_U - Farmstead - Urban', \n",
    "        'NVS - Non-Valued with Specials', \n",
    "        'RV_PARK - RV Park', \n",
    "        'GRAVEL - Gravel Pit', \n",
    "        'GOLF - Golf Course',\n",
    "        'EP_PART - Partial Exempt Property', \n",
    "        'CN - Centrally Assessed Non-Valued Property', \n",
    "        'NV - Non-Valued Property', 'FARM_R - Farmstead - Rural', \n",
    "        'VAC_U - Vacant Land - Urban', \n",
    "        'EP - Exempt Property', 'VAC_R - Vacant Land - Rural'\n",
    "    )\n",
    "    \"\"\", \n",
    "    \"NON_INVERT\"\n",
    ")"
   ]
  },
  {
   "cell_type": "code",
   "execution_count": 7,
   "metadata": {},
   "outputs": [
    {
     "data": {
      "text/html": [
       "<h2>Output</h2>Z:\\projects\\zoning_atlas\\shp\\Missoula.gdb\\residential_parcels<h2>Messages</h2>Start Time: Wednesday, February 9, 2022 8:33:22 PM<br/>Succeeded at Wednesday, February 9, 2022 8:33:35 PM (Elapsed Time: 13.05 seconds)<br/><style>.rendered_html td, .rendered_html th {text-align: left;}.rendered_html tbody {border: 1px solid black;}</style>"
      ],
      "text/plain": [
       "<Result 'Z:\\\\projects\\\\zoning_atlas\\\\shp\\\\Missoula.gdb\\\\residential_parcels'>"
      ]
     },
     "execution_count": 7,
     "metadata": {},
     "output_type": "execute_result"
    }
   ],
   "source": [
    "arcpy.conversion.FeatureClassToFeatureClass(\n",
    "    spatial_join_layer, \n",
    "    gdb, \n",
    "    \"residential_parcels\"\n",
    ")\n",
    "# then rename to residential_parcels"
   ]
  },
  {
   "cell_type": "code",
   "execution_count": 8,
   "metadata": {},
   "outputs": [
    {
     "data": {
      "text/html": [
       "<h2>Output</h2>a Layer object<h2>Messages</h2>Start Time: Wednesday, February 9, 2022 8:34:47 PM<br/>Succeeded at Wednesday, February 9, 2022 8:35:03 PM (Elapsed Time: 15.44 seconds)<br/><style>.rendered_html td, .rendered_html th {text-align: left;}.rendered_html tbody {border: 1px solid black;}</style>"
      ],
      "text/plain": [
       "<Result 'residential_parcels'>"
      ]
     },
     "execution_count": 8,
     "metadata": {},
     "output_type": "execute_result"
    }
   ],
   "source": [
    "arcpy.management.CalculateGeometryAttributes(\n",
    "    \"residential_parcels\", \n",
    "    \"lot_size AREA\", \n",
    "    '', \n",
    "    \"SQUARE_FEET_US\", \n",
    "    None, \n",
    "    \"SAME_AS_INPUT\"\n",
    ")"
   ]
  },
  {
   "cell_type": "code",
   "execution_count": 9,
   "metadata": {},
   "outputs": [
    {
     "data": {
      "text/html": [
       "<h2>Output</h2>Z:\\projects\\zoning_atlas\\shp\\Missoula.gdb\\parcels_ft<h2>Messages</h2>Start Time: Wednesday, February 9, 2022 8:35:17 PM<br/>Succeeded at Wednesday, February 9, 2022 8:35:32 PM (Elapsed Time: 15.60 seconds)<br/><style>.rendered_html td, .rendered_html th {text-align: left;}.rendered_html tbody {border: 1px solid black;}</style>"
      ],
      "text/plain": [
       "<Result 'Z:\\\\projects\\\\zoning_atlas\\\\shp\\\\Missoula.gdb\\\\parcels_ft'>"
      ]
     },
     "execution_count": 9,
     "metadata": {},
     "output_type": "execute_result"
    }
   ],
   "source": [
    "arcpy.management.Project(\n",
    "    \"residential_parcels\", \n",
    "    os.path.join(gdb, 'parcels_ft'), \n",
    "    'PROJCS[\"NAD_1983_StatePlane_Montana_FIPS_2500_Feet\",GEOGCS[\"GCS_North_American_1983\",DATUM[\"D_North_American_1983\",SPHEROID[\"GRS_1980\",6378137.0,298.257222101]],PRIMEM[\"Greenwich\",0.0],UNIT[\"Degree\",0.0174532925199433]],PROJECTION[\"Lambert_Conformal_Conic\"],PARAMETER[\"False_Easting\",1968500.0],PARAMETER[\"False_Northing\",0.0],PARAMETER[\"Central_Meridian\",-109.5],PARAMETER[\"Standard_Parallel_1\",45.0],PARAMETER[\"Standard_Parallel_2\",49.0],PARAMETER[\"Latitude_Of_Origin\",44.25],UNIT[\"Foot_US\",0.3048006096012192]]', \"'WGS_1984_(ITRF08)_To_NAD_1983_2011 + WGS_1984_(ITRF00)_To_NAD_1983'\", 'PROJCS[\"NAD_1983_2011_StatePlane_Montana_FIPS_2500\",GEOGCS[\"GCS_NAD_1983_2011\",DATUM[\"D_NAD_1983_2011\",SPHEROID[\"GRS_1980\",6378137.0,298.257222101]],PRIMEM[\"Greenwich\",0.0],UNIT[\"Degree\",0.0174532925199433]],PROJECTION[\"Lambert_Conformal_Conic\"],PARAMETER[\"False_Easting\",600000.0],PARAMETER[\"False_Northing\",0.0],PARAMETER[\"Central_Meridian\",-109.5],PARAMETER[\"Standard_Parallel_1\",45.0],PARAMETER[\"Standard_Parallel_2\",49.0],PARAMETER[\"Latitude_Of_Origin\",44.25],UNIT[\"Meter\",1.0]]', \n",
    "    \"NO_PRESERVE_SHAPE\", \n",
    "    None, \n",
    "    \"NO_VERTICAL\"\n",
    ")"
   ]
  },
  {
   "cell_type": "code",
   "execution_count": 10,
   "metadata": {},
   "outputs": [
    {
     "data": {
      "text/html": [
       "<h2>Output</h2>Z:\\projects\\zoning_atlas\\shp\\Missoula.gdb\\parcels_mbb<h2>Messages</h2>Start Time: Wednesday, February 9, 2022 8:35:38 PM<br/>Succeeded at Wednesday, February 9, 2022 8:35:50 PM (Elapsed Time: 12.22 seconds)<br/><style>.rendered_html td, .rendered_html th {text-align: left;}.rendered_html tbody {border: 1px solid black;}</style>"
      ],
      "text/plain": [
       "<Result 'Z:\\\\projects\\\\zoning_atlas\\\\shp\\\\Missoula.gdb\\\\parcels_mbb'>"
      ]
     },
     "execution_count": 10,
     "metadata": {},
     "output_type": "execute_result"
    }
   ],
   "source": [
    "arcpy.management.MinimumBoundingGeometry(\n",
    "    os.path.join(gdb, 'parcels_ft'), \n",
    "    os.path.join(gdb, 'parcels_mbb'), \n",
    "    \"RECTANGLE_BY_WIDTH\", \n",
    "    \"NONE\", \n",
    "    None, \n",
    "    \"MBG_FIELDS\"\n",
    ")"
   ]
  },
  {
   "cell_type": "code",
   "execution_count": 11,
   "metadata": {},
   "outputs": [
    {
     "data": {
      "text/html": [
       "<h2>Output</h2>a Layer object<h2>Messages</h2>Start Time: Wednesday, February 9, 2022 8:35:53 PM<br/>Succeeded at Wednesday, February 9, 2022 8:36:00 PM (Elapsed Time: 6.45 seconds)<br/><style>.rendered_html td, .rendered_html th {text-align: left;}.rendered_html tbody {border: 1px solid black;}</style>"
      ],
      "text/plain": [
       "<Result 'residential_parcels'>"
      ]
     },
     "execution_count": 11,
     "metadata": {},
     "output_type": "execute_result"
    }
   ],
   "source": [
    "arcpy.management.JoinField(\n",
    "    \"residential_parcels\", \n",
    "    'PARCELID', \n",
    "    os.path.join(gdb, 'parcels_mbb'), \n",
    "    'PARCELID', \n",
    "    'MBG_Width;MBG_Length'\n",
    ")"
   ]
  },
  {
   "cell_type": "code",
   "execution_count": 12,
   "metadata": {},
   "outputs": [
    {
     "data": {
      "text/html": [
       "<h2>Output</h2>a Layer object<h2>Messages</h2>Start Time: Wednesday, February 9, 2022 8:36:02 PM<br/>Adding city to residential_parcels...<br/>Succeeded at Wednesday, February 9, 2022 8:36:05 PM (Elapsed Time: 3.34 seconds)<br/><style>.rendered_html td, .rendered_html th {text-align: left;}.rendered_html tbody {border: 1px solid black;}</style>"
      ],
      "text/plain": [
       "<Result 'residential_parcels'>"
      ]
     },
     "execution_count": 12,
     "metadata": {},
     "output_type": "execute_result"
    }
   ],
   "source": [
    "arcpy.management.CalculateField(\n",
    "    \"residential_parcels\", \n",
    "    \"city\", \n",
    "    '\"' + city + '\"'\n",
    ")"
   ]
  },
  {
   "cell_type": "code",
   "execution_count": 12,
   "metadata": {
    "scrolled": true
   },
   "outputs": [
    {
     "data": {
      "text/html": [
       "<h2>Output</h2>a Layer object<h2>Messages</h2>Start Time: Wednesday, February 9, 2022 9:45:20 PM<br/>Succeeded at Wednesday, February 9, 2022 9:45:21 PM (Elapsed Time: 0.98 seconds)<br/><style>.rendered_html td, .rendered_html th {text-align: left;}.rendered_html tbody {border: 1px solid black;}</style>"
      ],
      "text/plain": [
       "<Result 'residential_parcels'>"
      ]
     },
     "execution_count": 12,
     "metadata": {},
     "output_type": "execute_result"
    }
   ],
   "source": [
    "arcpy.management.CalculateField(\n",
    "    \"residential_parcels\", \n",
    "    \"zoning\", \n",
    "    \"!\" + zone_field + \"!\", \n",
    "    \"PYTHON3\"\n",
    ")"
   ]
  },
  {
   "cell_type": "code",
   "execution_count": 51,
   "metadata": {},
   "outputs": [
    {
     "data": {
      "text/html": [
       "<h2>Output</h2>a Layer object<h2>Messages</h2>Start Time: Friday, February 11, 2022 5:04:10 PM<br/>Succeeded at Friday, February 11, 2022 5:04:18 PM (Elapsed Time: 7.82 seconds)<br/><style>.rendered_html td, .rendered_html th {text-align: left;}.rendered_html tbody {border: 1px solid black;}</style>"
      ],
      "text/plain": [
       "<Result 'residential_parcels'>"
      ]
     },
     "execution_count": 51,
     "metadata": {},
     "output_type": "execute_result"
    }
   ],
   "source": [
    "arcpy.management.CalculateField(\n",
    "    \"residential_parcels\", \n",
    "    \"lot_size\", \n",
    "    \"round(!lot_size!)\", \n",
    "    \"PYTHON3\", \n",
    "    None, \n",
    "    \"SHORT\"\n",
    ")"
   ]
  },
  {
   "cell_type": "code",
   "execution_count": 16,
   "metadata": {},
   "outputs": [
    {
     "data": {
      "text/html": [
       "<h2>Output</h2>a Layer object<h2>Messages</h2>Start Time: Wednesday, February 9, 2022 8:38:16 PM<br/>Adding lot_width to residential_parcels...<br/>Succeeded at Wednesday, February 9, 2022 8:38:28 PM (Elapsed Time: 11.98 seconds)<br/><style>.rendered_html td, .rendered_html th {text-align: left;}.rendered_html tbody {border: 1px solid black;}</style>"
      ],
      "text/plain": [
       "<Result 'residential_parcels'>"
      ]
     },
     "execution_count": 16,
     "metadata": {},
     "output_type": "execute_result"
    }
   ],
   "source": [
    "arcpy.management.CalculateField(\n",
    "    \"residential_parcels\", \n",
    "    \"lot_width\", \n",
    "    \"!MBG_Width!\", \n",
    "    \"PYTHON3\", \n",
    "    None, \n",
    "    \"SHORT\"\n",
    ")"
   ]
  },
  {
   "cell_type": "code",
   "execution_count": 19,
   "metadata": {},
   "outputs": [
    {
     "data": {
      "text/html": [
       "<h2>Output</h2>a Layer object<h2>Messages</h2>Start Time: Wednesday, February 9, 2022 9:03:43 PM<br/>Adding zoning_allows to residential_parcels...<br/>Succeeded at Wednesday, February 9, 2022 9:03:46 PM (Elapsed Time: 2.61 seconds)<br/><style>.rendered_html td, .rendered_html th {text-align: left;}.rendered_html tbody {border: 1px solid black;}</style>"
      ],
      "text/plain": [
       "<Result 'residential_parcels'>"
      ]
     },
     "execution_count": 19,
     "metadata": {},
     "output_type": "execute_result"
    }
   ],
   "source": [
    "codeblock = \"\"\"\n",
    "def eval_zoning(zone):\n",
    "    if zone in ['R215', 'R80', 'R40', 'R20', 'R8', 'R5.4']:\n",
    "        return 1\n",
    "    elif zone in ['RT10', 'RT5.4', 'RT2.7']:\n",
    "        return 2\n",
    "    elif zone in ['RM2.7', 'RM2', 'RM1.5', 'RM1', 'RM0.5', 'RMH']:\n",
    "        return 5\n",
    "    else:\n",
    "        return 0\n",
    "\"\"\"\n",
    "\n",
    "arcpy.management.CalculateField(\n",
    "    \"residential_parcels\", \n",
    "    \"zoning_allows\", \n",
    "    \"eval_zoning(!zoning!)\", \n",
    "    \"PYTHON3\", \n",
    "    codeblock, \n",
    "    \"SHORT\"\n",
    ")"
   ]
  },
  {
   "cell_type": "code",
   "execution_count": 28,
   "metadata": {},
   "outputs": [
    {
     "data": {
      "text/html": [
       "<h2>Output</h2>a Layer object<h2>Messages</h2>Start Time: Wednesday, February 9, 2022 9:18:57 PM<br/>Succeeded at Wednesday, February 9, 2022 9:18:58 PM (Elapsed Time: 1.37 seconds)<br/><style>.rendered_html td, .rendered_html th {text-align: left;}.rendered_html tbody {border: 1px solid black;}</style>"
      ],
      "text/plain": [
       "<Result 'residential_parcels'>"
      ]
     },
     "execution_count": 28,
     "metadata": {},
     "output_type": "execute_result"
    }
   ],
   "source": [
    "codeblock = \"\"\"\n",
    "def eval_zoning(zone, lot_size):\n",
    "    if zone == 'RT-10' and lot_size >= 20000:\n",
    "        return 2\n",
    "    elif zone == 'RT5.4' and lot_size >= 10800:\n",
    "        return 2\n",
    "    elif zone == 'RT2.7' and lot_size >= 5400:\n",
    "        return 2\n",
    "    elif zone == 'RM2.7':\n",
    "        return min(max(1, math.floor(lot_size / 2700)), 5)\n",
    "    elif zone == 'RM2':\n",
    "        return min(max(1, math.floor(lot_size / 2000)), 5)\n",
    "    elif zone == 'RM1.5':\n",
    "        return min(max(1, math.floor(lot_size / 1500)), 5)\n",
    "    elif zone in ['RM1', 'RHM']:\n",
    "        return min(max(1, math.floor(lot_size / 1000)), 5)\n",
    "    elif zone == 'RM0.5':\n",
    "        return min(max(1, math.floor(lot_size / 500)), 5)\n",
    "    else:\n",
    "        return 1\n",
    "\"\"\"\n",
    "\n",
    "arcpy.management.CalculateField(\n",
    "    \"residential_parcels\", \n",
    "    \"lot_size_allows\", \n",
    "    \"eval_zoning(!zoning!, !lot_size!)\", \n",
    "    \"PYTHON3\", \n",
    "    codeblock, \n",
    "    \"SHORT\"\n",
    ")"
   ]
  },
  {
   "cell_type": "code",
   "execution_count": 26,
   "metadata": {},
   "outputs": [
    {
     "data": {
      "text/html": [
       "<h2>Output</h2>a Layer object<h2>Messages</h2>Start Time: Wednesday, February 9, 2022 9:16:20 PM<br/>Adding lot_width_allows to residential_parcels...<br/>Succeeded at Wednesday, February 9, 2022 9:16:23 PM (Elapsed Time: 2.73 seconds)<br/><style>.rendered_html td, .rendered_html th {text-align: left;}.rendered_html tbody {border: 1px solid black;}</style>"
      ],
      "text/plain": [
       "<Result 'residential_parcels'>"
      ]
     },
     "execution_count": 26,
     "metadata": {},
     "output_type": "execute_result"
    }
   ],
   "source": [
    "codeblock = \"\"\"\n",
    "def eval_zoning(zone, lot_width):\n",
    "    return 5\n",
    "\"\"\"\n",
    "\n",
    "arcpy.management.CalculateField(\n",
    "    \"residential_parcels\", \n",
    "    \"lot_width_allows\", \n",
    "    \"eval_zoning(!zoning!, !lot_width!)\", \n",
    "    \"PYTHON3\", \n",
    "    codeblock, \n",
    "    \"SHORT\"\n",
    ")"
   ]
  },
  {
   "cell_type": "code",
   "execution_count": 52,
   "metadata": {},
   "outputs": [
    {
     "data": {
      "text/html": [
       "<h2>Output</h2>a Layer object<h2>Messages</h2>Start Time: Friday, February 11, 2022 5:04:31 PM<br/>Succeeded at Friday, February 11, 2022 5:04:38 PM (Elapsed Time: 7.47 seconds)<br/><style>.rendered_html td, .rendered_html th {text-align: left;}.rendered_html tbody {border: 1px solid black;}</style>"
      ],
      "text/plain": [
       "<Result 'residential_parcels'>"
      ]
     },
     "execution_count": 52,
     "metadata": {},
     "output_type": "execute_result"
    }
   ],
   "source": [
    "codeblock = \"\"\"\n",
    "def units(zone, size, width):\n",
    "    return max(1, min(zone, size, width))\n",
    "\"\"\"\n",
    "arcpy.management.CalculateField(\n",
    "    \"residential_parcels\", \n",
    "    \"units_allowed\", \n",
    "    \"units(!zoning_allows!, !lot_size_allows!, !lot_width_allows!)\",\n",
    "    \"PYTHON3\",\n",
    "    codeblock,\n",
    "    \"SHORT\"\n",
    ")"
   ]
  },
  {
   "cell_type": "code",
   "execution_count": 53,
   "metadata": {},
   "outputs": [
    {
     "data": {
      "text/html": [
       "<h2>Output</h2>a Layer object<h2>Messages</h2>Start Time: Friday, February 11, 2022 5:04:48 PM<br/>Succeeded at Friday, February 11, 2022 5:04:56 PM (Elapsed Time: 8.05 seconds)<br/><style>.rendered_html td, .rendered_html th {text-align: left;}.rendered_html tbody {border: 1px solid black;}</style>"
      ],
      "text/plain": [
       "<Result 'residential_parcels'>"
      ]
     },
     "execution_count": 53,
     "metadata": {},
     "output_type": "execute_result"
    }
   ],
   "source": [
    "codeblock = \"\"\"\n",
    "def categorize(zone):\n",
    "    if zone in ['RT10', 'RT5.4', 'RT2.7', 'RM2.7',\n",
    "    'RM2', 'RM1.5', 'RM1', 'RM0.5', 'RMH']:\n",
    "        return \"Penalized Multifamily\"\n",
    "    elif zone in []:\n",
    "        return \"Multifamily\"\n",
    "    else:\n",
    "        return \"Single-Family\"\n",
    "\"\"\"\n",
    "arcpy.management.CalculateField(\n",
    "    \"residential_parcels\", \n",
    "    \"category\", \n",
    "    \"categorize(!zoning!)\",\n",
    "    \"PYTHON3\",\n",
    "    codeblock,\n",
    "    \"TEXT\"\n",
    ")"
   ]
  },
  {
   "cell_type": "code",
   "execution_count": 54,
   "metadata": {},
   "outputs": [
    {
     "data": {
      "text/html": [
       "<h2>Output</h2>shp\\Missoula.gdb\\missoula_residential_parcels<h2>Messages</h2>Start Time: Friday, February 11, 2022 5:05:27 PM<br/>Succeeded at Friday, February 11, 2022 5:05:36 PM (Elapsed Time: 8.62 seconds)<br/><style>.rendered_html td, .rendered_html th {text-align: left;}.rendered_html tbody {border: 1px solid black;}</style>"
      ],
      "text/plain": [
       "<Result 'shp\\\\Missoula.gdb\\\\missoula_residential_parcels'>"
      ]
     },
     "execution_count": 54,
     "metadata": {},
     "output_type": "execute_result"
    }
   ],
   "source": [
    "arcpy.conversion.FeatureClassToFeatureClass(\n",
    "    \"residential_parcels\", \n",
    "    gdb, \n",
    "    city.lower() + \"_residential_parcels\", \n",
    "    '', \n",
    "    'city \"city\" true true false 512 Text 0 0,First,#,residential_parcels,city,0,512;zoning \"zoning\" true true false 512 Text 0 0,First,#,residential_parcels,zoning,0,512;lot_size \"lot_size\" true true false 8 Double 0 0,First,#,residential_parcels,lot_size,-1,-1;lot_width \"lot_width\" true true false 2 Short 0 0,First,#,residential_parcels,lot_width,-1,-1;zoning_allows \"zoning_allows\" true true false 2 Short 0 0,First,#,residential_parcels,zoning_allows,-1,-1;lot_size_allows \"lot_size_allows\" true true false 2 Short 0 0,First,#,residential_parcels,lot_size_allows,-1,-1;lot_width_allows \"lot_width_allows\" true true false 2 Short 0 0,First,#,residential_parcels,lot_width_allows,-1,-1;units_allowed \"units_allowed\" true true false 2 Short 0 0,First,#,residential_parcels,units_allowed,-1,-1;category \"category\" true true false 512 Text 0 0,First,#,residential_parcels,category,0,512', \n",
    "    ''\n",
    ")"
   ]
  },
  {
   "cell_type": "code",
   "execution_count": null,
   "metadata": {},
   "outputs": [],
   "source": []
  }
 ],
 "metadata": {
  "kernelspec": {
   "display_name": "ArcGISPro",
   "language": "Python",
   "name": "python3"
  },
  "language_info": {
   "file_extension": ".py",
   "name": "python",
   "version": "3"
  }
 },
 "nbformat": 4,
 "nbformat_minor": 2
}
