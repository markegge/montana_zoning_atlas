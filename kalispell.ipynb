{
 "cells": [
  {
   "cell_type": "markdown",
   "metadata": {},
   "source": [
    "1. Add the \"OwnerParcel\" layer from the parcels GDB for the city\n",
    "2. Add the zoning layer"
   ]
  },
  {
   "cell_type": "code",
   "execution_count": 1,
   "metadata": {},
   "outputs": [],
   "source": [
    "city = 'Kalispell'\n",
    "zone_field = 'ZONE_USE'\n",
    "source_parcels = r'shp\\Flathead_GDB\\Flathead_Parcels.gdb\\OwnerParcel'\n",
    "source_zoning = r'shp\\zoning.gdb\\kalispell'\n",
    "\n",
    "import os\n",
    "import shutil\n",
    "gdb = os.path.join('shp', city + '.gdb')\n",
    "spatial_join_layer = \"OwnerParcel_SpatialJoin_\" + city"
   ]
  },
  {
   "cell_type": "code",
   "execution_count": 2,
   "metadata": {},
   "outputs": [
    {
     "data": {
      "text/html": [
       "<h2>Output</h2>shp\\Kalispell.gdb<h2>Messages</h2>Start Time: Thursday, February 10, 2022 8:34:58 PM<br/>Succeeded at Thursday, February 10, 2022 8:34:58 PM (Elapsed Time: 0.42 seconds)<br/><style>.rendered_html td, .rendered_html th {text-align: left;}.rendered_html tbody {border: 1px solid black;}</style>"
      ],
      "text/plain": [
       "<Result 'shp\\\\Kalispell.gdb'>"
      ]
     },
     "execution_count": 2,
     "metadata": {},
     "output_type": "execute_result"
    }
   ],
   "source": [
    "# if baseline GDB exists, delete it\n",
    "if os.path.isdir(gdb):\n",
    "    shutil.rmtree(gdb)\n",
    "\n",
    "arcpy.management.CreateFileGDB('shp', city)"
   ]
  },
  {
   "cell_type": "code",
   "execution_count": 3,
   "metadata": {},
   "outputs": [
    {
     "data": {
      "text/html": [
       "<h2>Output</h2>shp\\Kalispell.gdb\\OwnerParcel<h2>Messages</h2>Start Time: Thursday, February 10, 2022 8:35:01 PM<br/>Succeeded at Thursday, February 10, 2022 8:36:00 PM (Elapsed Time: 58.86 seconds)<br/><style>.rendered_html td, .rendered_html th {text-align: left;}.rendered_html tbody {border: 1px solid black;}</style>"
      ],
      "text/plain": [
       "<Result 'shp\\\\Kalispell.gdb\\\\OwnerParcel'>"
      ]
     },
     "execution_count": 3,
     "metadata": {},
     "output_type": "execute_result"
    }
   ],
   "source": [
    "arcpy.conversion.FeatureClassToFeatureClass(\n",
    "    source_parcels,\n",
    "    gdb,\n",
    "    \"OwnerParcel\"\n",
    ")"
   ]
  },
  {
   "cell_type": "code",
   "execution_count": 4,
   "metadata": {},
   "outputs": [
    {
     "data": {
      "text/html": [
       "<h2>Output</h2>shp\\Kalispell.gdb\\Zoning<h2>Messages</h2>Start Time: Thursday, February 10, 2022 8:36:06 PM<br/>Succeeded at Thursday, February 10, 2022 8:36:10 PM (Elapsed Time: 4.07 seconds)<br/><style>.rendered_html td, .rendered_html th {text-align: left;}.rendered_html tbody {border: 1px solid black;}</style>"
      ],
      "text/plain": [
       "<Result 'shp\\\\Kalispell.gdb\\\\Zoning'>"
      ]
     },
     "execution_count": 4,
     "metadata": {},
     "output_type": "execute_result"
    }
   ],
   "source": [
    "arcpy.conversion.FeatureClassToFeatureClass(\n",
    "    source_zoning,\n",
    "    gdb,\n",
    "    \"Zoning\"\n",
    ")"
   ]
  },
  {
   "cell_type": "code",
   "execution_count": 5,
   "metadata": {},
   "outputs": [
    {
     "data": {
      "text/html": [
       "<h2>Output</h2>shp\\Kalispell.gdb\\OwnerParcel_SpatialJoin_Kalispell<h2>Messages</h2>Start Time: Thursday, February 10, 2022 8:36:12 PM<br/>Succeeded at Thursday, February 10, 2022 8:36:25 PM (Elapsed Time: 13.21 seconds)<br/><style>.rendered_html td, .rendered_html th {text-align: left;}.rendered_html tbody {border: 1px solid black;}</style>"
      ],
      "text/plain": [
       "<Result 'shp\\\\Kalispell.gdb\\\\OwnerParcel_SpatialJoin_Kalispell'>"
      ]
     },
     "execution_count": 5,
     "metadata": {},
     "output_type": "execute_result"
    }
   ],
   "source": [
    "arcpy.analysis.SpatialJoin(\n",
    "    \"OwnerParcel\", # flathead county parcels\n",
    "    \"Zoning\", #kalispell zoning\n",
    "    os.path.join(gdb, spatial_join_layer), \n",
    "    \"JOIN_ONE_TO_ONE\", \n",
    "    \"KEEP_COMMON\", \n",
    "    None, \n",
    "    \"HAVE_THEIR_CENTER_IN\")"
   ]
  },
  {
   "cell_type": "code",
   "execution_count": 6,
   "metadata": {},
   "outputs": [
    {
     "data": {
      "text/html": [
       "<h2>Output</h2><table><tr><th>id</th><th>value</th></tr><tr><td>0</td><td>a Layer object</td></tr><tr><td>1</td><td>7305</td></tr></table><h2>Messages</h2>Start Time: Thursday, February 10, 2022 8:36:28 PM<br/>Succeeded at Thursday, February 10, 2022 8:36:28 PM (Elapsed Time: 0.06 seconds)<br/><style>.rendered_html td, .rendered_html th {text-align: left;}.rendered_html tbody {border: 1px solid black;}</style>"
      ],
      "text/plain": [
       "<Result 'OwnerParcel_SpatialJoin_Kalispell'>"
      ]
     },
     "execution_count": 6,
     "metadata": {},
     "output_type": "execute_result"
    }
   ],
   "source": [
    "arcpy.management.SelectLayerByAttribute(\n",
    "    spatial_join_layer, \n",
    "    \"NEW_SELECTION\", \n",
    "    \"\"\"\n",
    "    ZONE_USE IN ('R-1', 'R-2', 'R-3', \n",
    "               'R-4', 'R-5', 'RA-1',\n",
    "               'RA-2') \n",
    "    AND PARCELID IS NOT NULL \n",
    "    AND PropType NOT IN (\n",
    "        '',\n",
    "        'VR - Vacant Land Rural', \n",
    "        'CA - Centrally Assessed', \n",
    "        'VU - Vacant Land Urban',\n",
    "        'FARM_U - Farmstead - Urban', \n",
    "        'NVS - Non-Valued with Specials', \n",
    "        'RV_PARK - RV Park', \n",
    "        'GRAVEL - Gravel Pit', \n",
    "        'GOLF - Golf Course',\n",
    "        'EP_PART - Partial Exempt Property', \n",
    "        'CN - Centrally Assessed Non-Valued Property', \n",
    "        'NV - Non-Valued Property', 'FARM_R - Farmstead - Rural', \n",
    "        'VAC_U - Vacant Land - Urban', \n",
    "        'EP - Exempt Property', 'VAC_R - Vacant Land - Rural'\n",
    "    )\n",
    "    \"\"\", \n",
    "    \"NON_INVERT\"\n",
    ")"
   ]
  },
  {
   "cell_type": "code",
   "execution_count": 7,
   "metadata": {},
   "outputs": [
    {
     "data": {
      "text/html": [
       "<h2>Output</h2>shp\\Kalispell.gdb\\residential_parcels<h2>Messages</h2>Start Time: Thursday, February 10, 2022 8:36:31 PM<br/>Succeeded at Thursday, February 10, 2022 8:36:40 PM (Elapsed Time: 9.74 seconds)<br/><style>.rendered_html td, .rendered_html th {text-align: left;}.rendered_html tbody {border: 1px solid black;}</style>"
      ],
      "text/plain": [
       "<Result 'shp\\\\Kalispell.gdb\\\\residential_parcels'>"
      ]
     },
     "execution_count": 7,
     "metadata": {},
     "output_type": "execute_result"
    }
   ],
   "source": [
    "arcpy.conversion.FeatureClassToFeatureClass(\n",
    "    spatial_join_layer, \n",
    "    gdb, \n",
    "    \"residential_parcels\"\n",
    ")\n",
    "# then rename to residential_parcels"
   ]
  },
  {
   "cell_type": "code",
   "execution_count": 8,
   "metadata": {},
   "outputs": [
    {
     "data": {
      "text/html": [
       "<h2>Output</h2>a Layer object<h2>Messages</h2>Start Time: Thursday, February 10, 2022 8:36:44 PM<br/>Succeeded at Thursday, February 10, 2022 8:37:03 PM (Elapsed Time: 18.92 seconds)<br/><style>.rendered_html td, .rendered_html th {text-align: left;}.rendered_html tbody {border: 1px solid black;}</style>"
      ],
      "text/plain": [
       "<Result 'residential_parcels'>"
      ]
     },
     "execution_count": 8,
     "metadata": {},
     "output_type": "execute_result"
    }
   ],
   "source": [
    "arcpy.management.CalculateGeometryAttributes(\n",
    "    \"residential_parcels\", \n",
    "    \"lot_size AREA\", \n",
    "    '', \n",
    "    \"SQUARE_FEET_US\", \n",
    "    None, \n",
    "    \"SAME_AS_INPUT\"\n",
    ")"
   ]
  },
  {
   "cell_type": "code",
   "execution_count": 9,
   "metadata": {},
   "outputs": [
    {
     "data": {
      "text/html": [
       "<h2>Output</h2>shp\\Kalispell.gdb\\parcels_ft<h2>Messages</h2>Start Time: Thursday, February 10, 2022 8:37:16 PM<br/>Succeeded at Thursday, February 10, 2022 8:37:27 PM (Elapsed Time: 10.93 seconds)<br/><style>.rendered_html td, .rendered_html th {text-align: left;}.rendered_html tbody {border: 1px solid black;}</style>"
      ],
      "text/plain": [
       "<Result 'shp\\\\Kalispell.gdb\\\\parcels_ft'>"
      ]
     },
     "execution_count": 9,
     "metadata": {},
     "output_type": "execute_result"
    }
   ],
   "source": [
    "arcpy.management.Project(\n",
    "    \"residential_parcels\", \n",
    "    os.path.join(gdb, 'parcels_ft'), \n",
    "    'PROJCS[\"NAD_1983_StatePlane_Montana_FIPS_2500_Feet\",GEOGCS[\"GCS_North_American_1983\",DATUM[\"D_North_American_1983\",SPHEROID[\"GRS_1980\",6378137.0,298.257222101]],PRIMEM[\"Greenwich\",0.0],UNIT[\"Degree\",0.0174532925199433]],PROJECTION[\"Lambert_Conformal_Conic\"],PARAMETER[\"False_Easting\",1968500.0],PARAMETER[\"False_Northing\",0.0],PARAMETER[\"Central_Meridian\",-109.5],PARAMETER[\"Standard_Parallel_1\",45.0],PARAMETER[\"Standard_Parallel_2\",49.0],PARAMETER[\"Latitude_Of_Origin\",44.25],UNIT[\"Foot_US\",0.3048006096012192]]', \"'WGS_1984_(ITRF08)_To_NAD_1983_2011 + WGS_1984_(ITRF00)_To_NAD_1983'\", 'PROJCS[\"NAD_1983_2011_StatePlane_Montana_FIPS_2500\",GEOGCS[\"GCS_NAD_1983_2011\",DATUM[\"D_NAD_1983_2011\",SPHEROID[\"GRS_1980\",6378137.0,298.257222101]],PRIMEM[\"Greenwich\",0.0],UNIT[\"Degree\",0.0174532925199433]],PROJECTION[\"Lambert_Conformal_Conic\"],PARAMETER[\"False_Easting\",600000.0],PARAMETER[\"False_Northing\",0.0],PARAMETER[\"Central_Meridian\",-109.5],PARAMETER[\"Standard_Parallel_1\",45.0],PARAMETER[\"Standard_Parallel_2\",49.0],PARAMETER[\"Latitude_Of_Origin\",44.25],UNIT[\"Meter\",1.0]]', \n",
    "    \"NO_PRESERVE_SHAPE\", \n",
    "    None, \n",
    "    \"NO_VERTICAL\"\n",
    ")"
   ]
  },
  {
   "cell_type": "code",
   "execution_count": 10,
   "metadata": {},
   "outputs": [
    {
     "data": {
      "text/html": [
       "<h2>Output</h2>shp\\Kalispell.gdb\\parcels_mbb<h2>Messages</h2>Start Time: Thursday, February 10, 2022 8:37:31 PM<br/>Succeeded at Thursday, February 10, 2022 8:37:40 PM (Elapsed Time: 8.60 seconds)<br/><style>.rendered_html td, .rendered_html th {text-align: left;}.rendered_html tbody {border: 1px solid black;}</style>"
      ],
      "text/plain": [
       "<Result 'shp\\\\Kalispell.gdb\\\\parcels_mbb'>"
      ]
     },
     "execution_count": 10,
     "metadata": {},
     "output_type": "execute_result"
    }
   ],
   "source": [
    "arcpy.management.MinimumBoundingGeometry(\n",
    "    os.path.join(gdb, 'parcels_ft'), \n",
    "    os.path.join(gdb, 'parcels_mbb'), \n",
    "    \"RECTANGLE_BY_WIDTH\", \n",
    "    \"NONE\", \n",
    "    None, \n",
    "    \"MBG_FIELDS\"\n",
    ")"
   ]
  },
  {
   "cell_type": "code",
   "execution_count": 11,
   "metadata": {},
   "outputs": [
    {
     "data": {
      "text/html": [
       "<h2>Output</h2>a Layer object<h2>Messages</h2>Start Time: Thursday, February 10, 2022 8:37:43 PM<br/>Succeeded at Thursday, February 10, 2022 8:37:48 PM (Elapsed Time: 4.31 seconds)<br/><style>.rendered_html td, .rendered_html th {text-align: left;}.rendered_html tbody {border: 1px solid black;}</style>"
      ],
      "text/plain": [
       "<Result 'residential_parcels'>"
      ]
     },
     "execution_count": 11,
     "metadata": {},
     "output_type": "execute_result"
    }
   ],
   "source": [
    "arcpy.management.JoinField(\n",
    "    \"residential_parcels\", \n",
    "    'PARCELID', \n",
    "    os.path.join(gdb, 'parcels_mbb'), \n",
    "    'PARCELID', \n",
    "    'MBG_Width;MBG_Length'\n",
    ")"
   ]
  },
  {
   "cell_type": "code",
   "execution_count": 12,
   "metadata": {},
   "outputs": [
    {
     "data": {
      "text/html": [
       "<h2>Output</h2>a Layer object<h2>Messages</h2>Start Time: Thursday, February 10, 2022 8:37:50 PM<br/>Adding city to residential_parcels...<br/>Succeeded at Thursday, February 10, 2022 8:37:52 PM (Elapsed Time: 2.45 seconds)<br/><style>.rendered_html td, .rendered_html th {text-align: left;}.rendered_html tbody {border: 1px solid black;}</style>"
      ],
      "text/plain": [
       "<Result 'residential_parcels'>"
      ]
     },
     "execution_count": 12,
     "metadata": {},
     "output_type": "execute_result"
    }
   ],
   "source": [
    "arcpy.management.CalculateField(\n",
    "    \"residential_parcels\", \n",
    "    \"city\", \n",
    "    '\"' + city + '\"'\n",
    ")"
   ]
  },
  {
   "cell_type": "code",
   "execution_count": 22,
   "metadata": {},
   "outputs": [
    {
     "data": {
      "text/html": [
       "<h2>Output</h2>a Layer object<h2>Messages</h2>Start Time: Friday, February 11, 2022 4:34:35 PM<br/>Succeeded at Friday, February 11, 2022 4:34:39 PM (Elapsed Time: 4.26 seconds)<br/><style>.rendered_html td, .rendered_html th {text-align: left;}.rendered_html tbody {border: 1px solid black;}</style>"
      ],
      "text/plain": [
       "<Result 'residential_parcels'>"
      ]
     },
     "execution_count": 22,
     "metadata": {},
     "output_type": "execute_result"
    }
   ],
   "source": [
    "arcpy.management.CalculateField(\n",
    "    \"residential_parcels\", \n",
    "    \"lot_size\", \n",
    "    \"round(!lot_size!)\", \n",
    "    \"PYTHON3\", \n",
    "    None, \n",
    "    \"SHORT\"\n",
    ")"
   ]
  },
  {
   "cell_type": "code",
   "execution_count": 15,
   "metadata": {
    "scrolled": false
   },
   "outputs": [
    {
     "data": {
      "text/html": [
       "<h2>Output</h2>a Layer object<h2>Messages</h2>Start Time: Thursday, February 10, 2022 8:39:43 PM<br/>Adding zoning to residential_parcels...<br/>Succeeded at Thursday, February 10, 2022 8:39:50 PM (Elapsed Time: 7.03 seconds)<br/><style>.rendered_html td, .rendered_html th {text-align: left;}.rendered_html tbody {border: 1px solid black;}</style>"
      ],
      "text/plain": [
       "<Result 'residential_parcels'>"
      ]
     },
     "execution_count": 15,
     "metadata": {},
     "output_type": "execute_result"
    }
   ],
   "source": [
    "arcpy.management.CalculateField(\n",
    "    \"residential_parcels\", \n",
    "    \"zoning\", \n",
    "    \"!\" + zone_field + \"!\", \n",
    "    \"PYTHON3\", \n",
    "    None, \n",
    "    \"TEXT\"\n",
    ")"
   ]
  },
  {
   "cell_type": "code",
   "execution_count": 19,
   "metadata": {},
   "outputs": [
    {
     "data": {
      "text/html": [
       "<h2>Output</h2>a Layer object<h2>Messages</h2>Start Time: Thursday, February 10, 2022 8:42:00 PM<br/>Adding lot_width to residential_parcels...<br/>Succeeded at Thursday, February 10, 2022 8:42:01 PM (Elapsed Time: 1.79 seconds)<br/><style>.rendered_html td, .rendered_html th {text-align: left;}.rendered_html tbody {border: 1px solid black;}</style>"
      ],
      "text/plain": [
       "<Result 'residential_parcels'>"
      ]
     },
     "execution_count": 19,
     "metadata": {},
     "output_type": "execute_result"
    }
   ],
   "source": [
    "arcpy.management.CalculateField(\n",
    "    \"residential_parcels\", \n",
    "    \"lot_width\", \n",
    "    \"!MBG_Width!\", \n",
    "    \"PYTHON3\", \n",
    "    codeblock, \n",
    "    \"SHORT\"\n",
    ")"
   ]
  },
  {
   "cell_type": "code",
   "execution_count": 16,
   "metadata": {},
   "outputs": [
    {
     "data": {
      "text/html": [
       "<h2>Output</h2>a Layer object<h2>Messages</h2>Start Time: Thursday, February 10, 2022 8:39:52 PM<br/>Succeeded at Thursday, February 10, 2022 8:39:54 PM (Elapsed Time: 1.49 seconds)<br/><style>.rendered_html td, .rendered_html th {text-align: left;}.rendered_html tbody {border: 1px solid black;}</style>"
      ],
      "text/plain": [
       "<Result 'residential_parcels'>"
      ]
     },
     "execution_count": 16,
     "metadata": {},
     "output_type": "execute_result"
    }
   ],
   "source": [
    "codeblock = \"\"\"\n",
    "def eval_zoning(zone):\n",
    "    if zone in ['R-1', 'R-2', 'R-3']:\n",
    "        return 1\n",
    "    elif zone in ['R-4', 'R-5', 'RA-1', 'RA-2']:\n",
    "        return 2\n",
    "    else:\n",
    "        return 0\n",
    "\"\"\"\n",
    "\n",
    "arcpy.management.CalculateField(\n",
    "    \"residential_parcels\", \n",
    "    \"zoning_allows\", \n",
    "    \"eval_zoning(!zoning!)\", \n",
    "    \"PYTHON3\", \n",
    "    codeblock, \n",
    "    \"SHORT\"\n",
    ")"
   ]
  },
  {
   "cell_type": "code",
   "execution_count": 18,
   "metadata": {},
   "outputs": [
    {
     "data": {
      "text/html": [
       "<h2>Output</h2>a Layer object<h2>Messages</h2>Start Time: Friday, February 11, 2022 4:30:24 PM<br/>Succeeded at Friday, February 11, 2022 4:30:28 PM (Elapsed Time: 4.76 seconds)<br/><style>.rendered_html td, .rendered_html th {text-align: left;}.rendered_html tbody {border: 1px solid black;}</style>"
      ],
      "text/plain": [
       "<Result 'residential_parcels'>"
      ]
     },
     "execution_count": 18,
     "metadata": {},
     "output_type": "execute_result"
    }
   ],
   "source": [
    "codeblock = \"\"\"\n",
    "def eval_zoning(zone, lot_size):\n",
    "    if zone == 'R-1':\n",
    "        if lot_size >= 20000:\n",
    "            return 1\n",
    "        else:\n",
    "            return 0\n",
    "    elif zone == 'R-2':\n",
    "        if lot_size >= 10000:\n",
    "            return 1\n",
    "        else:\n",
    "            return 0\n",
    "    elif zone == 'R-3':\n",
    "        if lot_size >= 6000:\n",
    "            return 1\n",
    "        else:\n",
    "            return 0\n",
    "    elif zone in ['R-4', 'R-5', 'RA-1', 'RA-2']:\n",
    "        if lot_size >= 6000:\n",
    "            return 2\n",
    "        else:\n",
    "            return 0\n",
    "\"\"\"\n",
    "\n",
    "arcpy.management.CalculateField(\n",
    "    \"residential_parcels\", \n",
    "    \"lot_size_allows\", \n",
    "    \"eval_zoning(!zoning!, !lot_size!)\", \n",
    "    \"PYTHON3\", \n",
    "    codeblock, \n",
    "    \"SHORT\"\n",
    ")"
   ]
  },
  {
   "cell_type": "code",
   "execution_count": 20,
   "metadata": {},
   "outputs": [
    {
     "data": {
      "text/html": [
       "<h2>Output</h2>a Layer object<h2>Messages</h2>Start Time: Thursday, February 10, 2022 8:42:29 PM<br/>Adding lot_width_allows to residential_parcels...<br/>Succeeded at Thursday, February 10, 2022 8:42:31 PM (Elapsed Time: 2.00 seconds)<br/><style>.rendered_html td, .rendered_html th {text-align: left;}.rendered_html tbody {border: 1px solid black;}</style>"
      ],
      "text/plain": [
       "<Result 'residential_parcels'>"
      ]
     },
     "execution_count": 20,
     "metadata": {},
     "output_type": "execute_result"
    }
   ],
   "source": [
    "codeblock = \"\"\"\n",
    "def eval_zoning(zone, lot_width):\n",
    "    if zone in ['R-1']:\n",
    "        if lot_width >= 100:\n",
    "            return 1\n",
    "        else:\n",
    "            return 0\n",
    "    elif zone == 'R-2':\n",
    "        if lot_width >= 70:\n",
    "            return 1\n",
    "        else:\n",
    "            return 0\n",
    "    elif zone == 'R-3':\n",
    "        if lot_width >= 50:\n",
    "            return 1\n",
    "        else:\n",
    "            return 0\n",
    "    elif zone in ['R-4', 'R-5', 'RA-1', 'RA-2']:\n",
    "        if lot_width >= 50:\n",
    "            return 2\n",
    "        else:\n",
    "            return 0\n",
    "\"\"\"\n",
    "\n",
    "arcpy.management.CalculateField(\n",
    "    \"residential_parcels\", \n",
    "    \"lot_width_allows\", \n",
    "    \"eval_zoning(!zoning!, !lot_width!)\", \n",
    "    \"PYTHON3\", \n",
    "    codeblock, \n",
    "    \"SHORT\"\n",
    ")"
   ]
  },
  {
   "cell_type": "code",
   "execution_count": 20,
   "metadata": {},
   "outputs": [
    {
     "data": {
      "text/html": [
       "<h2>Output</h2>a Layer object<h2>Messages</h2>Start Time: Friday, February 11, 2022 4:31:00 PM<br/>Succeeded at Friday, February 11, 2022 4:31:04 PM (Elapsed Time: 4.46 seconds)<br/><style>.rendered_html td, .rendered_html th {text-align: left;}.rendered_html tbody {border: 1px solid black;}</style>"
      ],
      "text/plain": [
       "<Result 'residential_parcels'>"
      ]
     },
     "execution_count": 20,
     "metadata": {},
     "output_type": "execute_result"
    }
   ],
   "source": [
    "codeblock = \"\"\"\n",
    "def units(zone, size, width):\n",
    "    return max(1, min(zone, size, width))\n",
    "\"\"\"\n",
    "arcpy.management.CalculateField(\n",
    "    \"residential_parcels\", \n",
    "    \"units_allowed\", \n",
    "    \"units(!zoning_allows!, !lot_size_allows!, !lot_width_allows!)\",\n",
    "    \"PYTHON3\",\n",
    "    codeblock,\n",
    "    \"SHORT\"\n",
    ")"
   ]
  },
  {
   "cell_type": "code",
   "execution_count": 22,
   "metadata": {
    "scrolled": true
   },
   "outputs": [
    {
     "data": {
      "text/html": [
       "<h2>Output</h2>a Layer object<h2>Messages</h2>Start Time: Thursday, February 10, 2022 8:43:55 PM<br/>Adding category to residential_parcels...<br/>Succeeded at Thursday, February 10, 2022 8:43:58 PM (Elapsed Time: 3.10 seconds)<br/><style>.rendered_html td, .rendered_html th {text-align: left;}.rendered_html tbody {border: 1px solid black;}</style>"
      ],
      "text/plain": [
       "<Result 'residential_parcels'>"
      ]
     },
     "execution_count": 22,
     "metadata": {},
     "output_type": "execute_result"
    }
   ],
   "source": [
    "codeblock = \"\"\"\n",
    "def categorize(zone):\n",
    "    if zone in ['R-4', 'R-5', 'RA-1', 'RA-2']:\n",
    "        return \"Penalized Multifamily\"\n",
    "    elif zone in ['R-1', 'R-2', 'R-3']:\n",
    "        return \"Single-Family\"\n",
    "\"\"\"\n",
    "arcpy.management.CalculateField(\n",
    "    \"residential_parcels\", \n",
    "    \"category\", \n",
    "    \"categorize(!zoning!)\",\n",
    "    \"PYTHON3\",\n",
    "    codeblock,\n",
    "    \"TEXT\"\n",
    ")"
   ]
  },
  {
   "cell_type": "code",
   "execution_count": null,
   "metadata": {},
   "outputs": [],
   "source": [
    "arcpy.conversion.FeatureClassToFeatureClass(\n",
    "    \"residential_parcels\", \n",
    "    r\"shp\\Kalispell.gdb\", \n",
    "    \"kalispell_residential_parcels\", \n",
    "    '', \n",
    "    'city \"city\" true true false 512 Text 0 0,First,#,residential_parcels,city,0,512;zoning \"zoning\" true true false 512 Text 0 0,First,#,residential_parcels,zoning,0,512;lot_size \"lot_size\" true true false 8 Double 0 0,First,#,residential_parcels,lot_size,-1,-1;lot_width \"lot_width\" true true false 2 Short 0 0,First,#,residential_parcels,lot_width,-1,-1;zoning_allows \"zoning_allows\" true true false 2 Short 0 0,First,#,residential_parcels,zoning_allows,-1,-1;lot_size_allows \"lot_size_allows\" true true false 2 Short 0 0,First,#,residential_parcels,lot_size_allows,-1,-1;lot_width_allows \"lot_width_allows\" true true false 2 Short 0 0,First,#,residential_parcels,lot_width_allows,-1,-1;units_allowed \"units_allowed\" true true false 2 Short 0 0,First,#,residential_parcels,units_allowed,-1,-1;category \"category\" true true false 512 Text 0 0,First,#,residential_parcels,category,0,512', \n",
    "    ''\n",
    ")"
   ]
  }
 ],
 "metadata": {
  "kernelspec": {
   "display_name": "ArcGISPro",
   "language": "Python",
   "name": "python3"
  },
  "language_info": {
   "file_extension": ".py",
   "name": "python",
   "version": "3"
  }
 },
 "nbformat": 4,
 "nbformat_minor": 2
}
