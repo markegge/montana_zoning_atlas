{
 "cells": [
  {
   "cell_type": "markdown",
   "metadata": {},
   "source": [
    "# Kalispell\n",
    "\n",
    "Source: https://maps.ci.kalispell.mt.us/server/rest/services/PlanningDept/Zoning/FeatureServer/0"
   ]
  },
  {
   "cell_type": "markdown",
   "metadata": {},
   "source": [
    "1. Add the \"OwnerParcel\" layer from the parcels GDB for the city\n",
    "2. Add the zoning layer"
   ]
  },
  {
   "cell_type": "code",
   "execution_count": 3,
   "metadata": {
    "ExecuteTime": {
     "end_time": "2022-02-16T19:18:01.561000Z",
     "start_time": "2022-02-16T19:18:00.999139Z"
    }
   },
   "outputs": [
    {
     "data": {
      "text/plain": [
       "{'name': 'Kalispell', 'zoning_field': 'ZONE_USE', 'county': 'Flathead', 'residential_zones': ['R-1', 'R-2', 'R-3', 'R-4', 'R-5', 'RA-1', 'RA-2'], 'gdb': 'cities\\\\Kalispell.gdb', 'layer': 'cities\\\\Kalispell.gdb\\\\Parcels_Kalispell'}"
      ]
     },
     "execution_count": 3,
     "metadata": {},
     "output_type": "execute_result"
    }
   ],
   "source": [
    "city = cities[index_of('Kalispell')]\n",
    "city"
   ]
  },
  {
   "cell_type": "code",
   "execution_count": 79,
   "metadata": {},
   "outputs": [
    {
     "data": {
      "text/html": [
       "<h2>Output</h2>cities\\Kalispell.gdb\\Parcels_Kalispell<h2>Messages</h2>Start Time: Saturday, February 12, 2022 5:27:31 PM<br/>Succeeded at Saturday, February 12, 2022 5:27:31 PM (Elapsed Time: 0.94 seconds)<br/><style>.rendered_html td, .rendered_html th {text-align: left;}.rendered_html tbody {border: 1px solid black;}</style>"
      ],
      "text/plain": [
       "<Result 'cities\\\\Kalispell.gdb\\\\Parcels_Kalispell'>"
      ]
     },
     "execution_count": 79,
     "metadata": {},
     "output_type": "execute_result"
    }
   ],
   "source": [
    "codeblock = \"\"\"\n",
    "def eval_zoning(zone):\n",
    "    if zone in ['R-1', 'R-2', 'R-3']:\n",
    "        return 1\n",
    "    elif zone in ['R-4', 'R-5', 'RA-1', 'RA-2']:\n",
    "        return 2\n",
    "    else:\n",
    "        return 0\n",
    "\"\"\"\n",
    "\n",
    "arcpy.management.CalculateField(\n",
    "    city['layer'], \n",
    "    \"zoning_allows\", \n",
    "    \"eval_zoning(!zoning!)\", \n",
    "    \"PYTHON3\", \n",
    "    codeblock, \n",
    "    \"SHORT\"\n",
    ")"
   ]
  },
  {
   "cell_type": "code",
   "execution_count": 80,
   "metadata": {},
   "outputs": [
    {
     "data": {
      "text/html": [
       "<h2>Output</h2>cities\\Kalispell.gdb\\Parcels_Kalispell<h2>Messages</h2>Start Time: Saturday, February 12, 2022 5:27:32 PM<br/>Succeeded at Saturday, February 12, 2022 5:27:33 PM (Elapsed Time: 1.00 seconds)<br/><style>.rendered_html td, .rendered_html th {text-align: left;}.rendered_html tbody {border: 1px solid black;}</style>"
      ],
      "text/plain": [
       "<Result 'cities\\\\Kalispell.gdb\\\\Parcels_Kalispell'>"
      ]
     },
     "execution_count": 80,
     "metadata": {},
     "output_type": "execute_result"
    }
   ],
   "source": [
    "codeblock = \"\"\"\n",
    "def eval_zoning(zone, lot_size):\n",
    "    if zone == 'R-1':\n",
    "        if lot_size >= 20000:\n",
    "            return 1\n",
    "        else:\n",
    "            return 0\n",
    "    elif zone == 'R-2':\n",
    "        if lot_size >= 10000:\n",
    "            return 1\n",
    "        else:\n",
    "            return 0\n",
    "    elif zone == 'R-3':\n",
    "        if lot_size >= 6000:\n",
    "            return 1\n",
    "        else:\n",
    "            return 0\n",
    "    elif zone in ['R-4', 'R-5', 'RA-1', 'RA-2']:\n",
    "        if lot_size >= 6000:\n",
    "            return 2\n",
    "        else:\n",
    "            return 0\n",
    "\"\"\"\n",
    "\n",
    "arcpy.management.CalculateField(\n",
    "    city['layer'], \n",
    "    \"lot_size_allows\", \n",
    "    \"eval_zoning(!zoning!, !lot_size!)\", \n",
    "    \"PYTHON3\", \n",
    "    codeblock, \n",
    "    \"SHORT\"\n",
    ")"
   ]
  },
  {
   "cell_type": "code",
   "execution_count": 81,
   "metadata": {},
   "outputs": [
    {
     "data": {
      "text/html": [
       "<h2>Output</h2>cities\\Kalispell.gdb\\Parcels_Kalispell<h2>Messages</h2>Start Time: Saturday, February 12, 2022 5:27:34 PM<br/>Adding lot_width_allows to Parcels_Kalispell...<br/>Succeeded at Saturday, February 12, 2022 5:27:36 PM (Elapsed Time: 1.79 seconds)<br/><style>.rendered_html td, .rendered_html th {text-align: left;}.rendered_html tbody {border: 1px solid black;}</style>"
      ],
      "text/plain": [
       "<Result 'cities\\\\Kalispell.gdb\\\\Parcels_Kalispell'>"
      ]
     },
     "execution_count": 81,
     "metadata": {},
     "output_type": "execute_result"
    }
   ],
   "source": [
    "codeblock = \"\"\"\n",
    "def eval_zoning(zone, lot_width):\n",
    "    if zone in ['R-1']:\n",
    "        if lot_width >= 100:\n",
    "            return 1\n",
    "        else:\n",
    "            return 0\n",
    "    elif zone == 'R-2':\n",
    "        if lot_width >= 70:\n",
    "            return 1\n",
    "        else:\n",
    "            return 0\n",
    "    elif zone == 'R-3':\n",
    "        if lot_width >= 50:\n",
    "            return 1\n",
    "        else:\n",
    "            return 0\n",
    "    elif zone in ['R-4', 'R-5', 'RA-1', 'RA-2']:\n",
    "        if lot_width >= 50:\n",
    "            return 2\n",
    "        else:\n",
    "            return 0\n",
    "\"\"\"\n",
    "\n",
    "arcpy.management.CalculateField(\n",
    "    city['layer'], \n",
    "    \"lot_width_allows\", \n",
    "    \"eval_zoning(!zoning!, !lot_width!)\", \n",
    "    \"PYTHON3\", \n",
    "    codeblock, \n",
    "    \"SHORT\"\n",
    ")"
   ]
  },
  {
   "cell_type": "code",
   "execution_count": 6,
   "metadata": {
    "ExecuteTime": {
     "end_time": "2022-02-16T19:20:28.582631Z",
     "start_time": "2022-02-16T19:20:22.337130Z"
    },
    "scrolled": true
   },
   "outputs": [
    {
     "data": {
      "text/html": [
       "<h2>Output</h2>cities\\Kalispell.gdb\\Parcels_Kalispell<h2>Messages</h2>Start Time: Wednesday, February 16, 2022 12:20:24 PM<br/>Succeeded at Wednesday, February 16, 2022 12:20:26 PM (Elapsed Time: 1.43 seconds)<br/><style>.rendered_html td, .rendered_html th {text-align: left;}.rendered_html tbody {border: 1px solid black;}</style>"
      ],
      "text/plain": [
       "<Result 'cities\\\\Kalispell.gdb\\\\Parcels_Kalispell'>"
      ]
     },
     "execution_count": 6,
     "metadata": {},
     "output_type": "execute_result"
    }
   ],
   "source": [
    "codeblock = \"\"\"\n",
    "def categorize(zone):\n",
    "    if zone in ['R-4', 'R-5', 'RA-1', 'RA-2']:\n",
    "        return \"Multifamily\"\n",
    "    elif zone in ['R-1', 'R-2', 'R-3']:\n",
    "        return \"Single-Family Zoning\"\n",
    "\"\"\"\n",
    "arcpy.management.CalculateField(\n",
    "    city['layer'], \n",
    "    \"category\", \n",
    "    \"categorize(!zoning!)\",\n",
    "    \"PYTHON3\",\n",
    "    codeblock,\n",
    "    \"TEXT\"\n",
    ")"
   ]
  },
  {
   "cell_type": "code",
   "execution_count": null,
   "metadata": {},
   "outputs": [],
   "source": []
  }
 ],
 "metadata": {
  "kernelspec": {
   "display_name": "ArcGISPro",
   "language": "Python",
   "name": "python3"
  },
  "language_info": {
   "file_extension": ".py",
   "name": "python",
   "version": "3"
  }
 },
 "nbformat": 4,
 "nbformat_minor": 2
}
