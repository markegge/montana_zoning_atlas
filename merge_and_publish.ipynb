{
 "cells": [
  {
   "cell_type": "markdown",
   "metadata": {},
   "source": [
    "Use merge tool  to merge all dataset into 'parcels' feature layer"
   ]
  },
  {
   "cell_type": "code",
   "execution_count": 64,
   "metadata": {
    "ExecuteTime": {
     "end_time": "2022-02-12T00:13:37.262326Z",
     "start_time": "2022-02-12T00:13:10.408528Z"
    }
   },
   "outputs": [
    {
     "data": {
      "text/html": [
       "<h2>Output</h2>zoning_atlas.gdb\\parcels1<h2>Messages</h2>Start Time: Friday, February 11, 2022 5:13:14 PM<br/>Succeeded at Friday, February 11, 2022 5:13:34 PM (Elapsed Time: 19.90 seconds)<br/><style>.rendered_html td, .rendered_html th {text-align: left;}.rendered_html tbody {border: 1px solid black;}</style>"
      ],
      "text/plain": [
       "<Result 'zoning_atlas.gdb\\\\parcels1'>"
      ]
     },
     "execution_count": 64,
     "metadata": {},
     "output_type": "execute_result"
    }
   ],
   "source": [
    "arcpy.management.Merge(\n",
    "    r\"shp\\Billings.gdb\\billings_residential_parcels;shp\\Bozeman.gdb\\bozeman_residential_parcels\", \n",
    "    r\"zoning_atlas.gdb\\parcels1\", \n",
    "    None,\n",
    "    \"NO_SOURCE_INFO\"\n",
    ")"
   ]
  },
  {
   "cell_type": "code",
   "execution_count": 65,
   "metadata": {
    "ExecuteTime": {
     "end_time": "2022-02-12T00:14:04.926910Z",
     "start_time": "2022-02-12T00:13:37.262668Z"
    }
   },
   "outputs": [
    {
     "data": {
      "text/html": [
       "<h2>Output</h2>zoning_atlas.gdb\\parcels2<h2>Messages</h2>Start Time: Friday, February 11, 2022 5:13:40 PM<br/>Succeeded at Friday, February 11, 2022 5:14:01 PM (Elapsed Time: 21.56 seconds)<br/><style>.rendered_html td, .rendered_html th {text-align: left;}.rendered_html tbody {border: 1px solid black;}</style>"
      ],
      "text/plain": [
       "<Result 'zoning_atlas.gdb\\\\parcels2'>"
      ]
     },
     "execution_count": 65,
     "metadata": {},
     "output_type": "execute_result"
    }
   ],
   "source": [
    "arcpy.management.Merge(\n",
    "    r\"zoning_atlas.gdb\\parcels1;shp\\Helena.gdb\\helena_residential_parcels\", \n",
    "    r\"zoning_atlas.gdb\\parcels2\", \n",
    "    None,\n",
    "    \"NO_SOURCE_INFO\"\n",
    ")"
   ]
  },
  {
   "cell_type": "code",
   "execution_count": 66,
   "metadata": {
    "ExecuteTime": {
     "end_time": "2022-02-12T00:14:32.621170Z",
     "start_time": "2022-02-12T00:14:04.927363Z"
    }
   },
   "outputs": [
    {
     "data": {
      "text/html": [
       "<h2>Output</h2>zoning_atlas.gdb\\parcels3<h2>Messages</h2>Start Time: Friday, February 11, 2022 5:14:07 PM<br/>Succeeded at Friday, February 11, 2022 5:14:30 PM (Elapsed Time: 22.91 seconds)<br/><style>.rendered_html td, .rendered_html th {text-align: left;}.rendered_html tbody {border: 1px solid black;}</style>"
      ],
      "text/plain": [
       "<Result 'zoning_atlas.gdb\\\\parcels3'>"
      ]
     },
     "execution_count": 66,
     "metadata": {},
     "output_type": "execute_result"
    }
   ],
   "source": [
    "arcpy.management.Merge(\n",
    "    r\"zoning_atlas.gdb\\parcels2;shp\\Kalispell.gdb\\kalispell_residential_parcels\", \n",
    "    r\"zoning_atlas.gdb\\parcels3\", \n",
    "    None,\n",
    "    \"NO_SOURCE_INFO\"\n",
    ")"
   ]
  },
  {
   "cell_type": "code",
   "execution_count": 67,
   "metadata": {
    "ExecuteTime": {
     "end_time": "2022-02-12T00:15:03.365195Z",
     "start_time": "2022-02-12T00:14:32.62469Z"
    }
   },
   "outputs": [
    {
     "data": {
      "text/html": [
       "<h2>Output</h2>zoning_atlas.gdb\\parcels4<h2>Messages</h2>Start Time: Friday, February 11, 2022 5:14:34 PM<br/>Succeeded at Friday, February 11, 2022 5:15:01 PM (Elapsed Time: 26.44 seconds)<br/><style>.rendered_html td, .rendered_html th {text-align: left;}.rendered_html tbody {border: 1px solid black;}</style>"
      ],
      "text/plain": [
       "<Result 'zoning_atlas.gdb\\\\parcels4'>"
      ]
     },
     "execution_count": 67,
     "metadata": {},
     "output_type": "execute_result"
    }
   ],
   "source": [
    "arcpy.management.Merge(\n",
    "    r\"zoning_atlas.gdb\\parcels3;shp\\Missoula.gdb\\missoula_residential_parcels\", \n",
    "    r\"zoning_atlas.gdb\\parcels4\", \n",
    "    None,\n",
    "    \"NO_SOURCE_INFO\"\n",
    ")"
   ]
  },
  {
   "cell_type": "code",
   "execution_count": 68,
   "metadata": {
    "ExecuteTime": {
     "end_time": "2022-02-12T00:15:35.295046Z",
     "start_time": "2022-02-12T00:15:03.365536Z"
    }
   },
   "outputs": [
    {
     "data": {
      "text/html": [
       "<h2>Output</h2>zoning_atlas.gdb\\parcels<h2>Messages</h2>Start Time: Friday, February 11, 2022 5:15:06 PM<br/>Succeeded at Friday, February 11, 2022 5:15:33 PM (Elapsed Time: 26.91 seconds)<br/><style>.rendered_html td, .rendered_html th {text-align: left;}.rendered_html tbody {border: 1px solid black;}</style>"
      ],
      "text/plain": [
       "<Result 'zoning_atlas.gdb\\\\parcels'>"
      ]
     },
     "execution_count": 68,
     "metadata": {},
     "output_type": "execute_result"
    }
   ],
   "source": [
    "arcpy.management.Merge(\n",
    "    r\"zoning_atlas.gdb\\parcels4;shp\\Whitefish.gdb\\whitefish_residential_parcels\", \n",
    "    r\"zoning_atlas.gdb\\parcels\", \n",
    "    None,\n",
    "    \"NO_SOURCE_INFO\"\n",
    ")"
   ]
  },
  {
   "cell_type": "code",
   "execution_count": 69,
   "metadata": {
    "ExecuteTime": {
     "end_time": "2022-02-12T00:16:23.283322Z",
     "start_time": "2022-02-12T00:16:22.699429Z"
    }
   },
   "outputs": [
    {
     "data": {
      "text/html": [
       "<h2>Output</h2><table><tr><th>id</th><th>value</th></tr><tr><td>0</td><td>a Layer object</td></tr><tr><td>1</td><td>11647</td></tr></table><h2>Messages</h2>Start Time: Friday, February 11, 2022 5:16:22 PM<br/>Succeeded at Friday, February 11, 2022 5:16:22 PM (Elapsed Time: 0.09 seconds)<br/><style>.rendered_html td, .rendered_html th {text-align: left;}.rendered_html tbody {border: 1px solid black;}</style>"
      ],
      "text/plain": [
       "<Result 'parcels'>"
      ]
     },
     "execution_count": 69,
     "metadata": {},
     "output_type": "execute_result"
    }
   ],
   "source": [
    "arcpy.management.SelectLayerByAttribute(\n",
    "    \"parcels\", \n",
    "    \"NEW_SELECTION\", \n",
    "    \"category <> 'Single-Family' And units_allowed <= 1\", None)"
   ]
  },
  {
   "cell_type": "code",
   "execution_count": 70,
   "metadata": {
    "ExecuteTime": {
     "end_time": "2022-02-12T00:16:40.919626Z",
     "start_time": "2022-02-12T00:16:32.977608Z"
    }
   },
   "outputs": [
    {
     "data": {
      "text/html": [
       "<h2>Output</h2>a Layer object<h2>Messages</h2>Start Time: Friday, February 11, 2022 5:16:33 PM<br/>Succeeded at Friday, February 11, 2022 5:16:40 PM (Elapsed Time: 7.22 seconds)<br/><style>.rendered_html td, .rendered_html th {text-align: left;}.rendered_html tbody {border: 1px solid black;}</style>"
      ],
      "text/plain": [
       "<Result 'parcels'>"
      ]
     },
     "execution_count": 70,
     "metadata": {},
     "output_type": "execute_result"
    }
   ],
   "source": [
    "arcpy.management.CalculateField(\n",
    "    \"parcels\", \n",
    "    \"category\", \n",
    "    '\"De Facto Single-Family\"', \n",
    "    \"PYTHON3\", '', \"TEXT\", \"NO_ENFORCE_DOMAINS\")"
   ]
  },
  {
   "cell_type": "code",
   "execution_count": 72,
   "metadata": {
    "ExecuteTime": {
     "end_time": "2022-02-12T00:17:32.186818Z",
     "start_time": "2022-02-12T00:17:09.786088Z"
    }
   },
   "outputs": [
    {
     "data": {
      "text/html": [
       "<h2>Output</h2>a Layer object<h2>Messages</h2>Start Time: Friday, February 11, 2022 5:17:10 PM<br/>Succeeded at Friday, February 11, 2022 5:17:31 PM (Elapsed Time: 21.03 seconds)<br/><style>.rendered_html td, .rendered_html th {text-align: left;}.rendered_html tbody {border: 1px solid black;}</style>"
      ],
      "text/plain": [
       "<Result 'parcels'>"
      ]
     },
     "execution_count": 72,
     "metadata": {},
     "output_type": "execute_result"
    }
   ],
   "source": [
    "arcpy.management.SelectLayerByAttribute(\n",
    "    \"parcels\", \n",
    "    \"NEW_SELECTION\", \n",
    "    \"category = 'Single-Family'\", None)\n"
   ]
  },
  {
   "cell_type": "code",
   "execution_count": 1,
   "metadata": {},
   "outputs": [
    {
     "data": {
      "text/html": [
       "<h2>Output</h2>a Layer object<h2>Messages</h2>Start Time: Friday, February 11, 2022 5:26:54 PM<br/>Succeeded at Friday, February 11, 2022 5:26:55 PM (Elapsed Time: 0.46 seconds)<br/><style>.rendered_html td, .rendered_html th {text-align: left;}.rendered_html tbody {border: 1px solid black;}</style>"
      ],
      "text/plain": [
       "<Result 'Parcels'>"
      ]
     },
     "execution_count": 1,
     "metadata": {},
     "output_type": "execute_result"
    }
   ],
   "source": [
    "arcpy.management.CalculateField(\n",
    "    \"parcels\", \n",
    "    \"category\", \n",
    "    '\"Single-Family Zoning\"', \n",
    "    \"PYTHON3\", '', \"TEXT\", \"NO_ENFORCE_DOMAINS\")"
   ]
  },
  {
   "cell_type": "code",
   "execution_count": 3,
   "metadata": {},
   "outputs": [
    {
     "data": {
      "text/html": [
       "<h2>Output</h2>a Layer object<h2>Messages</h2>Start Time: Friday, February 11, 2022 5:32:37 PM<br/>Succeeded at Friday, February 11, 2022 5:33:20 PM (Elapsed Time: 43.53 seconds)<br/><style>.rendered_html td, .rendered_html th {text-align: left;}.rendered_html tbody {border: 1px solid black;}</style>"
      ],
      "text/plain": [
       "<Result 'Parcels'>"
      ]
     },
     "execution_count": 3,
     "metadata": {},
     "output_type": "execute_result"
    }
   ],
   "source": [
    "arcpy.management.CalculateField(\n",
    "    \"Parcels\", \n",
    "    \"lot_size\", \n",
    "    \"round(!lot_size!)\", \n",
    "    \"PYTHON3\", \n",
    "    None, \n",
    "    \"SHORT\"\n",
    ")"
   ]
  },
  {
   "cell_type": "code",
   "execution_count": null,
   "metadata": {},
   "outputs": [],
   "source": []
  }
 ],
 "metadata": {
  "kernelspec": {
   "display_name": "ArcGISPro",
   "language": "Python",
   "name": "python3"
  },
  "language_info": {
   "file_extension": ".py",
   "name": "python",
   "version": "3"
  }
 },
 "nbformat": 4,
 "nbformat_minor": 2
}
