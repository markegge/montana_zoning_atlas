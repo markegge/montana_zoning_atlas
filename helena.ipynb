{
 "cells": [
  {
   "cell_type": "markdown",
   "metadata": {},
   "source": [
    "1. Add the \"OwnerParcel\" layer from the parcels GDB for the city\n",
    "2. Add the zoning layer\n",
    "Zoning from https://maps.cityofwhitefish.org/server/rest/services/kiosk_zones/MapServer/0"
   ]
  },
  {
   "cell_type": "code",
   "execution_count": 23,
   "metadata": {},
   "outputs": [],
   "source": [
    "city = 'Helena'\n",
    "zone_field = 'ZoneCode'\n",
    "source_parcels = r'shp\\LewisClark_GDB\\LewisClark_Parcels.gdb\\OwnerParcel'\n",
    "source_zoning = r'shp\\zoning.gdb\\helena'\n",
    "\n",
    "import os\n",
    "import shutil\n",
    "gdb = os.path.join('shp', city + '.gdb')\n",
    "spatial_join_layer = \"OwnerParcel_SpatialJoin_\" + city"
   ]
  },
  {
   "cell_type": "code",
   "execution_count": 52,
   "metadata": {},
   "outputs": [
    {
     "data": {
      "text/html": [
       "<h2>Output</h2>shp\\Helena.gdb<h2>Messages</h2>Start Time: Thursday, February 10, 2022 9:19:59 PM<br/>Succeeded at Thursday, February 10, 2022 9:19:59 PM (Elapsed Time: 0.45 seconds)<br/><style>.rendered_html td, .rendered_html th {text-align: left;}.rendered_html tbody {border: 1px solid black;}</style>"
      ],
      "text/plain": [
       "<Result 'shp\\\\Helena.gdb'>"
      ]
     },
     "execution_count": 52,
     "metadata": {},
     "output_type": "execute_result"
    }
   ],
   "source": [
    "# if baseline GDB exists, delete it\n",
    "if os.path.isdir(gdb):\n",
    "    shutil.rmtree(gdb)\n",
    "\n",
    "arcpy.management.CreateFileGDB('shp', city)"
   ]
  },
  {
   "cell_type": "code",
   "execution_count": 53,
   "metadata": {},
   "outputs": [
    {
     "data": {
      "text/html": [
       "<h2>Output</h2>shp\\Helena.gdb\\OwnerParcel<h2>Messages</h2>Start Time: Thursday, February 10, 2022 9:20:03 PM<br/>Succeeded at Thursday, February 10, 2022 9:20:34 PM (Elapsed Time: 31.37 seconds)<br/><style>.rendered_html td, .rendered_html th {text-align: left;}.rendered_html tbody {border: 1px solid black;}</style>"
      ],
      "text/plain": [
       "<Result 'shp\\\\Helena.gdb\\\\OwnerParcel'>"
      ]
     },
     "execution_count": 53,
     "metadata": {},
     "output_type": "execute_result"
    }
   ],
   "source": [
    "arcpy.conversion.FeatureClassToFeatureClass(\n",
    "    source_parcels,\n",
    "    gdb,\n",
    "    \"OwnerParcel\"\n",
    ")"
   ]
  },
  {
   "cell_type": "code",
   "execution_count": 54,
   "metadata": {
    "scrolled": true
   },
   "outputs": [
    {
     "data": {
      "text/html": [
       "<h2>Output</h2>shp\\Helena.gdb\\Zoning<h2>Messages</h2>Start Time: Thursday, February 10, 2022 9:20:38 PM<br/>Succeeded at Thursday, February 10, 2022 9:20:41 PM (Elapsed Time: 3.37 seconds)<br/><style>.rendered_html td, .rendered_html th {text-align: left;}.rendered_html tbody {border: 1px solid black;}</style>"
      ],
      "text/plain": [
       "<Result 'shp\\\\Helena.gdb\\\\Zoning'>"
      ]
     },
     "execution_count": 54,
     "metadata": {},
     "output_type": "execute_result"
    }
   ],
   "source": [
    "arcpy.conversion.FeatureClassToFeatureClass(\n",
    "    source_zoning,\n",
    "    gdb,\n",
    "    \"Zoning\"\n",
    ")"
   ]
  },
  {
   "cell_type": "code",
   "execution_count": 55,
   "metadata": {},
   "outputs": [
    {
     "data": {
      "text/html": [
       "<h2>Output</h2>shp\\Helena.gdb\\OwnerParcel_SpatialJoin_Helena<h2>Messages</h2>Start Time: Thursday, February 10, 2022 9:20:44 PM<br/>Succeeded at Thursday, February 10, 2022 9:20:57 PM (Elapsed Time: 12.91 seconds)<br/><style>.rendered_html td, .rendered_html th {text-align: left;}.rendered_html tbody {border: 1px solid black;}</style>"
      ],
      "text/plain": [
       "<Result 'shp\\\\Helena.gdb\\\\OwnerParcel_SpatialJoin_Helena'>"
      ]
     },
     "execution_count": 55,
     "metadata": {},
     "output_type": "execute_result"
    }
   ],
   "source": [
    "arcpy.analysis.SpatialJoin(\n",
    "    \"OwnerParcel\", \n",
    "    \"Zoning\", \n",
    "    os.path.join(gdb, spatial_join_layer), \n",
    "    \"JOIN_ONE_TO_ONE\", \n",
    "    \"KEEP_COMMON\", \n",
    "    None, \n",
    "    \"HAVE_THEIR_CENTER_IN\")"
   ]
  },
  {
   "cell_type": "code",
   "execution_count": 57,
   "metadata": {},
   "outputs": [
    {
     "data": {
      "text/html": [
       "<h2>Output</h2><table><tr><th>id</th><th>value</th></tr><tr><td>0</td><td>a Layer object</td></tr><tr><td>1</td><td>8481</td></tr></table><h2>Messages</h2>Start Time: Thursday, February 10, 2022 9:21:32 PM<br/>Succeeded at Thursday, February 10, 2022 9:21:32 PM (Elapsed Time: 0.09 seconds)<br/><style>.rendered_html td, .rendered_html th {text-align: left;}.rendered_html tbody {border: 1px solid black;}</style>"
      ],
      "text/plain": [
       "<Result 'OwnerParcel_SpatialJoin_Helena'>"
      ]
     },
     "execution_count": 57,
     "metadata": {},
     "output_type": "execute_result"
    }
   ],
   "source": [
    "arcpy.management.SelectLayerByAttribute(\n",
    "    spatial_join_layer, \n",
    "    \"NEW_SELECTION\", \n",
    "    zone_field + \"\"\"\n",
    "     IN ('OSR', 'R1', 'R2', 'R3', 'R4', 'RO', 'RU') \n",
    "    AND PARCELID IS NOT NULL \n",
    "    AND PropType NOT IN (\n",
    "        '',\n",
    "        'VR - Vacant Land Rural', \n",
    "        'CA - Centrally Assessed', \n",
    "        'VU - Vacant Land Urban',\n",
    "        'FARM_U - Farmstead - Urban', \n",
    "        'NVS - Non-Valued with Specials', \n",
    "        'RV_PARK - RV Park', \n",
    "        'GRAVEL - Gravel Pit', \n",
    "        'GOLF - Golf Course',\n",
    "        'EP_PART - Partial Exempt Property', \n",
    "        'CN - Centrally Assessed Non-Valued Property', \n",
    "        'NV - Non-Valued Property', 'FARM_R - Farmstead - Rural', \n",
    "        'VAC_U - Vacant Land - Urban', \n",
    "        'EP - Exempt Property', 'VAC_R - Vacant Land - Rural'\n",
    "    )\n",
    "    \"\"\", \n",
    "    \"NON_INVERT\"\n",
    ")"
   ]
  },
  {
   "cell_type": "code",
   "execution_count": 58,
   "metadata": {},
   "outputs": [
    {
     "data": {
      "text/html": [
       "<h2>Output</h2>shp\\Helena.gdb\\residential_parcels<h2>Messages</h2>Start Time: Thursday, February 10, 2022 9:21:38 PM<br/>Succeeded at Thursday, February 10, 2022 9:21:48 PM (Elapsed Time: 10.02 seconds)<br/><style>.rendered_html td, .rendered_html th {text-align: left;}.rendered_html tbody {border: 1px solid black;}</style>"
      ],
      "text/plain": [
       "<Result 'shp\\\\Helena.gdb\\\\residential_parcels'>"
      ]
     },
     "execution_count": 58,
     "metadata": {},
     "output_type": "execute_result"
    }
   ],
   "source": [
    "arcpy.conversion.FeatureClassToFeatureClass(\n",
    "    spatial_join_layer, \n",
    "    gdb, \n",
    "    \"residential_parcels\"\n",
    ")\n",
    "# then rename to residential_parcels"
   ]
  },
  {
   "cell_type": "code",
   "execution_count": 59,
   "metadata": {},
   "outputs": [
    {
     "data": {
      "text/html": [
       "<h2>Output</h2>a Layer object<h2>Messages</h2>Start Time: Thursday, February 10, 2022 9:21:51 PM<br/>Succeeded at Thursday, February 10, 2022 9:22:09 PM (Elapsed Time: 17.78 seconds)<br/><style>.rendered_html td, .rendered_html th {text-align: left;}.rendered_html tbody {border: 1px solid black;}</style>"
      ],
      "text/plain": [
       "<Result 'residential_parcels'>"
      ]
     },
     "execution_count": 59,
     "metadata": {},
     "output_type": "execute_result"
    }
   ],
   "source": [
    "arcpy.management.CalculateGeometryAttributes(\n",
    "    \"residential_parcels\", \n",
    "    \"lot_size AREA\", \n",
    "    '', \n",
    "    \"SQUARE_FEET_US\", \n",
    "    None, \n",
    "    \"SAME_AS_INPUT\"\n",
    ")"
   ]
  },
  {
   "cell_type": "code",
   "execution_count": 60,
   "metadata": {
    "scrolled": true
   },
   "outputs": [
    {
     "data": {
      "text/html": [
       "<h2>Output</h2>shp\\Helena.gdb\\parcels_ft<h2>Messages</h2>Start Time: Thursday, February 10, 2022 9:22:25 PM<br/>Succeeded at Thursday, February 10, 2022 9:22:38 PM (Elapsed Time: 12.86 seconds)<br/><style>.rendered_html td, .rendered_html th {text-align: left;}.rendered_html tbody {border: 1px solid black;}</style>"
      ],
      "text/plain": [
       "<Result 'shp\\\\Helena.gdb\\\\parcels_ft'>"
      ]
     },
     "execution_count": 60,
     "metadata": {},
     "output_type": "execute_result"
    }
   ],
   "source": [
    "arcpy.management.Project(\n",
    "    \"residential_parcels\", \n",
    "    os.path.join(gdb, 'parcels_ft'), \n",
    "    'PROJCS[\"NAD_1983_StatePlane_Montana_FIPS_2500_Feet\",GEOGCS[\"GCS_North_American_1983\",DATUM[\"D_North_American_1983\",SPHEROID[\"GRS_1980\",6378137.0,298.257222101]],PRIMEM[\"Greenwich\",0.0],UNIT[\"Degree\",0.0174532925199433]],PROJECTION[\"Lambert_Conformal_Conic\"],PARAMETER[\"False_Easting\",1968500.0],PARAMETER[\"False_Northing\",0.0],PARAMETER[\"Central_Meridian\",-109.5],PARAMETER[\"Standard_Parallel_1\",45.0],PARAMETER[\"Standard_Parallel_2\",49.0],PARAMETER[\"Latitude_Of_Origin\",44.25],UNIT[\"Foot_US\",0.3048006096012192]]', \"'WGS_1984_(ITRF08)_To_NAD_1983_2011 + WGS_1984_(ITRF00)_To_NAD_1983'\", 'PROJCS[\"NAD_1983_2011_StatePlane_Montana_FIPS_2500\",GEOGCS[\"GCS_NAD_1983_2011\",DATUM[\"D_NAD_1983_2011\",SPHEROID[\"GRS_1980\",6378137.0,298.257222101]],PRIMEM[\"Greenwich\",0.0],UNIT[\"Degree\",0.0174532925199433]],PROJECTION[\"Lambert_Conformal_Conic\"],PARAMETER[\"False_Easting\",600000.0],PARAMETER[\"False_Northing\",0.0],PARAMETER[\"Central_Meridian\",-109.5],PARAMETER[\"Standard_Parallel_1\",45.0],PARAMETER[\"Standard_Parallel_2\",49.0],PARAMETER[\"Latitude_Of_Origin\",44.25],UNIT[\"Meter\",1.0]]', \n",
    "    \"NO_PRESERVE_SHAPE\", \n",
    "    None, \n",
    "    \"NO_VERTICAL\"\n",
    ")"
   ]
  },
  {
   "cell_type": "code",
   "execution_count": 61,
   "metadata": {},
   "outputs": [
    {
     "data": {
      "text/html": [
       "<h2>Output</h2>shp\\Helena.gdb\\parcels_mbb<h2>Messages</h2>Start Time: Thursday, February 10, 2022 9:22:46 PM<br/>Succeeded at Thursday, February 10, 2022 9:22:55 PM (Elapsed Time: 9.17 seconds)<br/><style>.rendered_html td, .rendered_html th {text-align: left;}.rendered_html tbody {border: 1px solid black;}</style>"
      ],
      "text/plain": [
       "<Result 'shp\\\\Helena.gdb\\\\parcels_mbb'>"
      ]
     },
     "execution_count": 61,
     "metadata": {},
     "output_type": "execute_result"
    }
   ],
   "source": [
    "arcpy.management.MinimumBoundingGeometry(\n",
    "    os.path.join(gdb, 'parcels_ft'), \n",
    "    os.path.join(gdb, 'parcels_mbb'), \n",
    "    \"RECTANGLE_BY_WIDTH\", \n",
    "    \"NONE\", \n",
    "    None, \n",
    "    \"MBG_FIELDS\"\n",
    ")"
   ]
  },
  {
   "cell_type": "code",
   "execution_count": 62,
   "metadata": {},
   "outputs": [
    {
     "data": {
      "text/html": [
       "<h2>Output</h2>a Layer object<h2>Messages</h2>Start Time: Thursday, February 10, 2022 9:22:58 PM<br/>Succeeded at Thursday, February 10, 2022 9:23:09 PM (Elapsed Time: 11.03 seconds)<br/><style>.rendered_html td, .rendered_html th {text-align: left;}.rendered_html tbody {border: 1px solid black;}</style>"
      ],
      "text/plain": [
       "<Result 'residential_parcels'>"
      ]
     },
     "execution_count": 62,
     "metadata": {},
     "output_type": "execute_result"
    }
   ],
   "source": [
    "arcpy.management.JoinField(\n",
    "    \"residential_parcels\", \n",
    "    'PARCELID', \n",
    "    os.path.join(gdb, 'parcels_mbb'), \n",
    "    'PARCELID', \n",
    "    'MBG_Width;MBG_Length'\n",
    ")"
   ]
  },
  {
   "cell_type": "code",
   "execution_count": 63,
   "metadata": {},
   "outputs": [
    {
     "data": {
      "text/html": [
       "<h2>Output</h2>a Layer object<h2>Messages</h2>Start Time: Thursday, February 10, 2022 9:23:12 PM<br/>Adding city to residential_parcels...<br/>Succeeded at Thursday, February 10, 2022 9:23:15 PM (Elapsed Time: 2.98 seconds)<br/><style>.rendered_html td, .rendered_html th {text-align: left;}.rendered_html tbody {border: 1px solid black;}</style>"
      ],
      "text/plain": [
       "<Result 'residential_parcels'>"
      ]
     },
     "execution_count": 63,
     "metadata": {},
     "output_type": "execute_result"
    }
   ],
   "source": [
    "arcpy.management.CalculateField(\n",
    "    \"residential_parcels\", \n",
    "    \"city\", \n",
    "    '\"' + city + '\"'\n",
    ")"
   ]
  },
  {
   "cell_type": "code",
   "execution_count": 64,
   "metadata": {},
   "outputs": [
    {
     "data": {
      "text/html": [
       "<h2>Output</h2>a Layer object<h2>Messages</h2>Start Time: Thursday, February 10, 2022 9:23:17 PM<br/>Adding lot_width to residential_parcels...<br/>Succeeded at Thursday, February 10, 2022 9:23:20 PM (Elapsed Time: 2.54 seconds)<br/><style>.rendered_html td, .rendered_html th {text-align: left;}.rendered_html tbody {border: 1px solid black;}</style>"
      ],
      "text/plain": [
       "<Result 'residential_parcels'>"
      ]
     },
     "execution_count": 64,
     "metadata": {},
     "output_type": "execute_result"
    }
   ],
   "source": [
    "arcpy.management.CalculateField(\n",
    "    \"residential_parcels\", \n",
    "    \"lot_width\", \n",
    "    \"!MBG_Width!\", \n",
    "    \"PYTHON3\", \n",
    "    None, \n",
    "    \"SHORT\"\n",
    ")"
   ]
  },
  {
   "cell_type": "code",
   "execution_count": 24,
   "metadata": {},
   "outputs": [
    {
     "data": {
      "text/html": [
       "<h2>Output</h2>a Layer object<h2>Messages</h2>Start Time: Friday, February 11, 2022 4:37:52 PM<br/>Succeeded at Friday, February 11, 2022 4:37:58 PM (Elapsed Time: 5.35 seconds)<br/><style>.rendered_html td, .rendered_html th {text-align: left;}.rendered_html tbody {border: 1px solid black;}</style>"
      ],
      "text/plain": [
       "<Result 'residential_parcels'>"
      ]
     },
     "execution_count": 24,
     "metadata": {},
     "output_type": "execute_result"
    }
   ],
   "source": [
    "arcpy.management.CalculateField(\n",
    "    \"residential_parcels\", \n",
    "    \"lot_size\", \n",
    "    \"round(!lot_size!)\", \n",
    "    \"PYTHON3\", \n",
    "    None, \n",
    "    \"SHORT\"\n",
    ")"
   ]
  },
  {
   "cell_type": "code",
   "execution_count": 65,
   "metadata": {
    "scrolled": true
   },
   "outputs": [
    {
     "data": {
      "text/html": [
       "<h2>Output</h2>a Layer object<h2>Messages</h2>Start Time: Thursday, February 10, 2022 9:23:22 PM<br/>Adding zoning to residential_parcels...<br/>Succeeded at Thursday, February 10, 2022 9:23:24 PM (Elapsed Time: 2.55 seconds)<br/><style>.rendered_html td, .rendered_html th {text-align: left;}.rendered_html tbody {border: 1px solid black;}</style>"
      ],
      "text/plain": [
       "<Result 'residential_parcels'>"
      ]
     },
     "execution_count": 65,
     "metadata": {},
     "output_type": "execute_result"
    }
   ],
   "source": [
    "arcpy.management.CalculateField(\n",
    "    \"residential_parcels\", \n",
    "    \"zoning\", \n",
    "    \"!\" + zone_field + \"!\", \n",
    "    \"PYTHON3\"\n",
    ")"
   ]
  },
  {
   "cell_type": "code",
   "execution_count": 25,
   "metadata": {},
   "outputs": [
    {
     "data": {
      "text/html": [
       "<h2>Output</h2>a Layer object<h2>Messages</h2>Start Time: Friday, February 11, 2022 4:38:42 PM<br/>Succeeded at Friday, February 11, 2022 4:38:47 PM (Elapsed Time: 5.11 seconds)<br/><style>.rendered_html td, .rendered_html th {text-align: left;}.rendered_html tbody {border: 1px solid black;}</style>"
      ],
      "text/plain": [
       "<Result 'residential_parcels'>"
      ]
     },
     "execution_count": 25,
     "metadata": {},
     "output_type": "execute_result"
    }
   ],
   "source": [
    "codeblock = \"\"\"\n",
    "def eval_zoning(zone):\n",
    "    if zone in ['OSR']:\n",
    "        return 5\n",
    "    elif zone in ['R1', 'R2', 'RU']:\n",
    "        return 2\n",
    "    elif zone in ['R3', 'R4', 'RO']:\n",
    "        return 5\n",
    "    else:\n",
    "        return 0\n",
    "\"\"\"\n",
    "\n",
    "arcpy.management.CalculateField(\n",
    "    \"residential_parcels\", \n",
    "    \"zoning_allows\", \n",
    "    \"eval_zoning(!zoning!)\", \n",
    "    \"PYTHON3\", \n",
    "    codeblock, \n",
    "    \"SHORT\"\n",
    ")"
   ]
  },
  {
   "cell_type": "code",
   "execution_count": 67,
   "metadata": {},
   "outputs": [
    {
     "data": {
      "text/html": [
       "<h2>Output</h2>a Layer object<h2>Messages</h2>Start Time: Thursday, February 10, 2022 9:24:08 PM<br/>Adding lot_size_allows to residential_parcels...<br/>Succeeded at Thursday, February 10, 2022 9:24:10 PM (Elapsed Time: 2.09 seconds)<br/><style>.rendered_html td, .rendered_html th {text-align: left;}.rendered_html tbody {border: 1px solid black;}</style>"
      ],
      "text/plain": [
       "<Result 'residential_parcels'>"
      ]
     },
     "execution_count": 67,
     "metadata": {},
     "output_type": "execute_result"
    }
   ],
   "source": [
    "codeblock = \"\"\"\n",
    "def eval_zoning(zone, lot_size):\n",
    "    if zone in ['OSR']:\n",
    "        if lot_size >= 43560:\n",
    "            return 1\n",
    "        else:\n",
    "            return 0\n",
    "    else:\n",
    "        return 5\n",
    "\"\"\"\n",
    "\n",
    "arcpy.management.CalculateField(\n",
    "    \"residential_parcels\", \n",
    "    \"lot_size_allows\", \n",
    "    \"eval_zoning(!zoning!, !lot_size!)\", \n",
    "    \"PYTHON3\", \n",
    "    codeblock, \n",
    "    \"SHORT\"\n",
    ")"
   ]
  },
  {
   "cell_type": "code",
   "execution_count": 68,
   "metadata": {},
   "outputs": [
    {
     "data": {
      "text/html": [
       "<h2>Output</h2>a Layer object<h2>Messages</h2>Start Time: Thursday, February 10, 2022 9:24:22 PM<br/>Adding lot_width_allows to residential_parcels...<br/>Succeeded at Thursday, February 10, 2022 9:24:24 PM (Elapsed Time: 2.08 seconds)<br/><style>.rendered_html td, .rendered_html th {text-align: left;}.rendered_html tbody {border: 1px solid black;}</style>"
      ],
      "text/plain": [
       "<Result 'residential_parcels'>"
      ]
     },
     "execution_count": 68,
     "metadata": {},
     "output_type": "execute_result"
    }
   ],
   "source": [
    "codeblock = \"\"\"\n",
    "def eval_zoning(zone, lot_width):\n",
    "    return 5\n",
    "\n",
    "\"\"\"\n",
    "\n",
    "arcpy.management.CalculateField(\n",
    "    \"residential_parcels\", \n",
    "    \"lot_width_allows\", \n",
    "    \"eval_zoning(!zoning!, !lot_width!)\", \n",
    "    \"PYTHON3\", \n",
    "    codeblock, \n",
    "    \"SHORT\"\n",
    ")"
   ]
  },
  {
   "cell_type": "code",
   "execution_count": 26,
   "metadata": {},
   "outputs": [
    {
     "data": {
      "text/html": [
       "<h2>Output</h2>a Layer object<h2>Messages</h2>Start Time: Friday, February 11, 2022 4:38:55 PM<br/>Succeeded at Friday, February 11, 2022 4:39:01 PM (Elapsed Time: 6.24 seconds)<br/><style>.rendered_html td, .rendered_html th {text-align: left;}.rendered_html tbody {border: 1px solid black;}</style>"
      ],
      "text/plain": [
       "<Result 'residential_parcels'>"
      ]
     },
     "execution_count": 26,
     "metadata": {},
     "output_type": "execute_result"
    }
   ],
   "source": [
    "codeblock = \"\"\"\n",
    "def units(zone, size, width):\n",
    "    return max(1, min(zone, size, width))\n",
    "\"\"\"\n",
    "arcpy.management.CalculateField(\n",
    "    \"residential_parcels\", \n",
    "    \"units_allowed\", \n",
    "    \"units(!zoning_allows!, !lot_size_allows!, !lot_width_allows!)\",\n",
    "    \"PYTHON3\",\n",
    "    codeblock,\n",
    "    \"SHORT\"\n",
    ")"
   ]
  },
  {
   "cell_type": "code",
   "execution_count": 27,
   "metadata": {},
   "outputs": [
    {
     "data": {
      "text/html": [
       "<h2>Output</h2>a Layer object<h2>Messages</h2>Start Time: Friday, February 11, 2022 4:39:08 PM<br/>Succeeded at Friday, February 11, 2022 4:39:14 PM (Elapsed Time: 6.48 seconds)<br/><style>.rendered_html td, .rendered_html th {text-align: left;}.rendered_html tbody {border: 1px solid black;}</style>"
      ],
      "text/plain": [
       "<Result 'residential_parcels'>"
      ]
     },
     "execution_count": 27,
     "metadata": {},
     "output_type": "execute_result"
    }
   ],
   "source": [
    "codeblock = \"\"\"\n",
    "def categorize(zone):\n",
    "    return \"Multifamily\"\n",
    "\"\"\"\n",
    "arcpy.management.CalculateField(\n",
    "    \"residential_parcels\", \n",
    "    \"category\", \n",
    "    \"categorize(!zoning!)\",\n",
    "    \"PYTHON3\",\n",
    "    codeblock,\n",
    "    \"TEXT\"\n",
    ")"
   ]
  },
  {
   "cell_type": "code",
   "execution_count": 28,
   "metadata": {},
   "outputs": [
    {
     "data": {
      "text/html": [
       "<h2>Output</h2>shp\\Helena.gdb\\helena_residential_parcels<h2>Messages</h2>Start Time: Friday, February 11, 2022 4:40:04 PM<br/>Succeeded at Friday, February 11, 2022 4:40:12 PM (Elapsed Time: 7.57 seconds)<br/><style>.rendered_html td, .rendered_html th {text-align: left;}.rendered_html tbody {border: 1px solid black;}</style>"
      ],
      "text/plain": [
       "<Result 'shp\\\\Helena.gdb\\\\helena_residential_parcels'>"
      ]
     },
     "execution_count": 28,
     "metadata": {},
     "output_type": "execute_result"
    }
   ],
   "source": [
    "arcpy.conversion.FeatureClassToFeatureClass(\n",
    "    \"residential_parcels\", \n",
    "    gdb, \n",
    "    city.lower() + \"_residential_parcels\", \n",
    "    '', \n",
    "    'city \"city\" true true false 512 Text 0 0,First,#,residential_parcels,city,0,512;zoning \"zoning\" true true false 512 Text 0 0,First,#,residential_parcels,zoning,0,512;lot_size \"lot_size\" true true false 8 Double 0 0,First,#,residential_parcels,lot_size,-1,-1;lot_width \"lot_width\" true true false 2 Short 0 0,First,#,residential_parcels,lot_width,-1,-1;zoning_allows \"zoning_allows\" true true false 2 Short 0 0,First,#,residential_parcels,zoning_allows,-1,-1;lot_size_allows \"lot_size_allows\" true true false 2 Short 0 0,First,#,residential_parcels,lot_size_allows,-1,-1;lot_width_allows \"lot_width_allows\" true true false 2 Short 0 0,First,#,residential_parcels,lot_width_allows,-1,-1;units_allowed \"units_allowed\" true true false 2 Short 0 0,First,#,residential_parcels,units_allowed,-1,-1;category \"category\" true true false 512 Text 0 0,First,#,residential_parcels,category,0,512', \n",
    "    ''\n",
    ")"
   ]
  },
  {
   "cell_type": "code",
   "execution_count": null,
   "metadata": {},
   "outputs": [],
   "source": []
  }
 ],
 "metadata": {
  "kernelspec": {
   "display_name": "ArcGISPro",
   "language": "Python",
   "name": "python3"
  },
  "language_info": {
   "file_extension": ".py",
   "name": "python",
   "version": "3"
  }
 },
 "nbformat": 4,
 "nbformat_minor": 2
}
