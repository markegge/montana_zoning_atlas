{
 "cells": [
  {
   "cell_type": "markdown",
   "metadata": {},
   "source": [
    "1. Add the \"OwnerParcel\" layer from the parcels GDB for the city\n",
    "2. Add the zoning layer\n",
    "Zoning from https://maps.cityofwhitefish.org/server/rest/services/kiosk_zones/MapServer/0"
   ]
  },
  {
   "cell_type": "code",
   "execution_count": 101,
   "metadata": {},
   "outputs": [
    {
     "data": {
      "text/plain": [
       "{'name': 'Helena', 'zoning_field': 'ZoneCode', 'county': 'LewisClark', 'residential_zones': ['R1', 'R2', 'R3', 'R4', 'RO', 'RU'], 'gdb': 'cities\\\\Helena.gdb', 'layer': 'cities\\\\Helena.gdb\\\\Parcels_Helena'}"
      ]
     },
     "execution_count": 101,
     "metadata": {},
     "output_type": "execute_result"
    }
   ],
   "source": [
    "city = cities[index_of('Helena')]\n",
    "city"
   ]
  },
  {
   "cell_type": "code",
   "execution_count": 102,
   "metadata": {},
   "outputs": [
    {
     "data": {
      "text/html": [
       "<h2>Output</h2>cities\\Helena.gdb\\Parcels_Helena<h2>Messages</h2>Start Time: Saturday, February 12, 2022 5:43:36 PM<br/>Succeeded at Saturday, February 12, 2022 5:43:37 PM (Elapsed Time: 1.07 seconds)<br/><style>.rendered_html td, .rendered_html th {text-align: left;}.rendered_html tbody {border: 1px solid black;}</style>"
      ],
      "text/plain": [
       "<Result 'cities\\\\Helena.gdb\\\\Parcels_Helena'>"
      ]
     },
     "execution_count": 102,
     "metadata": {},
     "output_type": "execute_result"
    }
   ],
   "source": [
    "codeblock = \"\"\"\n",
    "def eval_zoning(zone):\n",
    "    if zone in ['OSR']:\n",
    "        return 5\n",
    "    elif zone in ['R1', 'R2', 'RU']:\n",
    "        return 2\n",
    "    elif zone in ['R3', 'R4', 'RO']:\n",
    "        return 5\n",
    "    else:\n",
    "        return 0\n",
    "\"\"\"\n",
    "\n",
    "arcpy.management.CalculateField(\n",
    "    city['layer'], \n",
    "    \"zoning_allows\", \n",
    "    \"eval_zoning(!zoning!)\", \n",
    "    \"PYTHON3\", \n",
    "    codeblock, \n",
    "    \"SHORT\"\n",
    ")"
   ]
  },
  {
   "cell_type": "code",
   "execution_count": 103,
   "metadata": {},
   "outputs": [
    {
     "data": {
      "text/html": [
       "<h2>Output</h2>cities\\Helena.gdb\\Parcels_Helena<h2>Messages</h2>Start Time: Saturday, February 12, 2022 5:44:01 PM<br/>Succeeded at Saturday, February 12, 2022 5:44:07 PM (Elapsed Time: 5.53 seconds)<br/><style>.rendered_html td, .rendered_html th {text-align: left;}.rendered_html tbody {border: 1px solid black;}</style>"
      ],
      "text/plain": [
       "<Result 'cities\\\\Helena.gdb\\\\Parcels_Helena'>"
      ]
     },
     "execution_count": 103,
     "metadata": {},
     "output_type": "execute_result"
    }
   ],
   "source": [
    "codeblock = \"\"\"\n",
    "def eval_zoning(zone, lot_size):\n",
    "    if zone in ['OSR']:\n",
    "        if lot_size >= 43560:\n",
    "            return 1\n",
    "        else:\n",
    "            return 0\n",
    "    else:\n",
    "        return 5\n",
    "\"\"\"\n",
    "\n",
    "arcpy.management.CalculateField(\n",
    "    city['layer'], \n",
    "    \"lot_size_allows\", \n",
    "    \"eval_zoning(!zoning!, !lot_size!)\", \n",
    "    \"PYTHON3\", \n",
    "    codeblock, \n",
    "    \"SHORT\"\n",
    ")"
   ]
  },
  {
   "cell_type": "code",
   "execution_count": 104,
   "metadata": {},
   "outputs": [
    {
     "data": {
      "text/html": [
       "<h2>Output</h2>cities\\Helena.gdb\\Parcels_Helena<h2>Messages</h2>Start Time: Saturday, February 12, 2022 5:44:08 PM<br/>Succeeded at Saturday, February 12, 2022 5:44:14 PM (Elapsed Time: 5.69 seconds)<br/><style>.rendered_html td, .rendered_html th {text-align: left;}.rendered_html tbody {border: 1px solid black;}</style>"
      ],
      "text/plain": [
       "<Result 'cities\\\\Helena.gdb\\\\Parcels_Helena'>"
      ]
     },
     "execution_count": 104,
     "metadata": {},
     "output_type": "execute_result"
    }
   ],
   "source": [
    "codeblock = \"\"\"\n",
    "def eval_zoning(zone, lot_width):\n",
    "    return 5\n",
    "\n",
    "\"\"\"\n",
    "\n",
    "arcpy.management.CalculateField(\n",
    "    city['layer'], \n",
    "    \"lot_width_allows\", \n",
    "    \"eval_zoning(!zoning!, !lot_width!)\", \n",
    "    \"PYTHON3\", \n",
    "    codeblock, \n",
    "    \"SHORT\"\n",
    ")"
   ]
  },
  {
   "cell_type": "code",
   "execution_count": 105,
   "metadata": {},
   "outputs": [
    {
     "data": {
      "text/html": [
       "<h2>Output</h2>cities\\Helena.gdb\\Parcels_Helena<h2>Messages</h2>Start Time: Saturday, February 12, 2022 5:44:15 PM<br/>Succeeded at Saturday, February 12, 2022 5:44:22 PM (Elapsed Time: 7.18 seconds)<br/><style>.rendered_html td, .rendered_html th {text-align: left;}.rendered_html tbody {border: 1px solid black;}</style>"
      ],
      "text/plain": [
       "<Result 'cities\\\\Helena.gdb\\\\Parcels_Helena'>"
      ]
     },
     "execution_count": 105,
     "metadata": {},
     "output_type": "execute_result"
    }
   ],
   "source": [
    "codeblock = \"\"\"\n",
    "def categorize(zone):\n",
    "    return \"Multifamily\"\n",
    "\"\"\"\n",
    "arcpy.management.CalculateField(\n",
    "    city['layer'], \n",
    "    \"category\", \n",
    "    \"categorize(!zoning!)\",\n",
    "    \"PYTHON3\",\n",
    "    codeblock,\n",
    "    \"TEXT\"\n",
    ")"
   ]
  },
  {
   "cell_type": "code",
   "execution_count": null,
   "metadata": {},
   "outputs": [],
   "source": []
  }
 ],
 "metadata": {
  "kernelspec": {
   "display_name": "ArcGISPro",
   "language": "Python",
   "name": "python3"
  },
  "language_info": {
   "file_extension": ".py",
   "name": "python",
   "version": "3"
  }
 },
 "nbformat": 4,
 "nbformat_minor": 2
}
