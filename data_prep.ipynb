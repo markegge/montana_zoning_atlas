{
 "cells": [
  {
   "cell_type": "markdown",
   "metadata": {},
   "source": [
    "1. Add the \"OwnerParcel\" layer from the parcels GDB for the city\n",
    "2. Add the zoning layer\n",
    "Zoning from https://maps.cityofwhitefish.org/server/rest/services/kiosk_zones/MapServer/0"
   ]
  },
  {
   "cell_type": "code",
   "execution_count": null,
   "metadata": {},
   "outputs": [],
   "source": [
    "import os\n",
    "import shutil\n",
    "\n",
    "def index_of(city_name):\n",
    "    i = next((index for (index, d) in enumerate(cities) if d[\"name\"] == city_name), None)\n",
    "    return i\n",
    "\n",
    "cities = [\n",
    "    {\n",
    "        'name': 'Billings',\n",
    "        'zoning_field': 'ZONE_CODE',\n",
    "        'county': 'Yellowstone',\n",
    "        'residential_zones': ['N1', 'N2', 'N3', 'NX1', 'NX2', 'NX3', 'RMH']\n",
    "    },\n",
    "    {\n",
    "        'name': 'Bozeman',\n",
    "        'zoning_field': 'ZONING',\n",
    "        'county': 'Gallatin',\n",
    "        'residential_zones': ['R-S', 'R-1', 'R-2', 'R-3', \n",
    "        'R-4', 'R-5', 'R-O', 'RMH']\n",
    "    },\n",
    "    {\n",
    "        'name': 'Helena',\n",
    "        'zoning_field': 'ZoneCode',\n",
    "        'county': 'LewisClark',\n",
    "        'residential_zones': ['R1', 'R2', 'R3', 'R4', 'RO', 'RU']\n",
    "    },\n",
    "    {\n",
    "        'name': 'Kalispell',\n",
    "        'zoning_field': 'ZONE_USE',\n",
    "        'county': 'Flathead',\n",
    "        'residential_zones': ['R-1', 'R-2', 'R-3', \n",
    "                               'R-4', 'R-5', 'RA-1', 'RA-2']\n",
    "    },\n",
    "    {\n",
    "        'name': 'Missoula',\n",
    "        'zoning_field': 'Zoning',\n",
    "        'county': 'Missoula',\n",
    "        'residential_zones': ['R215', 'R80', 'R40', 'R20', 'RT10', 'R8', \n",
    "        'R5.4', 'RT5.4', 'R3', 'RT2.7', 'RM2.7', 'RM2', 'RM1.5', \n",
    "        'RM1', 'RM0.5', 'RMH']\n",
    "    },\n",
    "    {\n",
    "        'name': 'Whitefish',\n",
    "        'zoning_field': 'zone_use',\n",
    "        'county': 'Flathead',\n",
    "        'residential_zones': ['WA', 'WCR', 'WSR', 'WER', 'WLR', 'WR-1', \n",
    "                             'WR-2', 'WR-3', 'WR-4', 'WRR-1', 'WRR-2', 'WBMRR']\n",
    "    }\n",
    "]\n",
    "\n",
    "for city in cities:\n",
    "    city['gdb'] = os.path.join('cities', city['name'] + '.gdb')\n",
    "    city['layer'] = os.path.join(city['gdb'], 'Parcels_' + city['name'])"
   ]
  },
  {
   "cell_type": "code",
   "execution_count": null,
   "metadata": {},
   "outputs": [],
   "source": []
  },
  {
   "cell_type": "code",
   "execution_count": null,
   "metadata": {},
   "outputs": [],
   "source": []
  },
  {
   "cell_type": "code",
   "execution_count": null,
   "metadata": {},
   "outputs": [],
   "source": [
    "# Create city GDBs\n",
    "# Copy in the zoning layer\n",
    "# Rename the appropriate field in the zoning layer to 'zoning'\n",
    "\n",
    "for city in cities: \n",
    "    source_zoning = os.path.join('shp', 'zoning.gdb', city['name'].lower())\n",
    "    \n",
    "    # create GDB if not exists\n",
    "    if not os.path.isdir(city['gdb']):\n",
    "        arcpy.management.CreateFileGDB('cities', city['name'])\n",
    "\n",
    "    arcpy.conversion.FeatureClassToFeatureClass(\n",
    "        source_zoning,\n",
    "        city['gdb'],\n",
    "        \"Zoning\"\n",
    "    )\n",
    "    \n",
    "    # rename zoning code field to zoning\n",
    "    \n",
    "    arcpy.management.AlterField(\n",
    "        os.path.join(city['gdb'], 'Zoning'),\n",
    "        city['zoning_field'],\n",
    "        'zoning_temp'\n",
    "    )\n",
    "    \n",
    "    arcpy.management.AlterField(\n",
    "        os.path.join(city['gdb'], 'Zoning'),\n",
    "        'zoning_temp',\n",
    "        'zoning', \n",
    "        'Zoning Code'\n",
    "    )\n",
    "    \n",
    "    aprx = arcpy.mp.ArcGISProject(\"CURRENT\")\n",
    "    mp = aprx.listMaps(\"Map\")[0]\n",
    "    for layer in mp.listLayers():\n",
    "        if layer.name in [\"Zoning\"]:\n",
    "            mp.removeLayer(layer)\n",
    "        "
   ]
  },
  {
   "cell_type": "code",
   "execution_count": null,
   "metadata": {},
   "outputs": [],
   "source": [
    "# Join the parcels and the zoning\n",
    "\n",
    "for city in cities:\n",
    "    source_parcels = r'shp\\{0}_GDB\\{0}_Parcels.gdb\\OwnerParcel'.format(city['county'])\n",
    "    \n",
    "    where_clause = \"\"\"\n",
    "    PARCELID IS NOT NULL \n",
    "    AND PropType NOT IN (\n",
    "            '',\n",
    "            'VR - Vacant Land Rural', \n",
    "            'CA - Centrally Assessed', \n",
    "            'VU - Vacant Land Urban',\n",
    "            'FARM_U - Farmstead - Urban', \n",
    "            'NVS - Non-Valued with Specials', \n",
    "            'RV_PARK - RV Park', \n",
    "            'GRAVEL - Gravel Pit', \n",
    "            'GOLF - Golf Course',\n",
    "            'EP_PART - Partial Exempt Property', \n",
    "            'CN - Centrally Assessed Non-Valued Property', \n",
    "            'NV - Non-Valued Property', 'FARM_R - Farmstead - Rural', \n",
    "            'VAC_U - Vacant Land - Urban', \n",
    "            'EP - Exempt Property', 'VAC_R - Vacant Land - Rural'\n",
    "        )\n",
    "    \"\"\"\n",
    "    arcpy.management.MakeFeatureLayer(\n",
    "        source_parcels, \n",
    "        'cadastral_parcels', \n",
    "        where_clause\n",
    "    )\n",
    "    \n",
    "    where_clause =  \"zoning IN ('\" + \"', '\".join(city['residential_zones']) + \"')\"\n",
    "    arcpy.management.MakeFeatureLayer(\n",
    "        os.path.join(city['gdb'], 'Zoning'),\n",
    "        'zoning', \n",
    "        where_clause\n",
    "    )\n",
    "    \n",
    "    arcpy.analysis.SpatialJoin(\n",
    "        'cadastral_parcels', \n",
    "        'zoning', \n",
    "        city['layer'], \n",
    "        \"JOIN_ONE_TO_ONE\", \n",
    "        \"KEEP_COMMON\", \n",
    "        None, \n",
    "        \"HAVE_THEIR_CENTER_IN\"\n",
    "    )\n",
    "    \n",
    "    aprx = arcpy.mp.ArcGISProject(\"CURRENT\")\n",
    "    mp = aprx.listMaps(\"Map\")[0]\n",
    "    for layer in mp.listLayers():\n",
    "        if layer.name in ['parcels', 'zoning', 'cadastral_parcels']:\n",
    "            mp.removeLayer(layer)"
   ]
  },
  {
   "cell_type": "code",
   "execution_count": null,
   "metadata": {},
   "outputs": [],
   "source": [
    "# calculate lot sizes\n",
    "for city in cities:\n",
    "\n",
    "    # calculate lot areas in SF and acres\n",
    "    arcpy.management.CalculateGeometryAttributes(\n",
    "        city['layer'], \n",
    "        \"lot_size AREA\", \n",
    "        '', \n",
    "        \"SQUARE_FEET_US\", \n",
    "        None, \n",
    "        \"SAME_AS_INPUT\"\n",
    "    )\n",
    "    arcpy.management.CalculateField(\n",
    "        city['layer'], \n",
    "        \"lot_size\", \n",
    "        \"round(!lot_size!)\", \n",
    "        \"PYTHON3\", \n",
    "        None, \n",
    "        \"SHORT\"\n",
    "    )\n",
    "\n",
    "    # calculate lot areas in SF and acres\n",
    "    arcpy.management.CalculateField(\n",
    "        city['layer'], \n",
    "        \"lot_acres\", \n",
    "        \"round(!lot_size! / 43560, 3)\", \n",
    "        \"PYTHON3\", \n",
    "        None, \n",
    "        \"DOUBLE\"\n",
    "    )"
   ]
  },
  {
   "cell_type": "code",
   "execution_count": null,
   "metadata": {},
   "outputs": [],
   "source": [
    "# add city name field\n",
    "for city in cities:\n",
    "    arcpy.management.CalculateField(\n",
    "        city['layer'], \n",
    "        \"city\", \n",
    "        '\"' + city['name'] + '\"'\n",
    "    )"
   ]
  },
  {
   "cell_type": "code",
   "execution_count": null,
   "metadata": {
    "scrolled": true
   },
   "outputs": [],
   "source": [
    "# add calulate lot widths\n",
    "\n",
    "for city in cities:\n",
    "    \n",
    "    arcpy.management.Project(\n",
    "        city['layer'], \n",
    "        os.path.join(city['gdb'], 'parcels_ft'),\n",
    "        'PROJCS[\"NAD_1983_StatePlane_Montana_FIPS_2500_Feet\",GEOGCS[\"GCS_North_American_1983\",DATUM[\"D_North_American_1983\",SPHEROID[\"GRS_1980\",6378137.0,298.257222101]],PRIMEM[\"Greenwich\",0.0],UNIT[\"Degree\",0.0174532925199433]],PROJECTION[\"Lambert_Conformal_Conic\"],PARAMETER[\"False_Easting\",1968500.0],PARAMETER[\"False_Northing\",0.0],PARAMETER[\"Central_Meridian\",-109.5],PARAMETER[\"Standard_Parallel_1\",45.0],PARAMETER[\"Standard_Parallel_2\",49.0],PARAMETER[\"Latitude_Of_Origin\",44.25],UNIT[\"Foot_US\",0.3048006096012192]]', \"'WGS_1984_(ITRF08)_To_NAD_1983_2011 + WGS_1984_(ITRF00)_To_NAD_1983'\", 'PROJCS[\"NAD_1983_2011_StatePlane_Montana_FIPS_2500\",GEOGCS[\"GCS_NAD_1983_2011\",DATUM[\"D_NAD_1983_2011\",SPHEROID[\"GRS_1980\",6378137.0,298.257222101]],PRIMEM[\"Greenwich\",0.0],UNIT[\"Degree\",0.0174532925199433]],PROJECTION[\"Lambert_Conformal_Conic\"],PARAMETER[\"False_Easting\",600000.0],PARAMETER[\"False_Northing\",0.0],PARAMETER[\"Central_Meridian\",-109.5],PARAMETER[\"Standard_Parallel_1\",45.0],PARAMETER[\"Standard_Parallel_2\",49.0],PARAMETER[\"Latitude_Of_Origin\",44.25],UNIT[\"Meter\",1.0]]'\n",
    "    )\n",
    "    \n",
    "    arcpy.management.MinimumBoundingGeometry(\n",
    "        os.path.join(city['gdb'], 'parcels_ft'),\n",
    "        r'memory\\parcels_mbb', \n",
    "        \"RECTANGLE_BY_WIDTH\", \n",
    "        \"NONE\", \n",
    "        None, \n",
    "        \"MBG_FIELDS\"\n",
    "    )\n",
    "    \n",
    "    arcpy.management.JoinField(\n",
    "        city['layer'], \n",
    "        'PARCELID', \n",
    "        r'memory\\parcels_mbb', \n",
    "        'PARCELID', \n",
    "        'MBG_Width;MBG_Length'\n",
    "    )\n",
    "    \n",
    "    arcpy.management.CalculateField(\n",
    "        city['layer'], \n",
    "        \"lot_width\", \n",
    "        \"!MBG_Width!\", \n",
    "        \"PYTHON3\", \n",
    "        None, \n",
    "        \"SHORT\"\n",
    "    )\n",
    "\n",
    "    arcpy.management.Delete(r'memory\\parcels_mbb')"
   ]
  },
  {
   "cell_type": "code",
   "execution_count": null,
   "metadata": {},
   "outputs": [],
   "source": [
    "arcpy.management.SelectLayerByAttribute(\n",
    "    'Parcels_' + 'Billings', \n",
    "    \"NEW_SELECTION\", \n",
    "    \"lot_acres >= 160 Or lot_size < 250\"\n",
    ")\n"
   ]
  },
  {
   "cell_type": "code",
   "execution_count": null,
   "metadata": {
    "scrolled": false
   },
   "outputs": [],
   "source": [
    "# remove parcels less than 500 SF and greater than 160 acres\n",
    "# make sure these are layers in contents pane\n",
    "for city in cities:\n",
    "    \n",
    "    arcpy.management.MakeFeatureLayer(\n",
    "        city['layer'],\n",
    "        'parcels'\n",
    "    )\n",
    "    \n",
    "    arcpy.management.SelectLayerByAttribute(\n",
    "        'parcels', \n",
    "        \"NEW_SELECTION\", \n",
    "        \"lot_acres >= 160 Or lot_size < 250\"\n",
    "    )\n",
    "    \n",
    "    if int(arcpy.management.GetCount('parcels')[0]) < 500:\n",
    "        arcpy.management.DeleteFeatures('parcels')\n",
    "    else:\n",
    "        print('too many features selected ' + city['name'])\n",
    "    \n",
    "    aprx = arcpy.mp.ArcGISProject(\"CURRENT\")\n",
    "    mp = aprx.listMaps(\"Map\")[0]\n",
    "    for layer in mp.listLayers():\n",
    "        if layer.name in ['parcels', 'Parcels_' + city['name']]:\n",
    "            mp.removeLayer(layer)"
   ]
  },
  {
   "cell_type": "markdown",
   "metadata": {},
   "source": [
    "## Calcualte zoning facts/figures"
   ]
  },
  {
   "cell_type": "raw",
   "metadata": {},
   "source": [
    "arcpy.management.CalculateField(\n",
    "    \"residential_parcels\", \n",
    "    \"zoning_allows\", \n",
    "    \"eval_zoning(!zoning!)\", \n",
    "    \"PYTHON3\", \n",
    "    zoning_allows_codeblock, \n",
    "    \"SHORT\"\n",
    ")\n",
    "\n",
    "arcpy.management.CalculateField(\n",
    "    \"residential_parcels\", \n",
    "    \"lot_size_allows\", \n",
    "    \"eval_zoning(!zoning!, !lot_size!)\", \n",
    "    \"PYTHON3\", \n",
    "    lot_size_allows_codeblock, \n",
    "    \"SHORT\"\n",
    ")\n",
    "\n",
    "arcpy.management.CalculateField(\n",
    "    \"residential_parcels\", \n",
    "    \"lot_width_allows\", \n",
    "    \"eval_zoning(!zoning!, !lot_width!)\", \n",
    "    \"PYTHON3\", \n",
    "    lot_width_allows_codeblock, \n",
    "    \"SHORT\"\n",
    ")\n",
    "\n",
    "arcpy.management.CalculateField(\n",
    "    \"residential_parcels\", \n",
    "    \"category\", \n",
    "    \"categorize(!zoning!)\",\n",
    "    \"PYTHON3\",\n",
    "    category_codeblock,\n",
    "    \"TEXT\"\n",
    ")"
   ]
  },
  {
   "cell_type": "markdown",
   "metadata": {},
   "source": [
    "## Whitefish"
   ]
  },
  {
   "cell_type": "code",
   "execution_count": null,
   "metadata": {},
   "outputs": [],
   "source": []
  },
  {
   "cell_type": "markdown",
   "metadata": {},
   "source": [
    "## Kalispell"
   ]
  },
  {
   "cell_type": "markdown",
   "metadata": {},
   "source": [
    "## Missoula"
   ]
  },
  {
   "cell_type": "markdown",
   "metadata": {},
   "source": [
    "## Helena"
   ]
  },
  {
   "cell_type": "markdown",
   "metadata": {},
   "source": [
    "## Billings"
   ]
  },
  {
   "cell_type": "markdown",
   "metadata": {
    "heading_collapsed": true
   },
   "source": [
    "## Bozeman"
   ]
  },
  {
   "cell_type": "code",
   "execution_count": null,
   "metadata": {
    "hidden": true
   },
   "outputs": [],
   "source": []
  },
  {
   "cell_type": "markdown",
   "metadata": {},
   "source": [
    "## Save final results"
   ]
  },
  {
   "cell_type": "code",
   "execution_count": null,
   "metadata": {},
   "outputs": [],
   "source": [
    "codeblock = \"\"\"\n",
    "def units(zone, size, width):\n",
    "    return max(1, min(zone, size, width))\n",
    "\"\"\"\n",
    "for city in cities:\n",
    "    arcpy.management.CalculateField(\n",
    "        city['layer'], \n",
    "        \"units_allowed\", \n",
    "        \"units(!zoning_allows!, !lot_size_allows!, !lot_width_allows!)\",\n",
    "        \"PYTHON3\",\n",
    "        codeblock,\n",
    "        \"SHORT\"\n",
    "    )"
   ]
  },
  {
   "cell_type": "code",
   "execution_count": null,
   "metadata": {},
   "outputs": [],
   "source": [
    "for city in cities:\n",
    "    field_spec = 'city \"City\" true true false 512 Text 0 0,First,#,{0},city,0,512;zoning \"Zoning\" true true false 512 Text 0 0,First,#,{0},zoning,0,512;lot_size \"Lot Size\" true true false 8 Double 0 0,First,#,{0},lot_size,-1,-1;lot_acres \"Lot Size (ac.)\" true true false 8 Double 0 0,First,#,{0},lot_acres,-1,-1;lot_width \"Lot Width\" true true false 2 Short 0 0,First,#,{0},lot_width,-1,-1;zoning_allows \"Units Allowed by Zoning\" true true false 2 Short 0 0,First,#,{0},zoning_allows,-1,-1;lot_size_allows \"Units Allowed by Lot Size\" true true false 2 Short 0 0,First,#,{0},lot_size_allows,-1,-1;lot_width_allows \"Units Allowed by Lot Width\" true true false 2 Short 0 0,First,#,{0},lot_width_allows,-1,-1;units_allowed \"Units Allowed\" true true false 2 Short 0 0,First,#,{0},units_allowed,-1,-1;category \"Residential Category\" true true false 512 Text 0 0,First,#,{0},category,0,512'.format('Parcels_' + city['name'])\n",
    "    arcpy.conversion.FeatureClassToFeatureClass(\n",
    "        city['layer'], \n",
    "        city['gdb'], \n",
    "        city['name'].lower() + \"_residential_parcels\", \n",
    "        '', \n",
    "        field_spec,\n",
    "        ''\n",
    "    )"
   ]
  },
  {
   "cell_type": "markdown",
   "metadata": {},
   "source": [
    "## Merge Layers"
   ]
  },
  {
   "cell_type": "code",
   "execution_count": null,
   "metadata": {},
   "outputs": [],
   "source": [
    "arcpy.management.Merge(\n",
    "    r\"cities\\Billings.gdb\\billings_residential_parcels;cities\\Helena.gdb\\helena_residential_parcels;cities\\Whitefish.gdb\\whitefish_residential_parcels;cities\\Bozeman.gdb\\bozeman_residential_parcels;cities\\Kalispell.gdb\\kalispell_residential_parcels;cities\\Missoula.gdb\\missoula_residential_parcels\", r\"zoning_atlas.gdb\\parcels\", \n",
    "    r'city \"City\" true true false 40 Text 0 0,First,#,cities\\Billings.gdb\\billings_residential_parcels,city,0,512,cities\\Helena.gdb\\helena_residential_parcels,city,0,512,cities\\Whitefish.gdb\\whitefish_residential_parcels,city,0,512,cities\\Bozeman.gdb\\bozeman_residential_parcels,city,0,512,cities\\Kalispell.gdb\\kalispell_residential_parcels,city,0,512,cities\\Missoula.gdb\\missoula_residential_parcels,city,0,512;zoning \"Zoning\" true true false 512 Text 0 0,First,#,cities\\Billings.gdb\\billings_residential_parcels,zoning,0,512,cities\\Helena.gdb\\helena_residential_parcels,zoning,0,512,cities\\Whitefish.gdb\\whitefish_residential_parcels,zoning,0,512,cities\\Bozeman.gdb\\bozeman_residential_parcels,zoning,0,512,cities\\Kalispell.gdb\\kalispell_residential_parcels,zoning,0,512,cities\\Missoula.gdb\\missoula_residential_parcels,zoning,0,512;lot_size \"Lot Size\" true true false 8 Double 0 0,First,#,cities\\Billings.gdb\\billings_residential_parcels,lot_size,-1,-1,cities\\Helena.gdb\\helena_residential_parcels,lot_size,-1,-1,cities\\Whitefish.gdb\\whitefish_residential_parcels,lot_size,-1,-1,cities\\Bozeman.gdb\\bozeman_residential_parcels,lot_size,-1,-1,cities\\Kalispell.gdb\\kalispell_residential_parcels,lot_size,-1,-1,cities\\Missoula.gdb\\missoula_residential_parcels,lot_size,-1,-1;lot_acers \"Lot Size (ac.)\" true true false 8 Double 0 0,First,#,cities\\Billings.gdb\\billings_residential_parcels,lot_acers,-1,-1,cities\\Helena.gdb\\helena_residential_parcels,lot_acers,-1,-1,cities\\Whitefish.gdb\\whitefish_residential_parcels,lot_acers,-1,-1,cities\\Bozeman.gdb\\bozeman_residential_parcels,lot_acers,-1,-1,cities\\Kalispell.gdb\\kalispell_residential_parcels,lot_acers,-1,-1,cities\\Missoula.gdb\\missoula_residential_parcels,lot_acers,-1,-1;lot_width \"Lot Width\" true true false 2 Short 0 0,First,#,cities\\Billings.gdb\\billings_residential_parcels,lot_width,-1,-1,cities\\Helena.gdb\\helena_residential_parcels,lot_width,-1,-1,cities\\Whitefish.gdb\\whitefish_residential_parcels,lot_width,-1,-1,cities\\Bozeman.gdb\\bozeman_residential_parcels,lot_width,-1,-1,cities\\Kalispell.gdb\\kalispell_residential_parcels,lot_width,-1,-1,cities\\Missoula.gdb\\missoula_residential_parcels,lot_width,-1,-1;zoning_allows \"Units Allowed by Zoning\" true true false 2 Short 0 0,First,#,cities\\Billings.gdb\\billings_residential_parcels,zoning_allows,-1,-1,cities\\Helena.gdb\\helena_residential_parcels,zoning_allows,-1,-1,cities\\Whitefish.gdb\\whitefish_residential_parcels,zoning_allows,-1,-1,cities\\Bozeman.gdb\\bozeman_residential_parcels,zoning_allows,-1,-1,cities\\Kalispell.gdb\\kalispell_residential_parcels,zoning_allows,-1,-1,cities\\Missoula.gdb\\missoula_residential_parcels,zoning_allows,-1,-1;lot_size_allows \"Units Allowed by Lot Size\" true true false 2 Short 0 0,First,#,cities\\Billings.gdb\\billings_residential_parcels,lot_size_allows,-1,-1,cities\\Helena.gdb\\helena_residential_parcels,lot_size_allows,-1,-1,cities\\Whitefish.gdb\\whitefish_residential_parcels,lot_size_allows,-1,-1,cities\\Bozeman.gdb\\bozeman_residential_parcels,lot_size_allows,-1,-1,cities\\Kalispell.gdb\\kalispell_residential_parcels,lot_size_allows,-1,-1,cities\\Missoula.gdb\\missoula_residential_parcels,lot_size_allows,-1,-1;lot_width_allows \"Units Allowed by Lot Width\" true true false 2 Short 0 0,First,#,cities\\Billings.gdb\\billings_residential_parcels,lot_width_allows,-1,-1,cities\\Helena.gdb\\helena_residential_parcels,lot_width_allows,-1,-1,cities\\Whitefish.gdb\\whitefish_residential_parcels,lot_width_allows,-1,-1,cities\\Bozeman.gdb\\bozeman_residential_parcels,lot_width_allows,-1,-1,cities\\Kalispell.gdb\\kalispell_residential_parcels,lot_width_allows,-1,-1,cities\\Missoula.gdb\\missoula_residential_parcels,lot_width_allows,-1,-1;units_allowed \"Units Allowed\" true true false 2 Short 0 0,First,#,cities\\Billings.gdb\\billings_residential_parcels,units_allowed,-1,-1,cities\\Helena.gdb\\helena_residential_parcels,units_allowed,-1,-1,cities\\Whitefish.gdb\\whitefish_residential_parcels,units_allowed,-1,-1,cities\\Bozeman.gdb\\bozeman_residential_parcels,units_allowed,-1,-1,cities\\Kalispell.gdb\\kalispell_residential_parcels,units_allowed,-1,-1,cities\\Missoula.gdb\\missoula_residential_parcels,units_allowed,-1,-1;category \"Residential Category\" true true false 512 Text 0 0,First,#,cities\\Billings.gdb\\billings_residential_parcels,category,0,512,cities\\Helena.gdb\\helena_residential_parcels,category,0,512,cities\\Whitefish.gdb\\whitefish_residential_parcels,category,0,512,cities\\Bozeman.gdb\\bozeman_residential_parcels,category,0,512,cities\\Kalispell.gdb\\kalispell_residential_parcels,category,0,512,cities\\Missoula.gdb\\missoula_residential_parcels,category,0,512', \n",
    "    \"NO_SOURCE_INFO\"\n",
    ")"
   ]
  },
  {
   "cell_type": "code",
   "execution_count": null,
   "metadata": {},
   "outputs": [],
   "source": [
    "arcpy.management.SelectLayerByAttribute(\n",
    "    \"parcels\", \n",
    "    \"NEW_SELECTION\", \n",
    "    \"category <> 'Single-Family' And units_allowed <= 1\", None)\n",
    "\n",
    "arcpy.management.CalculateField(\n",
    "    \"parcels\", \n",
    "    \"category\", \n",
    "    '\"De Facto Single-Family\"', \n",
    "    \"PYTHON3\", '', \"TEXT\", \"NO_ENFORCE_DOMAINS\")\n",
    "\n"
   ]
  },
  {
   "cell_type": "code",
   "execution_count": null,
   "metadata": {},
   "outputs": [],
   "source": [
    "arcpy.management.SelectLayerByAttribute(\n",
    "    \"parcels\", \n",
    "    \"NEW_SELECTION\", \n",
    "    \"category = 'Single-Family'\", None)\n",
    "arcpy.management.CalculateField(\n",
    "    \"parcels\", \n",
    "    \"category\", \n",
    "    '\"Single-Family Zoning\"', \n",
    "    \"PYTHON3\", '', \"TEXT\", \"NO_ENFORCE_DOMAINS\")"
   ]
  },
  {
   "cell_type": "markdown",
   "metadata": {},
   "source": [
    "## Combine Zoning Code Layers"
   ]
  },
  {
   "cell_type": "code",
   "execution_count": 1,
   "metadata": {},
   "outputs": [
    {
     "data": {
      "text/html": [
       "<h2>Output</h2>story_map_2.gdb\\zoning_codes_combined<h2>Messages</h2>Start Time: Saturday, February 12, 2022 6:17:57 PM<br/>WARNING 000595: C:\\Users\\markegge\\AppData\\Local\\Temp\\ArcGISProTemp3924\\Zoning0.fid contains the full list of records not able to be processed.<br/>WARNING 001156: Failed on input OID 2, could not write value 'RM1-45/PUD/Executive Addition' to output field zoning<br/>WARNING 001156: Failed on input OID 3, could not write value 'RM1-45/PUD/Park City Townhomes' to output field zoning<br/>WARNING 001156: Failed on input OID 4, could not write value 'RM1-45/PUD/Word 1St' to output field zoning<br/>WARNING 001156: Failed on input OID 9, could not write value 'C1-4/PUD/Washington Park' to output field zoning<br/>WARNING 001156: Failed on input OID 12, could not write value 'OP1/PUD/Linda Vista Golf Course' to output field zoning<br/>WARNING 001156: Failed on input OID 14, could not write value 'RT10/Brandie Addn.' to output field zoning<br/>WARNING 001156: Failed on input OID 15, could not write value 'RT10/Davis Street' to output field zoning<br/>WARNING 001156: Failed on input OID 16, could not write value 'RT5.4/PUD/2222 Rattlesnake Drive' to output field zoning<br/>WARNING 001156: Failed on input OID 18, could not write value 'R5.4/PUD/Silverwood' to output field zoning<br/>WARNING 001156: Failed on input OID 19, could not write value 'RM1-35/PUD/Elk Hills Phase I' to output field zoning<br/>WARNING 000595: C:\\Users\\markegge\\AppData\\Local\\Temp\\ArcGISProTemp3924\\Zoning1.fid contains the full list of records not able to be processed.<br/>WARNING 001156: Failed on input OID 50, could not write value 'WB-2 CASINO OVERLAY 1' to output field zoning<br/>WARNING 001156: Failed on input OID 220, could not write value 'UNZONED LAKE' to output field zoning<br/>WARNING 001156: Failed on input OID 221, could not write value 'UNZONED LAKE' to output field zoning<br/>Succeeded at Saturday, February 12, 2022 6:18:07 PM (Elapsed Time: 10.13 seconds)<br/><style>.rendered_html td, .rendered_html th {text-align: left;}.rendered_html tbody {border: 1px solid black;}</style>"
      ],
      "text/plain": [
       "<Result 'story_map_2.gdb\\\\zoning_codes_combined'>"
      ]
     },
     "execution_count": 1,
     "metadata": {},
     "output_type": "execute_result"
    }
   ],
   "source": [
    "arcpy.management.Merge(\n",
    "r\"cities\\Billings.gdb\\Zoning;cities\\Bozeman.gdb\\Zoning;cities\\Helena.gdb\\Zoning;cities\\Kalispell.gdb\\Zoning;cities\\Missoula.gdb\\Zoning;cities\\Whitefish.gdb\\Zoning\", \n",
    "    r\"story_map_2.gdb\\zoning_codes_combined\", \n",
    "    r'zoning \"Zoning Code\" true true false 10 Text 0 0,First,#,cities\\Billings.gdb\\Zoning,zoning,0,10,cities\\Bozeman.gdb\\Zoning,zoning,0,5,cities\\Helena.gdb\\Zoning,zoning,0,5,cities\\Kalispell.gdb\\Zoning,zoning,0,254,cities\\Missoula.gdb\\Zoning,zoning,0,80,cities\\Whitefish.gdb\\Zoning,zoning,0,30;ZONE_NAME \"ZONE_NAME\" true true false 75 Text 0 0,First,#,cities\\Billings.gdb\\Zoning,ZONE_NAME,0,75,cities\\Helena.gdb\\Zoning,ZONE_NAME,0,70;Shape_Length \"Shape_Length\" false true true 8 Double 0 0,First,#,cities\\Billings.gdb\\Zoning,Shape_Length,-1,-1,cities\\Bozeman.gdb\\Zoning,Shape_Length,-1,-1,cities\\Helena.gdb\\Zoning,Shape_Length,-1,-1,cities\\Kalispell.gdb\\Zoning,Shape_Length,-1,-1,cities\\Missoula.gdb\\Zoning,Shape_Length,-1,-1,cities\\Whitefish.gdb\\Zoning,Shape_Length,-1,-1;Shape_Area \"Shape_Area\" false true true 8 Double 0 0,First,#,cities\\Billings.gdb\\Zoning,Shape_Area,-1,-1,cities\\Bozeman.gdb\\Zoning,Shape_Area,-1,-1,cities\\Helena.gdb\\Zoning,Shape_Area,-1,-1,cities\\Kalispell.gdb\\Zoning,Shape_Area,-1,-1,cities\\Missoula.gdb\\Zoning,Shape_Area,-1,-1,cities\\Whitefish.gdb\\Zoning,Shape_Area,-1,-1;created_user \"created_user\" true true false 255 Text 0 0,First,#,cities\\Bozeman.gdb\\Zoning,created_user,0,255,cities\\Helena.gdb\\Zoning,created_user,0,255,cities\\Missoula.gdb\\Zoning,created_user,0,255;created_date \"created_date\" true true false 8 Date 0 0,First,#,cities\\Bozeman.gdb\\Zoning,created_date,-1,-1,cities\\Helena.gdb\\Zoning,created_date,-1,-1,cities\\Missoula.gdb\\Zoning,created_date,-1,-1;last_edited_user \"last_edited_user\" true true false 255 Text 0 0,First,#,cities\\Bozeman.gdb\\Zoning,last_edited_user,0,255,cities\\Helena.gdb\\Zoning,last_edited_user,0,255,cities\\Missoula.gdb\\Zoning,last_edited_user,0,255;last_edited_date \"last_edited_date\" true true false 8 Date 0 0,First,#,cities\\Bozeman.gdb\\Zoning,last_edited_date,-1,-1,cities\\Helena.gdb\\Zoning,last_edited_date,-1,-1,cities\\Missoula.gdb\\Zoning,last_edited_date,-1,-1;STR_TYPE_1 \"STR TYPE 1\" true true false 10 Text 0 0,First,#,cities\\Bozeman.gdb\\Zoning,STR_TYPE_1,0,10;STR_TYPE_2 \"STR TYPE 2\" true true false 10 Text 0 0,First,#,cities\\Bozeman.gdb\\Zoning,STR_TYPE_2,0,10;STR_TYPE_3 \"STR TYPE 3\" true true false 10 Text 0 0,First,#,cities\\Bozeman.gdb\\Zoning,STR_TYPE_3,0,10;Muni_Hyperlink \"Muni_Hyperlink\" true true false 300 Text 0 0,First,#,cities\\Bozeman.gdb\\Zoning,Muni_Hyperlink,0,300;Muni_Hyperlink_Uses \"Muni_Hyperlink_Uses\" true true false 250 Text 0 0,First,#,cities\\Bozeman.gdb\\Zoning,Muni_Hyperlink_Uses,0,250;ZONE_ \"ZONE_\" true true false 10 Text 0 0,First,#,cities\\Helena.gdb\\Zoning,ZONE_,0,10;PUD_NAME \"PUD_NAME\" true true false 254 Text 0 0,First,#,cities\\Kalispell.gdb\\Zoning,PUD_NAME,0,254;PUD_NUM \"PUD_NUM\" true true false 254 Text 0 0,First,#,cities\\Kalispell.gdb\\Zoning,PUD_NUM,0,254;USE_DESCR \"USE_DESCR\" true true false 254 Text 0 0,First,#,cities\\Kalispell.gdb\\Zoning,USE_DESCR,0,254;ZONE_DIST \"ZONE_DIST\" true true false 254 Text 0 0,First,#,cities\\Kalispell.gdb\\Zoning,ZONE_DIST,0,254;PUD_ORD \"PUD_ORD\" true true false 254 Text 0 0,First,#,cities\\Kalispell.gdb\\Zoning,PUD_ORD,0,254;ORD_DATE \"ORD_DATE\" true true false 254 Text 0 0,First,#,cities\\Kalispell.gdb\\Zoning,ORD_DATE,0,254;MINLOT_AR \"MINLOT_AR\" true true false 254 Text 0 0,First,#,cities\\Kalispell.gdb\\Zoning,MINLOT_AR,0,254;MINLOT_WTH \"MINLOT_WTH\" true true false 254 Text 0 0,First,#,cities\\Kalispell.gdb\\Zoning,MINLOT_WTH,0,254;FRONT_SB \"FRONT_SB\" true true false 254 Text 0 0,First,#,cities\\Kalispell.gdb\\Zoning,FRONT_SB,0,254;SIDE_SB \"SIDE_SB\" true true false 254 Text 0 0,First,#,cities\\Kalispell.gdb\\Zoning,SIDE_SB,0,254;REAR_SB \"REAR_SB\" true true false 254 Text 0 0,First,#,cities\\Kalispell.gdb\\Zoning,REAR_SB,0,254;CORNER_SB \"CORNER_SB\" true true false 254 Text 0 0,First,#,cities\\Kalispell.gdb\\Zoning,CORNER_SB,0,254;MAXBLDG_HT \"MAXBLDG_HT\" true true false 254 Text 0 0,First,#,cities\\Kalispell.gdb\\Zoning,MAXBLDG_HT,0,254;MAX_LOTCOV \"MAX_LOTCOV\" true true false 254 Text 0 0,First,#,cities\\Kalispell.gdb\\Zoning,MAX_LOTCOV,0,254;F_FENCE_HT \"F_FENCE_HT\" true true false 254 Text 0 0,First,#,cities\\Kalispell.gdb\\Zoning,F_FENCE_HT,0,254;S_FENCE_HT \"S_FENCE_HT\" true true false 254 Text 0 0,First,#,cities\\Kalispell.gdb\\Zoning,S_FENCE_HT,0,254;R_FENCE_HT \"R_FENCE_HT\" true true false 254 Text 0 0,First,#,cities\\Kalispell.gdb\\Zoning,R_FENCE_HT,0,254;MEMO_ \"MEMO_\" true true false 254 Text 0 0,First,#,cities\\Kalispell.gdb\\Zoning,MEMO_,0,254;Base \"Base\" true true false 80 Text 0 0,First,#,cities\\Missoula.gdb\\Zoning,Base,0,80;Overlay \"Overlay\" true true false 80 Text 0 0,First,#,cities\\Missoula.gdb\\Zoning,Overlay,0,80;OrdinanceNumber \"Ordinance Number\" true true false 30 Text 0 0,First,#,cities\\Missoula.gdb\\Zoning,OrdinanceNumber,0,30;OrdinanceDate \"Ordinance Date\" true true false 8 Date 0 0,First,#,cities\\Missoula.gdb\\Zoning,OrdinanceDate,-1,-1;ResolutionNumber \"Resolution Number\" true true false 30 Text 0 0,First,#,cities\\Missoula.gdb\\Zoning,ResolutionNumber,0,30;ResolutionDate \"Resolution Date\" true true false 8 Date 0 0,First,#,cities\\Missoula.gdb\\Zoning,ResolutionDate,-1,-1;Acres \"Area (Acres)\" true true false 8 Double 0 0,First,#,cities\\Missoula.gdb\\Zoning,Acres,-1,-1;GlobalID \"GlobalID\" false false false 38 GlobalID 0 0,First,#,cities\\Missoula.gdb\\Zoning,GlobalID,-1,-1;ordinance \"ordinance\" true true false 50 Text 0 0,First,#,cities\\Whitefish.gdb\\Zoning,ordinance,0,50;proj_name \"proj_name\" true true false 66 Text 0 0,First,#,cities\\Whitefish.gdb\\Zoning,proj_name,0,66;zone_base \"zone_base\" true true false 33 Text 0 0,First,#,cities\\Whitefish.gdb\\Zoning,zone_base,0,33;zone_pud \"zone_pud\" true true false 8 Double 0 0,First,#,cities\\Whitefish.gdb\\Zoning,zone_pud,-1,-1;leglabel \"leglabel\" true true false 66 Text 0 0,First,#,cities\\Whitefish.gdb\\Zoning,leglabel,0,66;Date_added \"Date_added\" true true false 8 Date 0 0,First,#,cities\\Whitefish.gdb\\Zoning,Date_added,-1,-1;Short_Term_Rental \"Short_Term_Rental\" true true false 2 Short 0 0,First,#,cities\\Whitefish.gdb\\Zoning,Short_Term_Rental,-1,-1;CodeURL \"Code URL\" true true false 200 Text 0 0,First,#,cities\\Whitefish.gdb\\Zoning,CodeURL,0,200', \"NO_SOURCE_INFO\"\n",
    ")"
   ]
  },
  {
   "cell_type": "code",
   "execution_count": null,
   "metadata": {},
   "outputs": [],
   "source": []
  }
 ],
 "metadata": {
  "kernelspec": {
   "display_name": "ArcGISPro",
   "language": "Python",
   "name": "python3"
  },
  "language_info": {
   "file_extension": ".py",
   "name": "python",
   "version": "3"
  }
 },
 "nbformat": 4,
 "nbformat_minor": 2
}
