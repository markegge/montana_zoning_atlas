{
 "cells": [
  {
   "cell_type": "code",
   "execution_count": 41,
   "metadata": {},
   "outputs": [
    {
     "data": {
      "text/plain": [
       "{'name': 'Bozeman', 'zoning_field': 'ZONING', 'county': 'Gallatin', 'residential_zones': ['R-S', 'R-1', 'R-2', 'R-3', 'R-4', 'R-5', 'R-O', 'RMH'], 'gdb': 'cities\\\\Bozeman.gdb', 'layer': 'cities\\\\Bozeman.gdb\\\\Parcels_Bozeman'}"
      ]
     },
     "execution_count": 41,
     "metadata": {},
     "output_type": "execute_result"
    }
   ],
   "source": [
    "city = cities[index_of('Bozeman')]\n",
    "city"
   ]
  },
  {
   "cell_type": "code",
   "execution_count": 44,
   "metadata": {},
   "outputs": [
    {
     "data": {
      "text/html": [
       "<h2>Output</h2>cities\\Bozeman.gdb\\Parcels_Bozeman<h2>Messages</h2>Start Time: Saturday, February 12, 2022 5:21:27 PM<br/>Succeeded at Saturday, February 12, 2022 5:21:34 PM (Elapsed Time: 7.02 seconds)<br/><style>.rendered_html td, .rendered_html th {text-align: left;}.rendered_html tbody {border: 1px solid black;}</style>"
      ],
      "text/plain": [
       "<Result 'cities\\\\Bozeman.gdb\\\\Parcels_Bozeman'>"
      ]
     },
     "execution_count": 44,
     "metadata": {},
     "output_type": "execute_result"
    }
   ],
   "source": [
    "codeblock = \"\"\"\n",
    "def eval_zoning(zone):\n",
    "    if zone in ['R-S', 'R-1', 'RMH']:\n",
    "        return 1\n",
    "    elif zone == 'R-2':\n",
    "        return 2\n",
    "    elif zone == 'R-3':\n",
    "        return 3\n",
    "    elif zone in ['R-4', 'R-5', 'R-O']:\n",
    "        return 5\n",
    "    else:\n",
    "        return 0\n",
    "\"\"\"\n",
    "\n",
    "arcpy.management.CalculateField(\n",
    "    city['layer'], \n",
    "    \"zoning_allows\", \n",
    "    \"eval_zoning(!zoning!)\", \n",
    "    \"PYTHON3\", \n",
    "    codeblock, \n",
    "    \"SHORT\"\n",
    ")"
   ]
  },
  {
   "cell_type": "code",
   "execution_count": 45,
   "metadata": {},
   "outputs": [
    {
     "data": {
      "text/html": [
       "<h2>Output</h2>cities\\Bozeman.gdb\\Parcels_Bozeman<h2>Messages</h2>Start Time: Saturday, February 12, 2022 5:21:43 PM<br/>Adding lot_size_allows to Parcels_Bozeman...<br/>Succeeded at Saturday, February 12, 2022 5:21:53 PM (Elapsed Time: 9.85 seconds)<br/><style>.rendered_html td, .rendered_html th {text-align: left;}.rendered_html tbody {border: 1px solid black;}</style>"
      ],
      "text/plain": [
       "<Result 'cities\\\\Bozeman.gdb\\\\Parcels_Bozeman'>"
      ]
     },
     "execution_count": 45,
     "metadata": {},
     "output_type": "execute_result"
    }
   ],
   "source": [
    "codeblock = \"\"\"\n",
    "def eval_lot_size(zone, sf):\n",
    "    if zone in ['R-S', 'R-1']:\n",
    "        if sf >= 4000:\n",
    "            return 1\n",
    "        else:\n",
    "            return 0\n",
    "    elif zone in ['R-2']:\n",
    "        if sf >= 5000:\n",
    "            return 2\n",
    "        elif sf >= 4000:\n",
    "            return 1\n",
    "        else:\n",
    "            return 0\n",
    "    elif zone in ['R-3']:\n",
    "        if sf >= 9000:\n",
    "            return 3\n",
    "        if sf >= 5000:\n",
    "            return 2\n",
    "        if sf >= 4000:\n",
    "            return 1\n",
    "        else:\n",
    "            return 0\n",
    "    elif zone in ['R-4', 'R-O']:\n",
    "        if sf >= 12000:\n",
    "            return 4\n",
    "        if sf >= 9000:\n",
    "            return 3\n",
    "        if sf >= 5000:\n",
    "            return 2\n",
    "        if sf >= 4000:\n",
    "            return 1\n",
    "        else:\n",
    "            return 0\n",
    "    elif zone in ['R-5']:\n",
    "        if sf >= 5000:\n",
    "            return 5\n",
    "        if sf >= 3000:\n",
    "            return 1\n",
    "        else:\n",
    "            return 0\n",
    "    else:\n",
    "        return 0\n",
    "\"\"\"\n",
    "\n",
    "arcpy.management.CalculateField(\n",
    "    city['layer'], \n",
    "    \"lot_size_allows\", \n",
    "    \"eval_lot_size(!zoning!, !lot_size!)\", \n",
    "    \"PYTHON3\", \n",
    "    codeblock, \n",
    "    \"SHORT\"\n",
    ")"
   ]
  },
  {
   "cell_type": "code",
   "execution_count": 46,
   "metadata": {},
   "outputs": [
    {
     "data": {
      "text/html": [
       "<h2>Output</h2>cities\\Bozeman.gdb\\Parcels_Bozeman<h2>Messages</h2>Start Time: Saturday, February 12, 2022 5:21:55 PM<br/>Adding lot_width_allows to Parcels_Bozeman...<br/>Succeeded at Saturday, February 12, 2022 5:22:04 PM (Elapsed Time: 9.34 seconds)<br/><style>.rendered_html td, .rendered_html th {text-align: left;}.rendered_html tbody {border: 1px solid black;}</style>"
      ],
      "text/plain": [
       "<Result 'cities\\\\Bozeman.gdb\\\\Parcels_Bozeman'>"
      ]
     },
     "execution_count": 46,
     "metadata": {},
     "output_type": "execute_result"
    }
   ],
   "source": [
    "codeblock = \"\"\"\n",
    "def eval_lot_width(zone, w):\n",
    "    if zone in ['R-S', 'R-1']:\n",
    "        if w >= 50:\n",
    "            return 1\n",
    "        else:\n",
    "            return 0\n",
    "    elif zone in ['R-2']:\n",
    "        if w >= 60:\n",
    "            return 2\n",
    "        elif w >= 50:\n",
    "            return 1\n",
    "        else:\n",
    "            return 0\n",
    "    elif zone in ['R-3']:\n",
    "        if w >= 60:\n",
    "            return 3\n",
    "        if w >= 50:\n",
    "            return 1\n",
    "        else:\n",
    "            return 0\n",
    "    elif zone in ['R-4', 'R-O']:\n",
    "        if w >= 60:\n",
    "            return 4\n",
    "        if w >= 50:\n",
    "            return 2\n",
    "        else:\n",
    "            return 0\n",
    "    elif zone in ['R-5']:\n",
    "        if w >= 50:\n",
    "            return 5\n",
    "        if w >= 35:\n",
    "            return 1\n",
    "        else:\n",
    "            return 0\n",
    "    else:\n",
    "        return 0\n",
    "\"\"\"\n",
    "\n",
    "arcpy.management.CalculateField(\n",
    "    city['layer'], \n",
    "    \"lot_width_allows\", \n",
    "    \"eval_lot_width(!zoning!, !lot_width!)\", \n",
    "    \"PYTHON3\", \n",
    "    codeblock, \n",
    "    \"SHORT\"\n",
    ")"
   ]
  },
  {
   "cell_type": "code",
   "execution_count": 47,
   "metadata": {},
   "outputs": [
    {
     "data": {
      "text/html": [
       "<h2>Output</h2>cities\\Bozeman.gdb\\Parcels_Bozeman<h2>Messages</h2>Start Time: Saturday, February 12, 2022 5:22:07 PM<br/>Adding category to Parcels_Bozeman...<br/>Succeeded at Saturday, February 12, 2022 5:22:17 PM (Elapsed Time: 9.66 seconds)<br/><style>.rendered_html td, .rendered_html th {text-align: left;}.rendered_html tbody {border: 1px solid black;}</style>"
      ],
      "text/plain": [
       "<Result 'cities\\\\Bozeman.gdb\\\\Parcels_Bozeman'>"
      ]
     },
     "execution_count": 47,
     "metadata": {},
     "output_type": "execute_result"
    }
   ],
   "source": [
    "codeblock = \"\"\"\n",
    "def categorize(zone):\n",
    "    if zone in ['R-2', 'R-3', 'R-4', 'R-5', 'R-O']:\n",
    "        return \"Penalized Multifamily\"\n",
    "    elif zone in ['R-1', 'R-S', 'RMH']:\n",
    "        return \"Single-Family\"\n",
    "\"\"\"\n",
    "arcpy.management.CalculateField(\n",
    "    city['layer'], \n",
    "    \"category\", \n",
    "    \"categorize(!zoning!)\",\n",
    "    \"PYTHON3\",\n",
    "    codeblock,\n",
    "    \"TEXT\"\n",
    ")"
   ]
  },
  {
   "cell_type": "code",
   "execution_count": null,
   "metadata": {},
   "outputs": [],
   "source": []
  }
 ],
 "metadata": {
  "kernelspec": {
   "display_name": "ArcGISPro",
   "language": "Python",
   "name": "python3"
  },
  "language_info": {
   "file_extension": ".py",
   "name": "python",
   "version": "3"
  }
 },
 "nbformat": 4,
 "nbformat_minor": 2
}
