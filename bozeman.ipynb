{
 "cells": [
  {
   "cell_type": "code",
   "execution_count": 40,
   "metadata": {},
   "outputs": [],
   "source": [
    "city = 'Bozeman'\n",
    "zone_field = 'ZONING2'\n",
    "source_parcels = r'shp\\Gallatin_GDB\\Gallatin_Parcels.gdb\\OwnerParcel'\n",
    "source_zoning = r'shp\\zoning.gdb\\bozeman'\n",
    "\n",
    "import os\n",
    "import shutil\n",
    "gdb = os.path.join('shp', city + '.gdb')\n",
    "spatial_join_layer = \"OwnerParcel_SpatialJoin_\" + city"
   ]
  },
  {
   "cell_type": "code",
   "execution_count": 27,
   "metadata": {},
   "outputs": [
    {
     "data": {
      "text/html": [
       "<h2>Output</h2>shp\\bozeman.gdb\\OwnerParcel<h2>Messages</h2>Start Time: Thursday, February 10, 2022 8:50:56 PM<br/>Succeeded at Thursday, February 10, 2022 8:51:35 PM (Elapsed Time: 39.50 seconds)<br/><style>.rendered_html td, .rendered_html th {text-align: left;}.rendered_html tbody {border: 1px solid black;}</style>"
      ],
      "text/plain": [
       "<Result 'shp\\\\bozeman.gdb\\\\OwnerParcel'>"
      ]
     },
     "execution_count": 27,
     "metadata": {},
     "output_type": "execute_result"
    }
   ],
   "source": [
    "arcpy.conversion.FeatureClassToFeatureClass(\n",
    "    source_parcels,\n",
    "    gdb,\n",
    "    \"OwnerParcel\"\n",
    ")"
   ]
  },
  {
   "cell_type": "code",
   "execution_count": 28,
   "metadata": {},
   "outputs": [
    {
     "data": {
      "text/html": [
       "<h2>Output</h2>shp\\bozeman.gdb\\Zoning<h2>Messages</h2>Start Time: Thursday, February 10, 2022 8:51:40 PM<br/>Succeeded at Thursday, February 10, 2022 8:51:46 PM (Elapsed Time: 6.06 seconds)<br/><style>.rendered_html td, .rendered_html th {text-align: left;}.rendered_html tbody {border: 1px solid black;}</style>"
      ],
      "text/plain": [
       "<Result 'shp\\\\bozeman.gdb\\\\Zoning'>"
      ]
     },
     "execution_count": 28,
     "metadata": {},
     "output_type": "execute_result"
    }
   ],
   "source": [
    "arcpy.conversion.FeatureClassToFeatureClass(\n",
    "    source_zoning,\n",
    "    gdb,\n",
    "    \"Zoning\"\n",
    ")"
   ]
  },
  {
   "cell_type": "code",
   "execution_count": 29,
   "metadata": {},
   "outputs": [
    {
     "data": {
      "text/html": [
       "<h2>Output</h2>shp\\bozeman.gdb\\OwnerParcel_SpatialJoin_Bozeman<h2>Messages</h2>Start Time: Thursday, February 10, 2022 8:51:49 PM<br/>Succeeded at Thursday, February 10, 2022 8:52:04 PM (Elapsed Time: 15.06 seconds)<br/><style>.rendered_html td, .rendered_html th {text-align: left;}.rendered_html tbody {border: 1px solid black;}</style>"
      ],
      "text/plain": [
       "<Result 'shp\\\\bozeman.gdb\\\\OwnerParcel_SpatialJoin_Bozeman'>"
      ]
     },
     "execution_count": 29,
     "metadata": {},
     "output_type": "execute_result"
    }
   ],
   "source": [
    "arcpy.analysis.SpatialJoin(\n",
    "    \"OwnerParcel\", # flathead county parcels\n",
    "    \"Zoning\", #kalispell zoning\n",
    "    os.path.join(gdb, spatial_join_layer), \n",
    "    \"JOIN_ONE_TO_ONE\", \n",
    "    \"KEEP_COMMON\", \n",
    "    None, \n",
    "    \"HAVE_THEIR_CENTER_IN\")"
   ]
  },
  {
   "cell_type": "code",
   "execution_count": 30,
   "metadata": {},
   "outputs": [
    {
     "data": {
      "text/html": [
       "<h2>Output</h2><table><tr><th>id</th><th>value</th></tr><tr><td>0</td><td>a Layer object</td></tr><tr><td>1</td><td>11103</td></tr></table><h2>Messages</h2>Start Time: Thursday, February 10, 2022 8:52:55 PM<br/>Succeeded at Thursday, February 10, 2022 8:52:55 PM (Elapsed Time: 0.05 seconds)<br/><style>.rendered_html td, .rendered_html th {text-align: left;}.rendered_html tbody {border: 1px solid black;}</style>"
      ],
      "text/plain": [
       "<Result 'OwnerParcel_SpatialJoin_Bozeman'>"
      ]
     },
     "execution_count": 30,
     "metadata": {},
     "output_type": "execute_result"
    }
   ],
   "source": [
    "arcpy.management.SelectLayerByAttribute(\n",
    "    spatial_join_layer, \n",
    "    \"NEW_SELECTION\", \n",
    "    zone_field + \"\"\"\n",
    "     IN ('R-S', 'R-1', 'R-2', 'R-3', \n",
    "     'R-4', 'R-5', 'R-O', 'RMH') \n",
    "    AND PARCELID IS NOT NULL \n",
    "    AND PropType NOT IN (\n",
    "        '',\n",
    "        'VR - Vacant Land Rural', \n",
    "        'CA - Centrally Assessed', \n",
    "        'VU - Vacant Land Urban',\n",
    "        'FARM_U - Farmstead - Urban', \n",
    "        'NVS - Non-Valued with Specials', \n",
    "        'RV_PARK - RV Park', \n",
    "        'GRAVEL - Gravel Pit', \n",
    "        'GOLF - Golf Course',\n",
    "        'EP_PART - Partial Exempt Property', \n",
    "        'CN - Centrally Assessed Non-Valued Property', \n",
    "        'NV - Non-Valued Property', 'FARM_R - Farmstead - Rural', \n",
    "        'VAC_U - Vacant Land - Urban', \n",
    "        'EP - Exempt Property', 'VAC_R - Vacant Land - Rural'\n",
    "    )\n",
    "    \"\"\", \n",
    "    \"NON_INVERT\"\n",
    ")"
   ]
  },
  {
   "cell_type": "code",
   "execution_count": 31,
   "metadata": {},
   "outputs": [
    {
     "data": {
      "text/html": [
       "<h2>Output</h2>shp\\bozeman.gdb\\residential_parcels<h2>Messages</h2>Start Time: Thursday, February 10, 2022 8:53:08 PM<br/>Succeeded at Thursday, February 10, 2022 8:53:21 PM (Elapsed Time: 12.96 seconds)<br/><style>.rendered_html td, .rendered_html th {text-align: left;}.rendered_html tbody {border: 1px solid black;}</style>"
      ],
      "text/plain": [
       "<Result 'shp\\\\bozeman.gdb\\\\residential_parcels'>"
      ]
     },
     "execution_count": 31,
     "metadata": {},
     "output_type": "execute_result"
    }
   ],
   "source": [
    "arcpy.conversion.FeatureClassToFeatureClass(\n",
    "    spatial_join_layer, \n",
    "    gdb, \n",
    "    \"residential_parcels\"\n",
    ")\n",
    "# then rename to residential_parcels"
   ]
  },
  {
   "cell_type": "code",
   "execution_count": 41,
   "metadata": {},
   "outputs": [
    {
     "data": {
      "text/html": [
       "<h2>Output</h2>a Layer object<h2>Messages</h2>Start Time: Thursday, February 10, 2022 9:03:49 PM<br/>Succeeded at Thursday, February 10, 2022 9:04:10 PM (Elapsed Time: 20.89 seconds)<br/><style>.rendered_html td, .rendered_html th {text-align: left;}.rendered_html tbody {border: 1px solid black;}</style>"
      ],
      "text/plain": [
       "<Result 'residential_parcels'>"
      ]
     },
     "execution_count": 41,
     "metadata": {},
     "output_type": "execute_result"
    }
   ],
   "source": [
    "arcpy.management.CalculateGeometryAttributes(\n",
    "    \"residential_parcels\", \n",
    "    \"lot_size AREA\", \n",
    "    '', \n",
    "    \"SQUARE_FEET_US\", \n",
    "    None, \n",
    "    \"SAME_AS_INPUT\"\n",
    ")"
   ]
  },
  {
   "cell_type": "code",
   "execution_count": 33,
   "metadata": {},
   "outputs": [
    {
     "data": {
      "text/html": [
       "<h2>Output</h2>shp\\bozeman.gdb\\parcels_ft<h2>Messages</h2>Start Time: Thursday, February 10, 2022 8:54:02 PM<br/>Succeeded at Thursday, February 10, 2022 8:54:16 PM (Elapsed Time: 13.90 seconds)<br/><style>.rendered_html td, .rendered_html th {text-align: left;}.rendered_html tbody {border: 1px solid black;}</style>"
      ],
      "text/plain": [
       "<Result 'shp\\\\bozeman.gdb\\\\parcels_ft'>"
      ]
     },
     "execution_count": 33,
     "metadata": {},
     "output_type": "execute_result"
    }
   ],
   "source": [
    "arcpy.management.Project(\n",
    "    \"residential_parcels\", \n",
    "    os.path.join(gdb, 'parcels_ft'), \n",
    "    'PROJCS[\"NAD_1983_StatePlane_Montana_FIPS_2500_Feet\",GEOGCS[\"GCS_North_American_1983\",DATUM[\"D_North_American_1983\",SPHEROID[\"GRS_1980\",6378137.0,298.257222101]],PRIMEM[\"Greenwich\",0.0],UNIT[\"Degree\",0.0174532925199433]],PROJECTION[\"Lambert_Conformal_Conic\"],PARAMETER[\"False_Easting\",1968500.0],PARAMETER[\"False_Northing\",0.0],PARAMETER[\"Central_Meridian\",-109.5],PARAMETER[\"Standard_Parallel_1\",45.0],PARAMETER[\"Standard_Parallel_2\",49.0],PARAMETER[\"Latitude_Of_Origin\",44.25],UNIT[\"Foot_US\",0.3048006096012192]]', \"'WGS_1984_(ITRF08)_To_NAD_1983_2011 + WGS_1984_(ITRF00)_To_NAD_1983'\", 'PROJCS[\"NAD_1983_2011_StatePlane_Montana_FIPS_2500\",GEOGCS[\"GCS_NAD_1983_2011\",DATUM[\"D_NAD_1983_2011\",SPHEROID[\"GRS_1980\",6378137.0,298.257222101]],PRIMEM[\"Greenwich\",0.0],UNIT[\"Degree\",0.0174532925199433]],PROJECTION[\"Lambert_Conformal_Conic\"],PARAMETER[\"False_Easting\",600000.0],PARAMETER[\"False_Northing\",0.0],PARAMETER[\"Central_Meridian\",-109.5],PARAMETER[\"Standard_Parallel_1\",45.0],PARAMETER[\"Standard_Parallel_2\",49.0],PARAMETER[\"Latitude_Of_Origin\",44.25],UNIT[\"Meter\",1.0]]', \n",
    "    \"NO_PRESERVE_SHAPE\", \n",
    "    None, \n",
    "    \"NO_VERTICAL\"\n",
    ")"
   ]
  },
  {
   "cell_type": "code",
   "execution_count": 34,
   "metadata": {},
   "outputs": [
    {
     "data": {
      "text/html": [
       "<h2>Output</h2>shp\\bozeman.gdb\\parcels_mbb<h2>Messages</h2>Start Time: Thursday, February 10, 2022 8:54:20 PM<br/>Succeeded at Thursday, February 10, 2022 8:54:31 PM (Elapsed Time: 11.02 seconds)<br/><style>.rendered_html td, .rendered_html th {text-align: left;}.rendered_html tbody {border: 1px solid black;}</style>"
      ],
      "text/plain": [
       "<Result 'shp\\\\bozeman.gdb\\\\parcels_mbb'>"
      ]
     },
     "execution_count": 34,
     "metadata": {},
     "output_type": "execute_result"
    }
   ],
   "source": [
    "arcpy.management.MinimumBoundingGeometry(\n",
    "    os.path.join(gdb, 'parcels_ft'), \n",
    "    os.path.join(gdb, 'parcels_mbb'), \n",
    "    \"RECTANGLE_BY_WIDTH\", \n",
    "    \"NONE\", \n",
    "    None, \n",
    "    \"MBG_FIELDS\"\n",
    ")"
   ]
  },
  {
   "cell_type": "code",
   "execution_count": 35,
   "metadata": {},
   "outputs": [
    {
     "data": {
      "text/html": [
       "<h2>Output</h2>a Layer object<h2>Messages</h2>Start Time: Thursday, February 10, 2022 8:54:36 PM<br/>Succeeded at Thursday, February 10, 2022 8:54:41 PM (Elapsed Time: 5.42 seconds)<br/><style>.rendered_html td, .rendered_html th {text-align: left;}.rendered_html tbody {border: 1px solid black;}</style>"
      ],
      "text/plain": [
       "<Result 'residential_parcels'>"
      ]
     },
     "execution_count": 35,
     "metadata": {},
     "output_type": "execute_result"
    }
   ],
   "source": [
    "arcpy.management.JoinField(\n",
    "    \"residential_parcels\", \n",
    "    'PARCELID', \n",
    "    os.path.join(gdb, 'parcels_mbb'), \n",
    "    'PARCELID', \n",
    "    'MBG_Width;MBG_Length'\n",
    ")"
   ]
  },
  {
   "cell_type": "code",
   "execution_count": 36,
   "metadata": {},
   "outputs": [
    {
     "data": {
      "text/html": [
       "<h2>Output</h2>a Layer object<h2>Messages</h2>Start Time: Thursday, February 10, 2022 8:54:43 PM<br/>Adding city to residential_parcels...<br/>Succeeded at Thursday, February 10, 2022 8:54:47 PM (Elapsed Time: 3.26 seconds)<br/><style>.rendered_html td, .rendered_html th {text-align: left;}.rendered_html tbody {border: 1px solid black;}</style>"
      ],
      "text/plain": [
       "<Result 'residential_parcels'>"
      ]
     },
     "execution_count": 36,
     "metadata": {},
     "output_type": "execute_result"
    }
   ],
   "source": [
    "arcpy.management.CalculateField(\n",
    "    \"residential_parcels\", \n",
    "    \"city\", \n",
    "    '\"' + city + '\"'\n",
    ")"
   ]
  },
  {
   "cell_type": "code",
   "execution_count": 37,
   "metadata": {},
   "outputs": [
    {
     "data": {
      "text/html": [
       "<h2>Output</h2>a Layer object<h2>Messages</h2>Start Time: Thursday, February 10, 2022 8:54:49 PM<br/>Adding zoning to residential_parcels...<br/>Succeeded at Thursday, February 10, 2022 8:54:52 PM (Elapsed Time: 3.72 seconds)<br/><style>.rendered_html td, .rendered_html th {text-align: left;}.rendered_html tbody {border: 1px solid black;}</style>"
      ],
      "text/plain": [
       "<Result 'residential_parcels'>"
      ]
     },
     "execution_count": 37,
     "metadata": {},
     "output_type": "execute_result"
    }
   ],
   "source": [
    "arcpy.management.CalculateField(\n",
    "    \"residential_parcels\", \n",
    "    \"zoning\", \n",
    "    \"!\" + zone_field + \"!\", \n",
    "    \"PYTHON3\", \n",
    "    None, \n",
    "    \"TEXT\"\n",
    ")"
   ]
  },
  {
   "cell_type": "code",
   "execution_count": 5,
   "metadata": {},
   "outputs": [
    {
     "data": {
      "text/html": [
       "<h2>Output</h2>a Layer object<h2>Messages</h2>Start Time: Friday, February 11, 2022 2:22:57 PM<br/>Succeeded at Friday, February 11, 2022 2:23:04 PM (Elapsed Time: 7.24 seconds)<br/><style>.rendered_html td, .rendered_html th {text-align: left;}.rendered_html tbody {border: 1px solid black;}</style>"
      ],
      "text/plain": [
       "<Result 'residential_parcels'>"
      ]
     },
     "execution_count": 5,
     "metadata": {},
     "output_type": "execute_result"
    }
   ],
   "source": [
    "arcpy.management.CalculateField(\n",
    "    \"residential_parcels\", \n",
    "    \"lot_size\", \n",
    "    \"round(!lot_size!)\", \n",
    "    \"PYTHON3\", \n",
    "    None, \n",
    "    \"SHORT\"\n",
    ")"
   ]
  },
  {
   "cell_type": "code",
   "execution_count": null,
   "metadata": {},
   "outputs": [],
   "source": []
  },
  {
   "cell_type": "code",
   "execution_count": 38,
   "metadata": {},
   "outputs": [
    {
     "data": {
      "text/html": [
       "<h2>Output</h2>a Layer object<h2>Messages</h2>Start Time: Thursday, February 10, 2022 8:54:54 PM<br/>Adding lot_width to residential_parcels...<br/>Succeeded at Thursday, February 10, 2022 8:54:57 PM (Elapsed Time: 2.81 seconds)<br/><style>.rendered_html td, .rendered_html th {text-align: left;}.rendered_html tbody {border: 1px solid black;}</style>"
      ],
      "text/plain": [
       "<Result 'residential_parcels'>"
      ]
     },
     "execution_count": 38,
     "metadata": {},
     "output_type": "execute_result"
    }
   ],
   "source": [
    "arcpy.management.CalculateField(\n",
    "    \"residential_parcels\", \n",
    "    \"lot_width\", \n",
    "    \"!MBG_Width!\", \n",
    "    \"PYTHON3\", \n",
    "    None, \n",
    "    \"SHORT\"\n",
    ")"
   ]
  },
  {
   "cell_type": "code",
   "execution_count": 4,
   "metadata": {},
   "outputs": [
    {
     "data": {
      "text/html": [
       "<h2>Output</h2>a Layer object<h2>Messages</h2>Start Time: Friday, February 11, 2022 2:20:14 PM<br/>Succeeded at Friday, February 11, 2022 2:20:22 PM (Elapsed Time: 7.91 seconds)<br/><style>.rendered_html td, .rendered_html th {text-align: left;}.rendered_html tbody {border: 1px solid black;}</style>"
      ],
      "text/plain": [
       "<Result 'residential_parcels'>"
      ]
     },
     "execution_count": 4,
     "metadata": {},
     "output_type": "execute_result"
    }
   ],
   "source": [
    "codeblock = \"\"\"\n",
    "def eval_zoning(zone):\n",
    "    if zone in ['R-S', 'R-1', 'RMH']:\n",
    "        return 1\n",
    "    elif zone == 'R-2':\n",
    "        return 2\n",
    "    elif zone == 'R-3':\n",
    "        return 3\n",
    "    elif zone in ['R-4', 'R-5', 'R-O']:\n",
    "        return 5\n",
    "    else:\n",
    "        return 0\n",
    "\"\"\"\n",
    "\n",
    "arcpy.management.CalculateField(\n",
    "    \"residential_parcels\", \n",
    "    \"zoning_allows\", \n",
    "    \"eval_zoning(!zoning!)\", \n",
    "    \"PYTHON3\", \n",
    "    codeblock, \n",
    "    \"SHORT\"\n",
    ")"
   ]
  },
  {
   "cell_type": "code",
   "execution_count": 42,
   "metadata": {},
   "outputs": [
    {
     "data": {
      "text/html": [
       "<h2>Output</h2>a Layer object<h2>Messages</h2>Start Time: Thursday, February 10, 2022 9:04:29 PM<br/>Succeeded at Thursday, February 10, 2022 9:04:39 PM (Elapsed Time: 9.86 seconds)<br/><style>.rendered_html td, .rendered_html th {text-align: left;}.rendered_html tbody {border: 1px solid black;}</style>"
      ],
      "text/plain": [
       "<Result 'residential_parcels'>"
      ]
     },
     "execution_count": 42,
     "metadata": {},
     "output_type": "execute_result"
    }
   ],
   "source": [
    "codeblock = \"\"\"\n",
    "def eval_lot_size(zone, sf):\n",
    "    if zone in ['R-S', 'R-1']:\n",
    "        if sf >= 4000:\n",
    "            return 1\n",
    "        else:\n",
    "            return 0\n",
    "    elif zone in ['R-2']:\n",
    "        if sf >= 5000:\n",
    "            return 2\n",
    "        elif sf >= 4000:\n",
    "            return 1\n",
    "        else:\n",
    "            return 0\n",
    "    elif zone in ['R-3']:\n",
    "        if sf >= 9000:\n",
    "            return 3\n",
    "        if sf >= 5000:\n",
    "            return 2\n",
    "        if sf >= 4000:\n",
    "            return 1\n",
    "        else:\n",
    "            return 0\n",
    "    elif zone in ['R-4', 'R-O']:\n",
    "        if sf >= 12000:\n",
    "            return 4\n",
    "        if sf >= 9000:\n",
    "            return 3\n",
    "        if sf >= 5000:\n",
    "            return 2\n",
    "        if sf >= 4000:\n",
    "            return 1\n",
    "        else:\n",
    "            return 0\n",
    "    elif zone in ['R-5']:\n",
    "        if sf >= 5000:\n",
    "            return 5\n",
    "        if sf >= 3000:\n",
    "            return 1\n",
    "        else:\n",
    "            return 0\n",
    "    else:\n",
    "        return 0\n",
    "\"\"\"\n",
    "\n",
    "arcpy.management.CalculateField(\n",
    "    \"residential_parcels\", \n",
    "    \"lot_size_allows\", \n",
    "    \"eval_lot_size(!zoning!, !lot_size!)\", \n",
    "    \"PYTHON3\", \n",
    "    codeblock, \n",
    "    \"SHORT\"\n",
    ")"
   ]
  },
  {
   "cell_type": "code",
   "execution_count": 44,
   "metadata": {},
   "outputs": [
    {
     "data": {
      "text/html": [
       "<h2>Output</h2>a Layer object<h2>Messages</h2>Start Time: Thursday, February 10, 2022 9:07:25 PM<br/>Succeeded at Thursday, February 10, 2022 9:07:33 PM (Elapsed Time: 8.14 seconds)<br/><style>.rendered_html td, .rendered_html th {text-align: left;}.rendered_html tbody {border: 1px solid black;}</style>"
      ],
      "text/plain": [
       "<Result 'residential_parcels'>"
      ]
     },
     "execution_count": 44,
     "metadata": {},
     "output_type": "execute_result"
    }
   ],
   "source": [
    "codeblock = \"\"\"\n",
    "def eval_lot_width(zone, w):\n",
    "    if zone in ['R-S', 'R-1']:\n",
    "        if w >= 50:\n",
    "            return 1\n",
    "        else:\n",
    "            return 0\n",
    "    elif zone in ['R-2']:\n",
    "        if w >= 60:\n",
    "            return 2\n",
    "        elif w >= 50:\n",
    "            return 1\n",
    "        else:\n",
    "            return 0\n",
    "    elif zone in ['R-3']:\n",
    "        if w >= 60:\n",
    "            return 3\n",
    "        if w >= 50:\n",
    "            return 1\n",
    "        else:\n",
    "            return 0\n",
    "    elif zone in ['R-4', 'R-O']:\n",
    "        if w >= 60:\n",
    "            return 4\n",
    "        if w >= 50:\n",
    "            return 2\n",
    "        else:\n",
    "            return 0\n",
    "    elif zone in ['R-5']:\n",
    "        if w >= 50:\n",
    "            return 5\n",
    "        if w >= 35:\n",
    "            return 1\n",
    "        else:\n",
    "            return 0\n",
    "    else:\n",
    "        return 0\n",
    "\"\"\"\n",
    "\n",
    "arcpy.management.CalculateField(\n",
    "    \"residential_parcels\", \n",
    "    \"lot_width_allows\", \n",
    "    \"eval_lot_width(!zoning!, !lot_width!)\", \n",
    "    \"PYTHON3\", \n",
    "    codeblock, \n",
    "    \"SHORT\"\n",
    ")"
   ]
  },
  {
   "cell_type": "code",
   "execution_count": 9,
   "metadata": {},
   "outputs": [
    {
     "data": {
      "text/html": [
       "<h2>Output</h2>a Layer object<h2>Messages</h2>Start Time: Friday, February 11, 2022 2:31:00 PM<br/>Succeeded at Friday, February 11, 2022 2:31:07 PM (Elapsed Time: 7.02 seconds)<br/><style>.rendered_html td, .rendered_html th {text-align: left;}.rendered_html tbody {border: 1px solid black;}</style>"
      ],
      "text/plain": [
       "<Result 'residential_parcels'>"
      ]
     },
     "execution_count": 9,
     "metadata": {},
     "output_type": "execute_result"
    }
   ],
   "source": [
    "codeblock = \"\"\"\n",
    "def units(zone, size, width):\n",
    "    return max(1, min(zone, size, width))\n",
    "\"\"\"\n",
    "arcpy.management.CalculateField(\n",
    "    \"residential_parcels\", \n",
    "    \"units_allowed\", \n",
    "    \"units(!zoning_allows!, !lot_size_allows!, !lot_width_allows!)\",\n",
    "    \"PYTHON3\",\n",
    "    codeblock,\n",
    "    \"SHORT\"\n",
    ")"
   ]
  },
  {
   "cell_type": "code",
   "execution_count": 41,
   "metadata": {},
   "outputs": [
    {
     "data": {
      "text/html": [
       "<h2>Output</h2>a Layer object<h2>Messages</h2>Start Time: Friday, February 11, 2022 4:51:37 PM<br/>Succeeded at Friday, February 11, 2022 4:51:44 PM (Elapsed Time: 6.52 seconds)<br/><style>.rendered_html td, .rendered_html th {text-align: left;}.rendered_html tbody {border: 1px solid black;}</style>"
      ],
      "text/plain": [
       "<Result 'residential_parcels'>"
      ]
     },
     "execution_count": 41,
     "metadata": {},
     "output_type": "execute_result"
    }
   ],
   "source": [
    "codeblock = \"\"\"\n",
    "def categorize(zone):\n",
    "    if zone in ['R-2', 'R-3', 'R-4', 'R-5', 'R-O']:\n",
    "        return \"Penalized Multifamily\"\n",
    "    elif zone in ['R-1', 'R-S', 'RMH']:\n",
    "        return \"Single-Family\"\n",
    "\"\"\"\n",
    "arcpy.management.CalculateField(\n",
    "    \"residential_parcels\", \n",
    "    \"category\", \n",
    "    \"categorize(!zoning!)\",\n",
    "    \"PYTHON3\",\n",
    "    codeblock,\n",
    "    \"TEXT\"\n",
    ")"
   ]
  },
  {
   "cell_type": "code",
   "execution_count": 42,
   "metadata": {},
   "outputs": [
    {
     "data": {
      "text/html": [
       "<h2>Output</h2>shp\\Bozeman.gdb\\bozeman_residential_parcels<h2>Messages</h2>Start Time: Friday, February 11, 2022 4:51:57 PM<br/>Succeeded at Friday, February 11, 2022 4:52:05 PM (Elapsed Time: 8.16 seconds)<br/><style>.rendered_html td, .rendered_html th {text-align: left;}.rendered_html tbody {border: 1px solid black;}</style>"
      ],
      "text/plain": [
       "<Result 'shp\\\\Bozeman.gdb\\\\bozeman_residential_parcels'>"
      ]
     },
     "execution_count": 42,
     "metadata": {},
     "output_type": "execute_result"
    }
   ],
   "source": [
    "arcpy.conversion.FeatureClassToFeatureClass(\n",
    "    \"residential_parcels\", \n",
    "    gdb, \n",
    "    city.lower() + \"_residential_parcels\", \n",
    "    '', \n",
    "    'city \"city\" true true false 512 Text 0 0,First,#,residential_parcels,city,0,512;zoning \"zoning\" true true false 512 Text 0 0,First,#,residential_parcels,zoning,0,512;lot_size \"lot_size\" true true false 8 Double 0 0,First,#,residential_parcels,lot_size,-1,-1;lot_width \"lot_width\" true true false 2 Short 0 0,First,#,residential_parcels,lot_width,-1,-1;zoning_allows \"zoning_allows\" true true false 2 Short 0 0,First,#,residential_parcels,zoning_allows,-1,-1;lot_size_allows \"lot_size_allows\" true true false 2 Short 0 0,First,#,residential_parcels,lot_size_allows,-1,-1;lot_width_allows \"lot_width_allows\" true true false 2 Short 0 0,First,#,residential_parcels,lot_width_allows,-1,-1;units_allowed \"units_allowed\" true true false 2 Short 0 0,First,#,residential_parcels,units_allowed,-1,-1;category \"category\" true true false 512 Text 0 0,First,#,residential_parcels,category,0,512', \n",
    "    ''\n",
    ")"
   ]
  },
  {
   "cell_type": "code",
   "execution_count": null,
   "metadata": {},
   "outputs": [],
   "source": []
  }
 ],
 "metadata": {
  "kernelspec": {
   "display_name": "ArcGISPro",
   "language": "Python",
   "name": "python3"
  },
  "language_info": {
   "file_extension": ".py",
   "name": "python",
   "version": "3"
  }
 },
 "nbformat": 4,
 "nbformat_minor": 2
}
