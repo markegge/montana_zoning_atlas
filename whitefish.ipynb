{
 "cells": [
  {
   "cell_type": "code",
   "execution_count": 70,
   "metadata": {},
   "outputs": [
    {
     "data": {
      "text/plain": [
       "{'name': 'Whitefish', 'zoning_field': 'zone_use', 'county': 'Flathead', 'residential_zones': ['WA', 'WCR', 'WSR', 'WER', 'WLR', 'WR-1', 'WR-2', 'WR-3', 'WR-4', 'WRR-1', 'WRR-2', 'WBMRR'], 'gdb': 'cities\\\\Whitefish.gdb', 'layer': 'cities\\\\Whitefish.gdb\\\\Parcels_Whitefish'}"
      ]
     },
     "execution_count": 70,
     "metadata": {},
     "output_type": "execute_result"
    }
   ],
   "source": [
    "city = cities[index_of('Whitefish')]\n",
    "city"
   ]
  },
  {
   "cell_type": "code",
   "execution_count": 71,
   "metadata": {},
   "outputs": [
    {
     "data": {
      "text/html": [
       "<h2>Output</h2>cities\\Whitefish.gdb\\Parcels_Whitefish<h2>Messages</h2>Start Time: Saturday, February 12, 2022 5:25:23 PM<br/>Adding zoning_allows to Parcels_Whitefish...<br/>Succeeded at Saturday, February 12, 2022 5:25:24 PM (Elapsed Time: 1.25 seconds)<br/><style>.rendered_html td, .rendered_html th {text-align: left;}.rendered_html tbody {border: 1px solid black;}</style>"
      ],
      "text/plain": [
       "<Result 'cities\\\\Whitefish.gdb\\\\Parcels_Whitefish'>"
      ]
     },
     "execution_count": 71,
     "metadata": {},
     "output_type": "execute_result"
    }
   ],
   "source": [
    "codeblock = \"\"\"\n",
    "def eval_zoning(zone):\n",
    "    if zone in ['WA', 'WCR', 'WSR', 'WER', 'WLR', 'WR-1']:\n",
    "        return 1\n",
    "    elif zone in ['WR-2']:\n",
    "        return 2\n",
    "    elif zone in ['WR-3', 'WRR-1', 'WRR-2']:\n",
    "        return 3\n",
    "    elif zone in ['WR-4']:\n",
    "        return 5\n",
    "    else:\n",
    "        return 0\n",
    "\"\"\"\n",
    "\n",
    "arcpy.management.CalculateField(\n",
    "    city['layer'], \n",
    "    \"zoning_allows\", \n",
    "    \"eval_zoning(!zoning!)\", \n",
    "    \"PYTHON3\", \n",
    "    codeblock, \n",
    "    \"SHORT\"\n",
    ")"
   ]
  },
  {
   "cell_type": "code",
   "execution_count": 72,
   "metadata": {},
   "outputs": [
    {
     "data": {
      "text/html": [
       "<h2>Output</h2>cities\\Whitefish.gdb\\Parcels_Whitefish<h2>Messages</h2>Start Time: Saturday, February 12, 2022 5:25:28 PM<br/>Adding lot_size_allows to Parcels_Whitefish...<br/>Succeeded at Saturday, February 12, 2022 5:25:32 PM (Elapsed Time: 4.18 seconds)<br/><style>.rendered_html td, .rendered_html th {text-align: left;}.rendered_html tbody {border: 1px solid black;}</style>"
      ],
      "text/plain": [
       "<Result 'cities\\\\Whitefish.gdb\\\\Parcels_Whitefish'>"
      ]
     },
     "execution_count": 72,
     "metadata": {},
     "output_type": "execute_result"
    }
   ],
   "source": [
    "codeblock = \"\"\"\n",
    "def eval_zoning(zone, lot_size):\n",
    "    if zone in ['WA', 'WCR', 'WSR', 'WER', 'WLR', 'WR-1']:\n",
    "        if lot_size >= 10000:\n",
    "            return 1\n",
    "        else:\n",
    "            return 0\n",
    "    elif zone == 'WR-2':\n",
    "        if lot_size >= 7200:\n",
    "            return 2\n",
    "        elif lot_size >= 6000:\n",
    "            return 1\n",
    "        else:\n",
    "            return 0\n",
    "    elif zone == 'WR-3':\n",
    "        if lot_size >= 6000:\n",
    "            return 3\n",
    "        else:\n",
    "            return 0\n",
    "    elif zone == 'WR-4':\n",
    "        return min(max(0, math.floor((lot_size - 5000) / 1000)), 5)\n",
    "    elif zone in ['WRR-1', 'WRR-2']:\n",
    "        return 3\n",
    "    else:\n",
    "        return 0\n",
    "\"\"\"\n",
    "\n",
    "arcpy.management.CalculateField(\n",
    "    city['layer'], \n",
    "    \"lot_size_allows\", \n",
    "    \"eval_zoning(!zoning!, !lot_size!)\", \n",
    "    \"PYTHON3\", \n",
    "    codeblock, \n",
    "    \"SHORT\"\n",
    ")"
   ]
  },
  {
   "cell_type": "code",
   "execution_count": 73,
   "metadata": {},
   "outputs": [
    {
     "data": {
      "text/html": [
       "<h2>Output</h2>cities\\Whitefish.gdb\\Parcels_Whitefish<h2>Messages</h2>Start Time: Saturday, February 12, 2022 5:25:35 PM<br/>Adding lot_width_allows to Parcels_Whitefish...<br/>Succeeded at Saturday, February 12, 2022 5:25:36 PM (Elapsed Time: 1.11 seconds)<br/><style>.rendered_html td, .rendered_html th {text-align: left;}.rendered_html tbody {border: 1px solid black;}</style>"
      ],
      "text/plain": [
       "<Result 'cities\\\\Whitefish.gdb\\\\Parcels_Whitefish'>"
      ]
     },
     "execution_count": 73,
     "metadata": {},
     "output_type": "execute_result"
    }
   ],
   "source": [
    "codeblock = \"\"\"\n",
    "def eval_zoning(zone, lot_width):\n",
    "    if zone in ['WA', 'WCR']:\n",
    "        return 5\n",
    "    elif zone == 'WSR' and lot_width >= 130:\n",
    "        return 1\n",
    "    elif zone == 'WER' and lot_width >= 100:\n",
    "        return 1\n",
    "    elif zone == 'WLR' and lot_width >= 80:\n",
    "        return 1\n",
    "    elif zone == 'WR-1' and lot_width >= 60:\n",
    "        return 1\n",
    "    elif zone == 'WR-2' and lot_width >= 50:\n",
    "        return 2\n",
    "    elif zone == 'WR-3' and lot_width >= 50:\n",
    "        return 3\n",
    "    elif zone == 'WR-4' and lot_width >= 50:\n",
    "        return 5\n",
    "    elif zone in ['WRR-1', 'WRR-2']:\n",
    "        return 3\n",
    "    else:\n",
    "        return 0\n",
    "\"\"\"\n",
    "\n",
    "arcpy.management.CalculateField(\n",
    "    city['layer'], \n",
    "    \"lot_width_allows\", \n",
    "    \"eval_zoning(!zoning!, !lot_width!)\", \n",
    "    \"PYTHON3\", \n",
    "    codeblock, \n",
    "    \"SHORT\"\n",
    ")"
   ]
  },
  {
   "cell_type": "code",
   "execution_count": 74,
   "metadata": {},
   "outputs": [
    {
     "data": {
      "text/html": [
       "<h2>Output</h2>cities\\Whitefish.gdb\\Parcels_Whitefish<h2>Messages</h2>Start Time: Saturday, February 12, 2022 5:25:38 PM<br/>Adding category to Parcels_Whitefish...<br/>Succeeded at Saturday, February 12, 2022 5:25:39 PM (Elapsed Time: 1.74 seconds)<br/><style>.rendered_html td, .rendered_html th {text-align: left;}.rendered_html tbody {border: 1px solid black;}</style>"
      ],
      "text/plain": [
       "<Result 'cities\\\\Whitefish.gdb\\\\Parcels_Whitefish'>"
      ]
     },
     "execution_count": 74,
     "metadata": {},
     "output_type": "execute_result"
    }
   ],
   "source": [
    "codeblock = \"\"\"\n",
    "def categorize(zone):\n",
    "    if zone in ['WA', 'WCR', 'WSR', 'WER', 'WLR', 'WR-1']:\n",
    "        return \"Single-Family\"\n",
    "    elif zone == 'WR-3':\n",
    "        return \"Multifamily\"\n",
    "    else:\n",
    "        return \"Penalized Multifamily\"\n",
    "\"\"\"\n",
    "arcpy.management.CalculateField(\n",
    "    city['layer'], \n",
    "    \"category\", \n",
    "    \"categorize(!zoning!)\",\n",
    "    \"PYTHON3\",\n",
    "    codeblock,\n",
    "    \"TEXT\"\n",
    ")"
   ]
  },
  {
   "cell_type": "code",
   "execution_count": null,
   "metadata": {},
   "outputs": [],
   "source": []
  },
  {
   "cell_type": "code",
   "execution_count": null,
   "metadata": {},
   "outputs": [],
   "source": []
  }
 ],
 "metadata": {
  "kernelspec": {
   "display_name": "ArcGISPro",
   "language": "Python",
   "name": "python3"
  },
  "language_info": {
   "file_extension": ".py",
   "name": "python",
   "version": "3"
  }
 },
 "nbformat": 4,
 "nbformat_minor": 2
}
